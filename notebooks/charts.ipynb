{
 "cells": [
  {
   "cell_type": "code",
   "execution_count": 1,
   "metadata": {},
   "outputs": [],
   "source": [
    "import pandas as pd\n",
    "import plotly.express as px\n",
    "import plotly.graph_objects as go"
   ]
  },
  {
   "cell_type": "markdown",
   "metadata": {},
   "source": [
    "# ONE 0"
   ]
  },
  {
   "cell_type": "code",
   "execution_count": 4,
   "metadata": {},
   "outputs": [
    {
     "data": {
      "text/html": [
       "<div>\n",
       "<style scoped>\n",
       "    .dataframe tbody tr th:only-of-type {\n",
       "        vertical-align: middle;\n",
       "    }\n",
       "\n",
       "    .dataframe tbody tr th {\n",
       "        vertical-align: top;\n",
       "    }\n",
       "\n",
       "    .dataframe thead th {\n",
       "        text-align: right;\n",
       "    }\n",
       "</style>\n",
       "<table border=\"1\" class=\"dataframe\">\n",
       "  <thead>\n",
       "    <tr style=\"text-align: right;\">\n",
       "      <th></th>\n",
       "      <th>Unnamed: 0</th>\n",
       "      <th>año</th>\n",
       "      <th>afiliados (total)</th>\n",
       "      <th>afiliados (subsidiado)</th>\n",
       "      <th>afiliados (contributivo)</th>\n",
       "      <th>numero de cápitas pagadas (total)</th>\n",
       "      <th>numero de cápitas pagadas (subsidiado)</th>\n",
       "      <th>numero de cápitas pagadas (contributivo)</th>\n",
       "      <th>número de cápitas /afiliado (total)</th>\n",
       "      <th>número de cápitas /afiliado (subsidiado)</th>\n",
       "      <th>número de cápitas /afiliado (contributivo)</th>\n",
       "    </tr>\n",
       "  </thead>\n",
       "  <tbody>\n",
       "    <tr>\n",
       "      <th>0</th>\n",
       "      <td>1</td>\n",
       "      <td>2005</td>\n",
       "      <td>253374</td>\n",
       "      <td>253374</td>\n",
       "      <td>0</td>\n",
       "      <td>266531</td>\n",
       "      <td>266531</td>\n",
       "      <td>0</td>\n",
       "      <td>1.051927</td>\n",
       "      <td>1.051927</td>\n",
       "      <td>0.000000</td>\n",
       "    </tr>\n",
       "    <tr>\n",
       "      <th>1</th>\n",
       "      <td>2</td>\n",
       "      <td>2006</td>\n",
       "      <td>514040</td>\n",
       "      <td>514040</td>\n",
       "      <td>0</td>\n",
       "      <td>513416</td>\n",
       "      <td>513416</td>\n",
       "      <td>0</td>\n",
       "      <td>0.998786</td>\n",
       "      <td>0.998786</td>\n",
       "      <td>0.000000</td>\n",
       "    </tr>\n",
       "    <tr>\n",
       "      <th>2</th>\n",
       "      <td>3</td>\n",
       "      <td>2007</td>\n",
       "      <td>2559117</td>\n",
       "      <td>1081936</td>\n",
       "      <td>1477181</td>\n",
       "      <td>2681403</td>\n",
       "      <td>1081936</td>\n",
       "      <td>1599467</td>\n",
       "      <td>1.047784</td>\n",
       "      <td>1.000000</td>\n",
       "      <td>1.082783</td>\n",
       "    </tr>\n",
       "    <tr>\n",
       "      <th>3</th>\n",
       "      <td>4</td>\n",
       "      <td>2008</td>\n",
       "      <td>2917157</td>\n",
       "      <td>1224898</td>\n",
       "      <td>1692259</td>\n",
       "      <td>2954314</td>\n",
       "      <td>1224643</td>\n",
       "      <td>1729671</td>\n",
       "      <td>1.012737</td>\n",
       "      <td>0.999792</td>\n",
       "      <td>1.022108</td>\n",
       "    </tr>\n",
       "    <tr>\n",
       "      <th>4</th>\n",
       "      <td>5</td>\n",
       "      <td>2009</td>\n",
       "      <td>3492524</td>\n",
       "      <td>1404225</td>\n",
       "      <td>2088299</td>\n",
       "      <td>3442398</td>\n",
       "      <td>1346166</td>\n",
       "      <td>2096232</td>\n",
       "      <td>0.985648</td>\n",
       "      <td>0.958654</td>\n",
       "      <td>1.003799</td>\n",
       "    </tr>\n",
       "    <tr>\n",
       "      <th>5</th>\n",
       "      <td>6</td>\n",
       "      <td>2010</td>\n",
       "      <td>4377869</td>\n",
       "      <td>2013786</td>\n",
       "      <td>2364083</td>\n",
       "      <td>4265825</td>\n",
       "      <td>1847833</td>\n",
       "      <td>2417992</td>\n",
       "      <td>0.974407</td>\n",
       "      <td>0.917592</td>\n",
       "      <td>1.022803</td>\n",
       "    </tr>\n",
       "    <tr>\n",
       "      <th>6</th>\n",
       "      <td>7</td>\n",
       "      <td>2011</td>\n",
       "      <td>4520850</td>\n",
       "      <td>2003427</td>\n",
       "      <td>2517423</td>\n",
       "      <td>4583278</td>\n",
       "      <td>1996335</td>\n",
       "      <td>2586943</td>\n",
       "      <td>1.013809</td>\n",
       "      <td>0.996460</td>\n",
       "      <td>1.027616</td>\n",
       "    </tr>\n",
       "    <tr>\n",
       "      <th>7</th>\n",
       "      <td>8</td>\n",
       "      <td>2012</td>\n",
       "      <td>4991762</td>\n",
       "      <td>2303351</td>\n",
       "      <td>2688411</td>\n",
       "      <td>5042091</td>\n",
       "      <td>2294356</td>\n",
       "      <td>2747735</td>\n",
       "      <td>1.010082</td>\n",
       "      <td>0.996095</td>\n",
       "      <td>1.022067</td>\n",
       "    </tr>\n",
       "    <tr>\n",
       "      <th>8</th>\n",
       "      <td>9</td>\n",
       "      <td>2013</td>\n",
       "      <td>5611059</td>\n",
       "      <td>2751753</td>\n",
       "      <td>2859306</td>\n",
       "      <td>5612213</td>\n",
       "      <td>2646899</td>\n",
       "      <td>2965314</td>\n",
       "      <td>1.000206</td>\n",
       "      <td>0.961896</td>\n",
       "      <td>1.037075</td>\n",
       "    </tr>\n",
       "    <tr>\n",
       "      <th>9</th>\n",
       "      <td>10</td>\n",
       "      <td>2014</td>\n",
       "      <td>6157245</td>\n",
       "      <td>3015646</td>\n",
       "      <td>3141599</td>\n",
       "      <td>6240593</td>\n",
       "      <td>3015646</td>\n",
       "      <td>3224947</td>\n",
       "      <td>1.013537</td>\n",
       "      <td>1.000000</td>\n",
       "      <td>1.026530</td>\n",
       "    </tr>\n",
       "    <tr>\n",
       "      <th>10</th>\n",
       "      <td>11</td>\n",
       "      <td>2015</td>\n",
       "      <td>6657243</td>\n",
       "      <td>3317405</td>\n",
       "      <td>3339838</td>\n",
       "      <td>6517618</td>\n",
       "      <td>3110557</td>\n",
       "      <td>3407061</td>\n",
       "      <td>0.979027</td>\n",
       "      <td>0.937648</td>\n",
       "      <td>1.020128</td>\n",
       "    </tr>\n",
       "    <tr>\n",
       "      <th>11</th>\n",
       "      <td>12</td>\n",
       "      <td>2016</td>\n",
       "      <td>6938356</td>\n",
       "      <td>3347068</td>\n",
       "      <td>3591288</td>\n",
       "      <td>7053382</td>\n",
       "      <td>3353566</td>\n",
       "      <td>3699816</td>\n",
       "      <td>1.016578</td>\n",
       "      <td>1.001941</td>\n",
       "      <td>1.030220</td>\n",
       "    </tr>\n",
       "    <tr>\n",
       "      <th>12</th>\n",
       "      <td>13</td>\n",
       "      <td>2017</td>\n",
       "      <td>7449280</td>\n",
       "      <td>3546688</td>\n",
       "      <td>3902592</td>\n",
       "      <td>7565682</td>\n",
       "      <td>3545383</td>\n",
       "      <td>4020299</td>\n",
       "      <td>1.015626</td>\n",
       "      <td>0.999632</td>\n",
       "      <td>1.030161</td>\n",
       "    </tr>\n",
       "    <tr>\n",
       "      <th>13</th>\n",
       "      <td>14</td>\n",
       "      <td>2018</td>\n",
       "      <td>7774137</td>\n",
       "      <td>3620150</td>\n",
       "      <td>4153987</td>\n",
       "      <td>7831518</td>\n",
       "      <td>3591049</td>\n",
       "      <td>4240469</td>\n",
       "      <td>1.007381</td>\n",
       "      <td>0.991961</td>\n",
       "      <td>1.020819</td>\n",
       "    </tr>\n",
       "    <tr>\n",
       "      <th>14</th>\n",
       "      <td>15</td>\n",
       "      <td>2019</td>\n",
       "      <td>7954923</td>\n",
       "      <td>3726262</td>\n",
       "      <td>4228661</td>\n",
       "      <td>8021503</td>\n",
       "      <td>3711158</td>\n",
       "      <td>4310345</td>\n",
       "      <td>1.008370</td>\n",
       "      <td>0.995947</td>\n",
       "      <td>1.019317</td>\n",
       "    </tr>\n",
       "    <tr>\n",
       "      <th>15</th>\n",
       "      <td>16</td>\n",
       "      <td>2020</td>\n",
       "      <td>9961742</td>\n",
       "      <td>5746839</td>\n",
       "      <td>4214903</td>\n",
       "      <td>10087942</td>\n",
       "      <td>5742227</td>\n",
       "      <td>4345715</td>\n",
       "      <td>1.012668</td>\n",
       "      <td>0.999197</td>\n",
       "      <td>1.031036</td>\n",
       "    </tr>\n",
       "    <tr>\n",
       "      <th>16</th>\n",
       "      <td>17</td>\n",
       "      <td>2021</td>\n",
       "      <td>10032808</td>\n",
       "      <td>5747449</td>\n",
       "      <td>4285359</td>\n",
       "      <td>4359036</td>\n",
       "      <td>0</td>\n",
       "      <td>4359036</td>\n",
       "      <td>0.434478</td>\n",
       "      <td>0.000000</td>\n",
       "      <td>1.017193</td>\n",
       "    </tr>\n",
       "    <tr>\n",
       "      <th>17</th>\n",
       "      <td>21</td>\n",
       "      <td>2022</td>\n",
       "      <td>10339111</td>\n",
       "      <td>5770201</td>\n",
       "      <td>4568910</td>\n",
       "      <td>4649234</td>\n",
       "      <td>0</td>\n",
       "      <td>4649234</td>\n",
       "      <td>0.449674</td>\n",
       "      <td>0.000000</td>\n",
       "      <td>1.017581</td>\n",
       "    </tr>\n",
       "    <tr>\n",
       "      <th>18</th>\n",
       "      <td>25</td>\n",
       "      <td>2023</td>\n",
       "      <td>10267254</td>\n",
       "      <td>5690186</td>\n",
       "      <td>4577068</td>\n",
       "      <td>4662640</td>\n",
       "      <td>0</td>\n",
       "      <td>4662640</td>\n",
       "      <td>0.509348</td>\n",
       "      <td>0.000000</td>\n",
       "      <td>1.018696</td>\n",
       "    </tr>\n",
       "  </tbody>\n",
       "</table>\n",
       "</div>"
      ],
      "text/plain": [
       "    Unnamed: 0   año  afiliados (total)  afiliados (subsidiado)  \\\n",
       "0            1  2005             253374                  253374   \n",
       "1            2  2006             514040                  514040   \n",
       "2            3  2007            2559117                 1081936   \n",
       "3            4  2008            2917157                 1224898   \n",
       "4            5  2009            3492524                 1404225   \n",
       "5            6  2010            4377869                 2013786   \n",
       "6            7  2011            4520850                 2003427   \n",
       "7            8  2012            4991762                 2303351   \n",
       "8            9  2013            5611059                 2751753   \n",
       "9           10  2014            6157245                 3015646   \n",
       "10          11  2015            6657243                 3317405   \n",
       "11          12  2016            6938356                 3347068   \n",
       "12          13  2017            7449280                 3546688   \n",
       "13          14  2018            7774137                 3620150   \n",
       "14          15  2019            7954923                 3726262   \n",
       "15          16  2020            9961742                 5746839   \n",
       "16          17  2021           10032808                 5747449   \n",
       "17          21  2022           10339111                 5770201   \n",
       "18          25  2023           10267254                 5690186   \n",
       "\n",
       "    afiliados (contributivo)  numero de cápitas pagadas (total)  \\\n",
       "0                          0                             266531   \n",
       "1                          0                             513416   \n",
       "2                    1477181                            2681403   \n",
       "3                    1692259                            2954314   \n",
       "4                    2088299                            3442398   \n",
       "5                    2364083                            4265825   \n",
       "6                    2517423                            4583278   \n",
       "7                    2688411                            5042091   \n",
       "8                    2859306                            5612213   \n",
       "9                    3141599                            6240593   \n",
       "10                   3339838                            6517618   \n",
       "11                   3591288                            7053382   \n",
       "12                   3902592                            7565682   \n",
       "13                   4153987                            7831518   \n",
       "14                   4228661                            8021503   \n",
       "15                   4214903                           10087942   \n",
       "16                   4285359                            4359036   \n",
       "17                   4568910                            4649234   \n",
       "18                   4577068                            4662640   \n",
       "\n",
       "    numero de cápitas pagadas (subsidiado)  \\\n",
       "0                                   266531   \n",
       "1                                   513416   \n",
       "2                                  1081936   \n",
       "3                                  1224643   \n",
       "4                                  1346166   \n",
       "5                                  1847833   \n",
       "6                                  1996335   \n",
       "7                                  2294356   \n",
       "8                                  2646899   \n",
       "9                                  3015646   \n",
       "10                                 3110557   \n",
       "11                                 3353566   \n",
       "12                                 3545383   \n",
       "13                                 3591049   \n",
       "14                                 3711158   \n",
       "15                                 5742227   \n",
       "16                                       0   \n",
       "17                                       0   \n",
       "18                                       0   \n",
       "\n",
       "    numero de cápitas pagadas (contributivo)  \\\n",
       "0                                          0   \n",
       "1                                          0   \n",
       "2                                    1599467   \n",
       "3                                    1729671   \n",
       "4                                    2096232   \n",
       "5                                    2417992   \n",
       "6                                    2586943   \n",
       "7                                    2747735   \n",
       "8                                    2965314   \n",
       "9                                    3224947   \n",
       "10                                   3407061   \n",
       "11                                   3699816   \n",
       "12                                   4020299   \n",
       "13                                   4240469   \n",
       "14                                   4310345   \n",
       "15                                   4345715   \n",
       "16                                   4359036   \n",
       "17                                   4649234   \n",
       "18                                   4662640   \n",
       "\n",
       "    número de cápitas /afiliado (total)  \\\n",
       "0                              1.051927   \n",
       "1                              0.998786   \n",
       "2                              1.047784   \n",
       "3                              1.012737   \n",
       "4                              0.985648   \n",
       "5                              0.974407   \n",
       "6                              1.013809   \n",
       "7                              1.010082   \n",
       "8                              1.000206   \n",
       "9                              1.013537   \n",
       "10                             0.979027   \n",
       "11                             1.016578   \n",
       "12                             1.015626   \n",
       "13                             1.007381   \n",
       "14                             1.008370   \n",
       "15                             1.012668   \n",
       "16                             0.434478   \n",
       "17                             0.449674   \n",
       "18                             0.509348   \n",
       "\n",
       "    número de cápitas /afiliado (subsidiado)  \\\n",
       "0                                   1.051927   \n",
       "1                                   0.998786   \n",
       "2                                   1.000000   \n",
       "3                                   0.999792   \n",
       "4                                   0.958654   \n",
       "5                                   0.917592   \n",
       "6                                   0.996460   \n",
       "7                                   0.996095   \n",
       "8                                   0.961896   \n",
       "9                                   1.000000   \n",
       "10                                  0.937648   \n",
       "11                                  1.001941   \n",
       "12                                  0.999632   \n",
       "13                                  0.991961   \n",
       "14                                  0.995947   \n",
       "15                                  0.999197   \n",
       "16                                  0.000000   \n",
       "17                                  0.000000   \n",
       "18                                  0.000000   \n",
       "\n",
       "    número de cápitas /afiliado (contributivo)  \n",
       "0                                     0.000000  \n",
       "1                                     0.000000  \n",
       "2                                     1.082783  \n",
       "3                                     1.022108  \n",
       "4                                     1.003799  \n",
       "5                                     1.022803  \n",
       "6                                     1.027616  \n",
       "7                                     1.022067  \n",
       "8                                     1.037075  \n",
       "9                                     1.026530  \n",
       "10                                    1.020128  \n",
       "11                                    1.030220  \n",
       "12                                    1.030161  \n",
       "13                                    1.020819  \n",
       "14                                    1.019317  \n",
       "15                                    1.031036  \n",
       "16                                    1.017193  \n",
       "17                                    1.017581  \n",
       "18                                    1.018696  "
      ]
     },
     "execution_count": 4,
     "metadata": {},
     "output_type": "execute_result"
    }
   ],
   "source": [
    "data = pd.read_excel('../data/processed/one/one 0.xlsx')\n",
    "data"
   ]
  },
  {
   "cell_type": "code",
   "execution_count": 11,
   "metadata": {},
   "outputs": [
    {
     "data": {
      "application/vnd.plotly.v1+json": {
       "config": {
        "plotlyServerURL": "https://plot.ly"
       },
       "data": [
        {
         "hovertemplate": "variable=afiliados (total)<br>año=%{x}<br>value=%{y}<extra></extra>",
         "legendgroup": "afiliados (total)",
         "line": {
          "color": "#636efa",
          "dash": "solid"
         },
         "marker": {
          "symbol": "circle"
         },
         "mode": "lines+markers",
         "name": "afiliados (total)",
         "orientation": "v",
         "showlegend": true,
         "type": "scatter",
         "x": {
          "bdata": "1QfWB9cH2AfZB9oH2wfcB90H3gffB+AH4QfiB+MH5AflB+YH5wc=",
          "dtype": "i2"
         },
         "xaxis": "x",
         "y": {
          "bdata": "vt0DAPjXBwCNDCcAJYMsAKxKNQANzUIAkvtEABIrTAAznlUAvfNdANuUZQD03mkAwKpxALmfdgDrYXkADgGYAKgWmQAnw50AdqqcAA==",
          "dtype": "i4"
         },
         "yaxis": "y"
        },
        {
         "hovertemplate": "variable=afiliados (subsidiado)<br>año=%{x}<br>value=%{y}<extra></extra>",
         "legendgroup": "afiliados (subsidiado)",
         "line": {
          "color": "#EF553B",
          "dash": "solid"
         },
         "marker": {
          "symbol": "circle"
         },
         "mode": "lines+markers",
         "name": "afiliados (subsidiado)",
         "orientation": "v",
         "showlegend": true,
         "type": "scatter",
         "x": {
          "bdata": "1QfWB9cH2AfZB9oH2wfcB90H3gffB+AH4QfiB+MH5AflB+YH5wc=",
          "dtype": "i2"
         },
         "xaxis": "x",
         "y": {
          "bdata": "vt0DAPjXBwBQghAAwrASAEFtFQBauh4A45EeAHclIwAJ/SkA3gMuAJ2eMgB8EjMAQB42ADY9NwC22zgAl7BXAPmyVwDZC1gAStNWAA==",
          "dtype": "i4"
         },
         "yaxis": "y"
        },
        {
         "hovertemplate": "variable=afiliados (contributivo)<br>año=%{x}<br>value=%{y}<extra></extra>",
         "legendgroup": "afiliados (contributivo)",
         "line": {
          "color": "#00cc96",
          "dash": "solid"
         },
         "marker": {
          "symbol": "circle"
         },
         "mode": "lines+markers",
         "name": "afiliados (contributivo)",
         "orientation": "v",
         "showlegend": true,
         "type": "scatter",
         "x": {
          "bdata": "1QfWB9cH2AfZB9oH2wfcB90H3gffB+AH4QfiB+MH5AflB+YH5wc=",
          "dtype": "i2"
         },
         "xaxis": "x",
         "y": {
          "bdata": "AAAAAAAAAAA9ihYAY9IZAGvdHwCzEiQAr2kmAJsFKQAqoSsA3+8vAD72MgB4zDYAgIw7AINiPwA1hkAAd1BAAK9jQQBOt0UALNdFAA==",
          "dtype": "i4"
         },
         "yaxis": "y"
        }
       ],
       "layout": {
        "legend": {
         "title": {
          "text": "variable"
         },
         "tracegroupgap": 0
        },
        "margin": {
         "t": 60
        },
        "template": {
         "data": {
          "bar": [
           {
            "error_x": {
             "color": "#2a3f5f"
            },
            "error_y": {
             "color": "#2a3f5f"
            },
            "marker": {
             "line": {
              "color": "#E5ECF6",
              "width": 0.5
             },
             "pattern": {
              "fillmode": "overlay",
              "size": 10,
              "solidity": 0.2
             }
            },
            "type": "bar"
           }
          ],
          "barpolar": [
           {
            "marker": {
             "line": {
              "color": "#E5ECF6",
              "width": 0.5
             },
             "pattern": {
              "fillmode": "overlay",
              "size": 10,
              "solidity": 0.2
             }
            },
            "type": "barpolar"
           }
          ],
          "carpet": [
           {
            "aaxis": {
             "endlinecolor": "#2a3f5f",
             "gridcolor": "white",
             "linecolor": "white",
             "minorgridcolor": "white",
             "startlinecolor": "#2a3f5f"
            },
            "baxis": {
             "endlinecolor": "#2a3f5f",
             "gridcolor": "white",
             "linecolor": "white",
             "minorgridcolor": "white",
             "startlinecolor": "#2a3f5f"
            },
            "type": "carpet"
           }
          ],
          "choropleth": [
           {
            "colorbar": {
             "outlinewidth": 0,
             "ticks": ""
            },
            "type": "choropleth"
           }
          ],
          "contour": [
           {
            "colorbar": {
             "outlinewidth": 0,
             "ticks": ""
            },
            "colorscale": [
             [
              0,
              "#0d0887"
             ],
             [
              0.1111111111111111,
              "#46039f"
             ],
             [
              0.2222222222222222,
              "#7201a8"
             ],
             [
              0.3333333333333333,
              "#9c179e"
             ],
             [
              0.4444444444444444,
              "#bd3786"
             ],
             [
              0.5555555555555556,
              "#d8576b"
             ],
             [
              0.6666666666666666,
              "#ed7953"
             ],
             [
              0.7777777777777778,
              "#fb9f3a"
             ],
             [
              0.8888888888888888,
              "#fdca26"
             ],
             [
              1,
              "#f0f921"
             ]
            ],
            "type": "contour"
           }
          ],
          "contourcarpet": [
           {
            "colorbar": {
             "outlinewidth": 0,
             "ticks": ""
            },
            "type": "contourcarpet"
           }
          ],
          "heatmap": [
           {
            "colorbar": {
             "outlinewidth": 0,
             "ticks": ""
            },
            "colorscale": [
             [
              0,
              "#0d0887"
             ],
             [
              0.1111111111111111,
              "#46039f"
             ],
             [
              0.2222222222222222,
              "#7201a8"
             ],
             [
              0.3333333333333333,
              "#9c179e"
             ],
             [
              0.4444444444444444,
              "#bd3786"
             ],
             [
              0.5555555555555556,
              "#d8576b"
             ],
             [
              0.6666666666666666,
              "#ed7953"
             ],
             [
              0.7777777777777778,
              "#fb9f3a"
             ],
             [
              0.8888888888888888,
              "#fdca26"
             ],
             [
              1,
              "#f0f921"
             ]
            ],
            "type": "heatmap"
           }
          ],
          "histogram": [
           {
            "marker": {
             "pattern": {
              "fillmode": "overlay",
              "size": 10,
              "solidity": 0.2
             }
            },
            "type": "histogram"
           }
          ],
          "histogram2d": [
           {
            "colorbar": {
             "outlinewidth": 0,
             "ticks": ""
            },
            "colorscale": [
             [
              0,
              "#0d0887"
             ],
             [
              0.1111111111111111,
              "#46039f"
             ],
             [
              0.2222222222222222,
              "#7201a8"
             ],
             [
              0.3333333333333333,
              "#9c179e"
             ],
             [
              0.4444444444444444,
              "#bd3786"
             ],
             [
              0.5555555555555556,
              "#d8576b"
             ],
             [
              0.6666666666666666,
              "#ed7953"
             ],
             [
              0.7777777777777778,
              "#fb9f3a"
             ],
             [
              0.8888888888888888,
              "#fdca26"
             ],
             [
              1,
              "#f0f921"
             ]
            ],
            "type": "histogram2d"
           }
          ],
          "histogram2dcontour": [
           {
            "colorbar": {
             "outlinewidth": 0,
             "ticks": ""
            },
            "colorscale": [
             [
              0,
              "#0d0887"
             ],
             [
              0.1111111111111111,
              "#46039f"
             ],
             [
              0.2222222222222222,
              "#7201a8"
             ],
             [
              0.3333333333333333,
              "#9c179e"
             ],
             [
              0.4444444444444444,
              "#bd3786"
             ],
             [
              0.5555555555555556,
              "#d8576b"
             ],
             [
              0.6666666666666666,
              "#ed7953"
             ],
             [
              0.7777777777777778,
              "#fb9f3a"
             ],
             [
              0.8888888888888888,
              "#fdca26"
             ],
             [
              1,
              "#f0f921"
             ]
            ],
            "type": "histogram2dcontour"
           }
          ],
          "mesh3d": [
           {
            "colorbar": {
             "outlinewidth": 0,
             "ticks": ""
            },
            "type": "mesh3d"
           }
          ],
          "parcoords": [
           {
            "line": {
             "colorbar": {
              "outlinewidth": 0,
              "ticks": ""
             }
            },
            "type": "parcoords"
           }
          ],
          "pie": [
           {
            "automargin": true,
            "type": "pie"
           }
          ],
          "scatter": [
           {
            "fillpattern": {
             "fillmode": "overlay",
             "size": 10,
             "solidity": 0.2
            },
            "type": "scatter"
           }
          ],
          "scatter3d": [
           {
            "line": {
             "colorbar": {
              "outlinewidth": 0,
              "ticks": ""
             }
            },
            "marker": {
             "colorbar": {
              "outlinewidth": 0,
              "ticks": ""
             }
            },
            "type": "scatter3d"
           }
          ],
          "scattercarpet": [
           {
            "marker": {
             "colorbar": {
              "outlinewidth": 0,
              "ticks": ""
             }
            },
            "type": "scattercarpet"
           }
          ],
          "scattergeo": [
           {
            "marker": {
             "colorbar": {
              "outlinewidth": 0,
              "ticks": ""
             }
            },
            "type": "scattergeo"
           }
          ],
          "scattergl": [
           {
            "marker": {
             "colorbar": {
              "outlinewidth": 0,
              "ticks": ""
             }
            },
            "type": "scattergl"
           }
          ],
          "scattermap": [
           {
            "marker": {
             "colorbar": {
              "outlinewidth": 0,
              "ticks": ""
             }
            },
            "type": "scattermap"
           }
          ],
          "scattermapbox": [
           {
            "marker": {
             "colorbar": {
              "outlinewidth": 0,
              "ticks": ""
             }
            },
            "type": "scattermapbox"
           }
          ],
          "scatterpolar": [
           {
            "marker": {
             "colorbar": {
              "outlinewidth": 0,
              "ticks": ""
             }
            },
            "type": "scatterpolar"
           }
          ],
          "scatterpolargl": [
           {
            "marker": {
             "colorbar": {
              "outlinewidth": 0,
              "ticks": ""
             }
            },
            "type": "scatterpolargl"
           }
          ],
          "scatterternary": [
           {
            "marker": {
             "colorbar": {
              "outlinewidth": 0,
              "ticks": ""
             }
            },
            "type": "scatterternary"
           }
          ],
          "surface": [
           {
            "colorbar": {
             "outlinewidth": 0,
             "ticks": ""
            },
            "colorscale": [
             [
              0,
              "#0d0887"
             ],
             [
              0.1111111111111111,
              "#46039f"
             ],
             [
              0.2222222222222222,
              "#7201a8"
             ],
             [
              0.3333333333333333,
              "#9c179e"
             ],
             [
              0.4444444444444444,
              "#bd3786"
             ],
             [
              0.5555555555555556,
              "#d8576b"
             ],
             [
              0.6666666666666666,
              "#ed7953"
             ],
             [
              0.7777777777777778,
              "#fb9f3a"
             ],
             [
              0.8888888888888888,
              "#fdca26"
             ],
             [
              1,
              "#f0f921"
             ]
            ],
            "type": "surface"
           }
          ],
          "table": [
           {
            "cells": {
             "fill": {
              "color": "#EBF0F8"
             },
             "line": {
              "color": "white"
             }
            },
            "header": {
             "fill": {
              "color": "#C8D4E3"
             },
             "line": {
              "color": "white"
             }
            },
            "type": "table"
           }
          ]
         },
         "layout": {
          "annotationdefaults": {
           "arrowcolor": "#2a3f5f",
           "arrowhead": 0,
           "arrowwidth": 1
          },
          "autotypenumbers": "strict",
          "coloraxis": {
           "colorbar": {
            "outlinewidth": 0,
            "ticks": ""
           }
          },
          "colorscale": {
           "diverging": [
            [
             0,
             "#8e0152"
            ],
            [
             0.1,
             "#c51b7d"
            ],
            [
             0.2,
             "#de77ae"
            ],
            [
             0.3,
             "#f1b6da"
            ],
            [
             0.4,
             "#fde0ef"
            ],
            [
             0.5,
             "#f7f7f7"
            ],
            [
             0.6,
             "#e6f5d0"
            ],
            [
             0.7,
             "#b8e186"
            ],
            [
             0.8,
             "#7fbc41"
            ],
            [
             0.9,
             "#4d9221"
            ],
            [
             1,
             "#276419"
            ]
           ],
           "sequential": [
            [
             0,
             "#0d0887"
            ],
            [
             0.1111111111111111,
             "#46039f"
            ],
            [
             0.2222222222222222,
             "#7201a8"
            ],
            [
             0.3333333333333333,
             "#9c179e"
            ],
            [
             0.4444444444444444,
             "#bd3786"
            ],
            [
             0.5555555555555556,
             "#d8576b"
            ],
            [
             0.6666666666666666,
             "#ed7953"
            ],
            [
             0.7777777777777778,
             "#fb9f3a"
            ],
            [
             0.8888888888888888,
             "#fdca26"
            ],
            [
             1,
             "#f0f921"
            ]
           ],
           "sequentialminus": [
            [
             0,
             "#0d0887"
            ],
            [
             0.1111111111111111,
             "#46039f"
            ],
            [
             0.2222222222222222,
             "#7201a8"
            ],
            [
             0.3333333333333333,
             "#9c179e"
            ],
            [
             0.4444444444444444,
             "#bd3786"
            ],
            [
             0.5555555555555556,
             "#d8576b"
            ],
            [
             0.6666666666666666,
             "#ed7953"
            ],
            [
             0.7777777777777778,
             "#fb9f3a"
            ],
            [
             0.8888888888888888,
             "#fdca26"
            ],
            [
             1,
             "#f0f921"
            ]
           ]
          },
          "colorway": [
           "#636efa",
           "#EF553B",
           "#00cc96",
           "#ab63fa",
           "#FFA15A",
           "#19d3f3",
           "#FF6692",
           "#B6E880",
           "#FF97FF",
           "#FECB52"
          ],
          "font": {
           "color": "#2a3f5f"
          },
          "geo": {
           "bgcolor": "white",
           "lakecolor": "white",
           "landcolor": "#E5ECF6",
           "showlakes": true,
           "showland": true,
           "subunitcolor": "white"
          },
          "hoverlabel": {
           "align": "left"
          },
          "hovermode": "closest",
          "mapbox": {
           "style": "light"
          },
          "paper_bgcolor": "white",
          "plot_bgcolor": "#E5ECF6",
          "polar": {
           "angularaxis": {
            "gridcolor": "white",
            "linecolor": "white",
            "ticks": ""
           },
           "bgcolor": "#E5ECF6",
           "radialaxis": {
            "gridcolor": "white",
            "linecolor": "white",
            "ticks": ""
           }
          },
          "scene": {
           "xaxis": {
            "backgroundcolor": "#E5ECF6",
            "gridcolor": "white",
            "gridwidth": 2,
            "linecolor": "white",
            "showbackground": true,
            "ticks": "",
            "zerolinecolor": "white"
           },
           "yaxis": {
            "backgroundcolor": "#E5ECF6",
            "gridcolor": "white",
            "gridwidth": 2,
            "linecolor": "white",
            "showbackground": true,
            "ticks": "",
            "zerolinecolor": "white"
           },
           "zaxis": {
            "backgroundcolor": "#E5ECF6",
            "gridcolor": "white",
            "gridwidth": 2,
            "linecolor": "white",
            "showbackground": true,
            "ticks": "",
            "zerolinecolor": "white"
           }
          },
          "shapedefaults": {
           "line": {
            "color": "#2a3f5f"
           }
          },
          "ternary": {
           "aaxis": {
            "gridcolor": "white",
            "linecolor": "white",
            "ticks": ""
           },
           "baxis": {
            "gridcolor": "white",
            "linecolor": "white",
            "ticks": ""
           },
           "bgcolor": "#E5ECF6",
           "caxis": {
            "gridcolor": "white",
            "linecolor": "white",
            "ticks": ""
           }
          },
          "title": {
           "x": 0.05
          },
          "xaxis": {
           "automargin": true,
           "gridcolor": "white",
           "linecolor": "white",
           "ticks": "",
           "title": {
            "standoff": 15
           },
           "zerolinecolor": "white",
           "zerolinewidth": 2
          },
          "yaxis": {
           "automargin": true,
           "gridcolor": "white",
           "linecolor": "white",
           "ticks": "",
           "title": {
            "standoff": 15
           },
           "zerolinecolor": "white",
           "zerolinewidth": 2
          }
         }
        },
        "xaxis": {
         "anchor": "y",
         "domain": [
          0,
          1
         ],
         "title": {
          "text": "año"
         }
        },
        "yaxis": {
         "anchor": "x",
         "domain": [
          0,
          1
         ],
         "title": {
          "text": "value"
         }
        }
       }
      }
     },
     "metadata": {},
     "output_type": "display_data"
    }
   ],
   "source": [
    "filter_ = 'all'\n",
    "\n",
    "# Data filters.\n",
    "default_filter = ['afiliados (total)', 'afiliados (subsidiado)', 'afiliados (contributivo)']\n",
    "filters = {\n",
    "    'subsidiado' : ['afiliados (subsidiado)'],\n",
    "    'contributivo' : ['afiliados (contributivo)'],\n",
    "}\n",
    "\n",
    "# Selecting the data that will be used as y axis.\n",
    "y_axis_data = filters.get('', default_filter)\n",
    "\n",
    "# Plotting the data.\n",
    "fig = px.line(\n",
    "    data_frame = data,\n",
    "    x = 'año',\n",
    "    y = y_axis_data,\n",
    "    markers=True\n",
    ")\n",
    "\n",
    "fig.show()"
   ]
  },
  {
   "cell_type": "code",
   "execution_count": 15,
   "metadata": {},
   "outputs": [
    {
     "data": {
      "application/vnd.plotly.v1+json": {
       "config": {
        "plotlyServerURL": "https://plot.ly"
       },
       "data": [
        {
         "hovertemplate": "variable=numero de cápitas pagadas (subsidiado)<br>año=%{x}<br>value=%{y}<extra></extra>",
         "legendgroup": "numero de cápitas pagadas (subsidiado)",
         "marker": {
          "color": "#636efa",
          "pattern": {
           "shape": ""
          }
         },
         "name": "numero de cápitas pagadas (subsidiado)",
         "orientation": "v",
         "showlegend": true,
         "textposition": "auto",
         "type": "bar",
         "x": {
          "bdata": "1QfWB9cH2AfZB9oH2wfcB90H3gffB+AH4QfiB+MH5AflB+YH5wc=",
          "dtype": "i2"
         },
         "xaxis": "x",
         "y": {
          "bdata": "IxEEAIjVBwBQghAAw68SAHaKFAAZMhwAL3YeAFQCIwBzYygA3gMuAJ12LwDeKzMAJxk2AInLNgC2oDgAk55XAAAAAAAAAAAAAAAAAA==",
          "dtype": "i4"
         },
         "yaxis": "y"
        },
        {
         "hovertemplate": "variable=numero de cápitas pagadas (contributivo)<br>año=%{x}<br>value=%{y}<extra></extra>",
         "legendgroup": "numero de cápitas pagadas (contributivo)",
         "marker": {
          "color": "#EF553B",
          "pattern": {
           "shape": ""
          }
         },
         "name": "numero de cápitas pagadas (contributivo)",
         "orientation": "v",
         "showlegend": true,
         "textposition": "auto",
         "type": "bar",
         "x": {
          "bdata": "1QfWB9cH2AfZB9oH2wfcB90H3gffB+AH4QfiB+MH5AflB+YH5wc=",
          "dtype": "i2"
         },
         "xaxis": "x",
         "y": {
          "bdata": "AAAAAAAAAADrZxgAh2QaAGj8HwBI5SQAP3knAFftKQBCPy0AczUxANX8MwBodDgAS1g9AFW0QABJxUEAc09CAHyDQgAS8UYAcCVHAA==",
          "dtype": "i4"
         },
         "yaxis": "y"
        }
       ],
       "layout": {
        "barmode": "relative",
        "legend": {
         "title": {
          "text": "variable"
         },
         "tracegroupgap": 0
        },
        "margin": {
         "t": 60
        },
        "template": {
         "data": {
          "bar": [
           {
            "error_x": {
             "color": "#2a3f5f"
            },
            "error_y": {
             "color": "#2a3f5f"
            },
            "marker": {
             "line": {
              "color": "#E5ECF6",
              "width": 0.5
             },
             "pattern": {
              "fillmode": "overlay",
              "size": 10,
              "solidity": 0.2
             }
            },
            "type": "bar"
           }
          ],
          "barpolar": [
           {
            "marker": {
             "line": {
              "color": "#E5ECF6",
              "width": 0.5
             },
             "pattern": {
              "fillmode": "overlay",
              "size": 10,
              "solidity": 0.2
             }
            },
            "type": "barpolar"
           }
          ],
          "carpet": [
           {
            "aaxis": {
             "endlinecolor": "#2a3f5f",
             "gridcolor": "white",
             "linecolor": "white",
             "minorgridcolor": "white",
             "startlinecolor": "#2a3f5f"
            },
            "baxis": {
             "endlinecolor": "#2a3f5f",
             "gridcolor": "white",
             "linecolor": "white",
             "minorgridcolor": "white",
             "startlinecolor": "#2a3f5f"
            },
            "type": "carpet"
           }
          ],
          "choropleth": [
           {
            "colorbar": {
             "outlinewidth": 0,
             "ticks": ""
            },
            "type": "choropleth"
           }
          ],
          "contour": [
           {
            "colorbar": {
             "outlinewidth": 0,
             "ticks": ""
            },
            "colorscale": [
             [
              0,
              "#0d0887"
             ],
             [
              0.1111111111111111,
              "#46039f"
             ],
             [
              0.2222222222222222,
              "#7201a8"
             ],
             [
              0.3333333333333333,
              "#9c179e"
             ],
             [
              0.4444444444444444,
              "#bd3786"
             ],
             [
              0.5555555555555556,
              "#d8576b"
             ],
             [
              0.6666666666666666,
              "#ed7953"
             ],
             [
              0.7777777777777778,
              "#fb9f3a"
             ],
             [
              0.8888888888888888,
              "#fdca26"
             ],
             [
              1,
              "#f0f921"
             ]
            ],
            "type": "contour"
           }
          ],
          "contourcarpet": [
           {
            "colorbar": {
             "outlinewidth": 0,
             "ticks": ""
            },
            "type": "contourcarpet"
           }
          ],
          "heatmap": [
           {
            "colorbar": {
             "outlinewidth": 0,
             "ticks": ""
            },
            "colorscale": [
             [
              0,
              "#0d0887"
             ],
             [
              0.1111111111111111,
              "#46039f"
             ],
             [
              0.2222222222222222,
              "#7201a8"
             ],
             [
              0.3333333333333333,
              "#9c179e"
             ],
             [
              0.4444444444444444,
              "#bd3786"
             ],
             [
              0.5555555555555556,
              "#d8576b"
             ],
             [
              0.6666666666666666,
              "#ed7953"
             ],
             [
              0.7777777777777778,
              "#fb9f3a"
             ],
             [
              0.8888888888888888,
              "#fdca26"
             ],
             [
              1,
              "#f0f921"
             ]
            ],
            "type": "heatmap"
           }
          ],
          "histogram": [
           {
            "marker": {
             "pattern": {
              "fillmode": "overlay",
              "size": 10,
              "solidity": 0.2
             }
            },
            "type": "histogram"
           }
          ],
          "histogram2d": [
           {
            "colorbar": {
             "outlinewidth": 0,
             "ticks": ""
            },
            "colorscale": [
             [
              0,
              "#0d0887"
             ],
             [
              0.1111111111111111,
              "#46039f"
             ],
             [
              0.2222222222222222,
              "#7201a8"
             ],
             [
              0.3333333333333333,
              "#9c179e"
             ],
             [
              0.4444444444444444,
              "#bd3786"
             ],
             [
              0.5555555555555556,
              "#d8576b"
             ],
             [
              0.6666666666666666,
              "#ed7953"
             ],
             [
              0.7777777777777778,
              "#fb9f3a"
             ],
             [
              0.8888888888888888,
              "#fdca26"
             ],
             [
              1,
              "#f0f921"
             ]
            ],
            "type": "histogram2d"
           }
          ],
          "histogram2dcontour": [
           {
            "colorbar": {
             "outlinewidth": 0,
             "ticks": ""
            },
            "colorscale": [
             [
              0,
              "#0d0887"
             ],
             [
              0.1111111111111111,
              "#46039f"
             ],
             [
              0.2222222222222222,
              "#7201a8"
             ],
             [
              0.3333333333333333,
              "#9c179e"
             ],
             [
              0.4444444444444444,
              "#bd3786"
             ],
             [
              0.5555555555555556,
              "#d8576b"
             ],
             [
              0.6666666666666666,
              "#ed7953"
             ],
             [
              0.7777777777777778,
              "#fb9f3a"
             ],
             [
              0.8888888888888888,
              "#fdca26"
             ],
             [
              1,
              "#f0f921"
             ]
            ],
            "type": "histogram2dcontour"
           }
          ],
          "mesh3d": [
           {
            "colorbar": {
             "outlinewidth": 0,
             "ticks": ""
            },
            "type": "mesh3d"
           }
          ],
          "parcoords": [
           {
            "line": {
             "colorbar": {
              "outlinewidth": 0,
              "ticks": ""
             }
            },
            "type": "parcoords"
           }
          ],
          "pie": [
           {
            "automargin": true,
            "type": "pie"
           }
          ],
          "scatter": [
           {
            "fillpattern": {
             "fillmode": "overlay",
             "size": 10,
             "solidity": 0.2
            },
            "type": "scatter"
           }
          ],
          "scatter3d": [
           {
            "line": {
             "colorbar": {
              "outlinewidth": 0,
              "ticks": ""
             }
            },
            "marker": {
             "colorbar": {
              "outlinewidth": 0,
              "ticks": ""
             }
            },
            "type": "scatter3d"
           }
          ],
          "scattercarpet": [
           {
            "marker": {
             "colorbar": {
              "outlinewidth": 0,
              "ticks": ""
             }
            },
            "type": "scattercarpet"
           }
          ],
          "scattergeo": [
           {
            "marker": {
             "colorbar": {
              "outlinewidth": 0,
              "ticks": ""
             }
            },
            "type": "scattergeo"
           }
          ],
          "scattergl": [
           {
            "marker": {
             "colorbar": {
              "outlinewidth": 0,
              "ticks": ""
             }
            },
            "type": "scattergl"
           }
          ],
          "scattermap": [
           {
            "marker": {
             "colorbar": {
              "outlinewidth": 0,
              "ticks": ""
             }
            },
            "type": "scattermap"
           }
          ],
          "scattermapbox": [
           {
            "marker": {
             "colorbar": {
              "outlinewidth": 0,
              "ticks": ""
             }
            },
            "type": "scattermapbox"
           }
          ],
          "scatterpolar": [
           {
            "marker": {
             "colorbar": {
              "outlinewidth": 0,
              "ticks": ""
             }
            },
            "type": "scatterpolar"
           }
          ],
          "scatterpolargl": [
           {
            "marker": {
             "colorbar": {
              "outlinewidth": 0,
              "ticks": ""
             }
            },
            "type": "scatterpolargl"
           }
          ],
          "scatterternary": [
           {
            "marker": {
             "colorbar": {
              "outlinewidth": 0,
              "ticks": ""
             }
            },
            "type": "scatterternary"
           }
          ],
          "surface": [
           {
            "colorbar": {
             "outlinewidth": 0,
             "ticks": ""
            },
            "colorscale": [
             [
              0,
              "#0d0887"
             ],
             [
              0.1111111111111111,
              "#46039f"
             ],
             [
              0.2222222222222222,
              "#7201a8"
             ],
             [
              0.3333333333333333,
              "#9c179e"
             ],
             [
              0.4444444444444444,
              "#bd3786"
             ],
             [
              0.5555555555555556,
              "#d8576b"
             ],
             [
              0.6666666666666666,
              "#ed7953"
             ],
             [
              0.7777777777777778,
              "#fb9f3a"
             ],
             [
              0.8888888888888888,
              "#fdca26"
             ],
             [
              1,
              "#f0f921"
             ]
            ],
            "type": "surface"
           }
          ],
          "table": [
           {
            "cells": {
             "fill": {
              "color": "#EBF0F8"
             },
             "line": {
              "color": "white"
             }
            },
            "header": {
             "fill": {
              "color": "#C8D4E3"
             },
             "line": {
              "color": "white"
             }
            },
            "type": "table"
           }
          ]
         },
         "layout": {
          "annotationdefaults": {
           "arrowcolor": "#2a3f5f",
           "arrowhead": 0,
           "arrowwidth": 1
          },
          "autotypenumbers": "strict",
          "coloraxis": {
           "colorbar": {
            "outlinewidth": 0,
            "ticks": ""
           }
          },
          "colorscale": {
           "diverging": [
            [
             0,
             "#8e0152"
            ],
            [
             0.1,
             "#c51b7d"
            ],
            [
             0.2,
             "#de77ae"
            ],
            [
             0.3,
             "#f1b6da"
            ],
            [
             0.4,
             "#fde0ef"
            ],
            [
             0.5,
             "#f7f7f7"
            ],
            [
             0.6,
             "#e6f5d0"
            ],
            [
             0.7,
             "#b8e186"
            ],
            [
             0.8,
             "#7fbc41"
            ],
            [
             0.9,
             "#4d9221"
            ],
            [
             1,
             "#276419"
            ]
           ],
           "sequential": [
            [
             0,
             "#0d0887"
            ],
            [
             0.1111111111111111,
             "#46039f"
            ],
            [
             0.2222222222222222,
             "#7201a8"
            ],
            [
             0.3333333333333333,
             "#9c179e"
            ],
            [
             0.4444444444444444,
             "#bd3786"
            ],
            [
             0.5555555555555556,
             "#d8576b"
            ],
            [
             0.6666666666666666,
             "#ed7953"
            ],
            [
             0.7777777777777778,
             "#fb9f3a"
            ],
            [
             0.8888888888888888,
             "#fdca26"
            ],
            [
             1,
             "#f0f921"
            ]
           ],
           "sequentialminus": [
            [
             0,
             "#0d0887"
            ],
            [
             0.1111111111111111,
             "#46039f"
            ],
            [
             0.2222222222222222,
             "#7201a8"
            ],
            [
             0.3333333333333333,
             "#9c179e"
            ],
            [
             0.4444444444444444,
             "#bd3786"
            ],
            [
             0.5555555555555556,
             "#d8576b"
            ],
            [
             0.6666666666666666,
             "#ed7953"
            ],
            [
             0.7777777777777778,
             "#fb9f3a"
            ],
            [
             0.8888888888888888,
             "#fdca26"
            ],
            [
             1,
             "#f0f921"
            ]
           ]
          },
          "colorway": [
           "#636efa",
           "#EF553B",
           "#00cc96",
           "#ab63fa",
           "#FFA15A",
           "#19d3f3",
           "#FF6692",
           "#B6E880",
           "#FF97FF",
           "#FECB52"
          ],
          "font": {
           "color": "#2a3f5f"
          },
          "geo": {
           "bgcolor": "white",
           "lakecolor": "white",
           "landcolor": "#E5ECF6",
           "showlakes": true,
           "showland": true,
           "subunitcolor": "white"
          },
          "hoverlabel": {
           "align": "left"
          },
          "hovermode": "closest",
          "mapbox": {
           "style": "light"
          },
          "paper_bgcolor": "white",
          "plot_bgcolor": "#E5ECF6",
          "polar": {
           "angularaxis": {
            "gridcolor": "white",
            "linecolor": "white",
            "ticks": ""
           },
           "bgcolor": "#E5ECF6",
           "radialaxis": {
            "gridcolor": "white",
            "linecolor": "white",
            "ticks": ""
           }
          },
          "scene": {
           "xaxis": {
            "backgroundcolor": "#E5ECF6",
            "gridcolor": "white",
            "gridwidth": 2,
            "linecolor": "white",
            "showbackground": true,
            "ticks": "",
            "zerolinecolor": "white"
           },
           "yaxis": {
            "backgroundcolor": "#E5ECF6",
            "gridcolor": "white",
            "gridwidth": 2,
            "linecolor": "white",
            "showbackground": true,
            "ticks": "",
            "zerolinecolor": "white"
           },
           "zaxis": {
            "backgroundcolor": "#E5ECF6",
            "gridcolor": "white",
            "gridwidth": 2,
            "linecolor": "white",
            "showbackground": true,
            "ticks": "",
            "zerolinecolor": "white"
           }
          },
          "shapedefaults": {
           "line": {
            "color": "#2a3f5f"
           }
          },
          "ternary": {
           "aaxis": {
            "gridcolor": "white",
            "linecolor": "white",
            "ticks": ""
           },
           "baxis": {
            "gridcolor": "white",
            "linecolor": "white",
            "ticks": ""
           },
           "bgcolor": "#E5ECF6",
           "caxis": {
            "gridcolor": "white",
            "linecolor": "white",
            "ticks": ""
           }
          },
          "title": {
           "x": 0.05
          },
          "xaxis": {
           "automargin": true,
           "gridcolor": "white",
           "linecolor": "white",
           "ticks": "",
           "title": {
            "standoff": 15
           },
           "zerolinecolor": "white",
           "zerolinewidth": 2
          },
          "yaxis": {
           "automargin": true,
           "gridcolor": "white",
           "linecolor": "white",
           "ticks": "",
           "title": {
            "standoff": 15
           },
           "zerolinecolor": "white",
           "zerolinewidth": 2
          }
         }
        },
        "xaxis": {
         "anchor": "y",
         "domain": [
          0,
          1
         ],
         "title": {
          "text": "año"
         }
        },
        "yaxis": {
         "anchor": "x",
         "domain": [
          0,
          1
         ],
         "title": {
          "text": "value"
         }
        }
       }
      }
     },
     "metadata": {},
     "output_type": "display_data"
    }
   ],
   "source": [
    "filter_ = 'all'\n",
    "\n",
    "# Data filters.\n",
    "default_filter = ['numero de cápitas pagadas (subsidiado)', 'numero de cápitas pagadas (contributivo)']\n",
    "filters = {\n",
    "    'subsidiado' : ['numero de cápitas pagadas (subsidiado)'],\n",
    "    'contributivo' : ['numero de cápitas pagadas (contributivo)'],\n",
    "}\n",
    "\n",
    "# Selecting the data that will be used as y axis.\n",
    "y_axis_data = filters.get('', default_filter)\n",
    "\n",
    "# Plotting the data.\n",
    "px.bar(\n",
    "    data,\n",
    "    x='año',\n",
    "    y= y_axis_data,\n",
    ")"
   ]
  },
  {
   "cell_type": "markdown",
   "metadata": {},
   "source": [
    "# ONE 1"
   ]
  },
  {
   "cell_type": "code",
   "execution_count": 39,
   "metadata": {},
   "outputs": [
    {
     "data": {
      "text/html": [
       "<div>\n",
       "<style scoped>\n",
       "    .dataframe tbody tr th:only-of-type {\n",
       "        vertical-align: middle;\n",
       "    }\n",
       "\n",
       "    .dataframe tbody tr th {\n",
       "        vertical-align: top;\n",
       "    }\n",
       "\n",
       "    .dataframe thead th {\n",
       "        text-align: right;\n",
       "    }\n",
       "</style>\n",
       "<table border=\"1\" class=\"dataframe\">\n",
       "  <thead>\n",
       "    <tr style=\"text-align: right;\">\n",
       "      <th></th>\n",
       "      <th>Unnamed: 0</th>\n",
       "      <th>año</th>\n",
       "      <th>total  (total )</th>\n",
       "      <th>total  (hombres)</th>\n",
       "      <th>total  (mujeres)</th>\n",
       "      <th>régimen subsidiado (total )</th>\n",
       "      <th>régimen subsidiado (hombres )</th>\n",
       "      <th>régimen subsidiado (mujeres )</th>\n",
       "      <th>régimen contributivo (total )</th>\n",
       "      <th>régimen contributivo (hombres )</th>\n",
       "      <th>régimen contributivo (mujeres )</th>\n",
       "    </tr>\n",
       "  </thead>\n",
       "  <tbody>\n",
       "    <tr>\n",
       "      <th>0</th>\n",
       "      <td>1</td>\n",
       "      <td>2007</td>\n",
       "      <td>2559117</td>\n",
       "      <td>1272227</td>\n",
       "      <td>1286890</td>\n",
       "      <td>1081936</td>\n",
       "      <td>479821</td>\n",
       "      <td>602115</td>\n",
       "      <td>1477181</td>\n",
       "      <td>792406</td>\n",
       "      <td>684775</td>\n",
       "    </tr>\n",
       "    <tr>\n",
       "      <th>1</th>\n",
       "      <td>2</td>\n",
       "      <td>2008</td>\n",
       "      <td>2916902</td>\n",
       "      <td>1435763</td>\n",
       "      <td>1481139</td>\n",
       "      <td>1224643</td>\n",
       "      <td>545438</td>\n",
       "      <td>679205</td>\n",
       "      <td>1692259</td>\n",
       "      <td>890325</td>\n",
       "      <td>801934</td>\n",
       "    </tr>\n",
       "    <tr>\n",
       "      <th>2</th>\n",
       "      <td>3</td>\n",
       "      <td>2009</td>\n",
       "      <td>3492524</td>\n",
       "      <td>1694440</td>\n",
       "      <td>1798084</td>\n",
       "      <td>1404225</td>\n",
       "      <td>615631</td>\n",
       "      <td>788594</td>\n",
       "      <td>2088299</td>\n",
       "      <td>1078809</td>\n",
       "      <td>1009490</td>\n",
       "    </tr>\n",
       "    <tr>\n",
       "      <th>3</th>\n",
       "      <td>4</td>\n",
       "      <td>2010</td>\n",
       "      <td>4377869</td>\n",
       "      <td>2114762</td>\n",
       "      <td>2263107</td>\n",
       "      <td>2013786</td>\n",
       "      <td>904636</td>\n",
       "      <td>1109150</td>\n",
       "      <td>2364083</td>\n",
       "      <td>1210126</td>\n",
       "      <td>1153957</td>\n",
       "    </tr>\n",
       "    <tr>\n",
       "      <th>4</th>\n",
       "      <td>5</td>\n",
       "      <td>2011</td>\n",
       "      <td>4520850</td>\n",
       "      <td>2178591</td>\n",
       "      <td>2342259</td>\n",
       "      <td>2003427</td>\n",
       "      <td>899174</td>\n",
       "      <td>1104253</td>\n",
       "      <td>2517423</td>\n",
       "      <td>1279417</td>\n",
       "      <td>1238006</td>\n",
       "    </tr>\n",
       "    <tr>\n",
       "      <th>5</th>\n",
       "      <td>6</td>\n",
       "      <td>2012</td>\n",
       "      <td>4991762</td>\n",
       "      <td>2392155</td>\n",
       "      <td>2599607</td>\n",
       "      <td>2303351</td>\n",
       "      <td>1031367</td>\n",
       "      <td>1271984</td>\n",
       "      <td>2688411</td>\n",
       "      <td>1360788</td>\n",
       "      <td>1327623</td>\n",
       "    </tr>\n",
       "    <tr>\n",
       "      <th>6</th>\n",
       "      <td>7</td>\n",
       "      <td>2013</td>\n",
       "      <td>5652729</td>\n",
       "      <td>2705832</td>\n",
       "      <td>2946897</td>\n",
       "      <td>2751753</td>\n",
       "      <td>1243431</td>\n",
       "      <td>1508322</td>\n",
       "      <td>2900976</td>\n",
       "      <td>1462401</td>\n",
       "      <td>1438575</td>\n",
       "    </tr>\n",
       "    <tr>\n",
       "      <th>7</th>\n",
       "      <td>8</td>\n",
       "      <td>2014</td>\n",
       "      <td>6157245</td>\n",
       "      <td>2978843</td>\n",
       "      <td>3178402</td>\n",
       "      <td>3015646</td>\n",
       "      <td>1400518</td>\n",
       "      <td>1615128</td>\n",
       "      <td>3141599</td>\n",
       "      <td>1578325</td>\n",
       "      <td>1563274</td>\n",
       "    </tr>\n",
       "    <tr>\n",
       "      <th>8</th>\n",
       "      <td>9</td>\n",
       "      <td>2015</td>\n",
       "      <td>6657243</td>\n",
       "      <td>3247604</td>\n",
       "      <td>3409639</td>\n",
       "      <td>3317405</td>\n",
       "      <td>1572793</td>\n",
       "      <td>1744612</td>\n",
       "      <td>3339838</td>\n",
       "      <td>1674811</td>\n",
       "      <td>1665027</td>\n",
       "    </tr>\n",
       "    <tr>\n",
       "      <th>9</th>\n",
       "      <td>10</td>\n",
       "      <td>2016</td>\n",
       "      <td>6938356</td>\n",
       "      <td>3384848</td>\n",
       "      <td>3553508</td>\n",
       "      <td>3347068</td>\n",
       "      <td>1575598</td>\n",
       "      <td>1771470</td>\n",
       "      <td>3591288</td>\n",
       "      <td>1809250</td>\n",
       "      <td>1782038</td>\n",
       "    </tr>\n",
       "    <tr>\n",
       "      <th>10</th>\n",
       "      <td>11</td>\n",
       "      <td>2017</td>\n",
       "      <td>7449280</td>\n",
       "      <td>3655041</td>\n",
       "      <td>3794239</td>\n",
       "      <td>3546688</td>\n",
       "      <td>1677875</td>\n",
       "      <td>1868813</td>\n",
       "      <td>3902592</td>\n",
       "      <td>1977166</td>\n",
       "      <td>1925426</td>\n",
       "    </tr>\n",
       "    <tr>\n",
       "      <th>11</th>\n",
       "      <td>12</td>\n",
       "      <td>2018</td>\n",
       "      <td>7774137</td>\n",
       "      <td>3808361</td>\n",
       "      <td>3965776</td>\n",
       "      <td>3620150</td>\n",
       "      <td>1712181</td>\n",
       "      <td>1907969</td>\n",
       "      <td>4153987</td>\n",
       "      <td>2096180</td>\n",
       "      <td>2057807</td>\n",
       "    </tr>\n",
       "    <tr>\n",
       "      <th>12</th>\n",
       "      <td>13</td>\n",
       "      <td>2019</td>\n",
       "      <td>7954923</td>\n",
       "      <td>3884741</td>\n",
       "      <td>4070182</td>\n",
       "      <td>3726262</td>\n",
       "      <td>1758351</td>\n",
       "      <td>1967911</td>\n",
       "      <td>4228661</td>\n",
       "      <td>2126390</td>\n",
       "      <td>2102271</td>\n",
       "    </tr>\n",
       "    <tr>\n",
       "      <th>13</th>\n",
       "      <td>14</td>\n",
       "      <td>2020</td>\n",
       "      <td>9961742</td>\n",
       "      <td>4961110</td>\n",
       "      <td>5000632</td>\n",
       "      <td>5746839</td>\n",
       "      <td>2853424</td>\n",
       "      <td>2893415</td>\n",
       "      <td>4214903</td>\n",
       "      <td>2107686</td>\n",
       "      <td>2107217</td>\n",
       "    </tr>\n",
       "    <tr>\n",
       "      <th>14</th>\n",
       "      <td>15</td>\n",
       "      <td>2021</td>\n",
       "      <td>10032808</td>\n",
       "      <td>4997908</td>\n",
       "      <td>5034900</td>\n",
       "      <td>5747449</td>\n",
       "      <td>2856987</td>\n",
       "      <td>2890462</td>\n",
       "      <td>4285359</td>\n",
       "      <td>2140921</td>\n",
       "      <td>2144438</td>\n",
       "    </tr>\n",
       "    <tr>\n",
       "      <th>15</th>\n",
       "      <td>19</td>\n",
       "      <td>2022</td>\n",
       "      <td>10339111</td>\n",
       "      <td>5151859</td>\n",
       "      <td>5187252</td>\n",
       "      <td>5770201</td>\n",
       "      <td>2873492</td>\n",
       "      <td>2896709</td>\n",
       "      <td>4568910</td>\n",
       "      <td>2278367</td>\n",
       "      <td>2290543</td>\n",
       "    </tr>\n",
       "    <tr>\n",
       "      <th>16</th>\n",
       "      <td>23</td>\n",
       "      <td>2023</td>\n",
       "      <td>10267254</td>\n",
       "      <td>5109709</td>\n",
       "      <td>5157545</td>\n",
       "      <td>5690186</td>\n",
       "      <td>2824789</td>\n",
       "      <td>2865397</td>\n",
       "      <td>4577068</td>\n",
       "      <td>2284920</td>\n",
       "      <td>2292148</td>\n",
       "    </tr>\n",
       "  </tbody>\n",
       "</table>\n",
       "</div>"
      ],
      "text/plain": [
       "    Unnamed: 0   año  total  (total )  total  (hombres)  total  (mujeres)  \\\n",
       "0            1  2007          2559117           1272227           1286890   \n",
       "1            2  2008          2916902           1435763           1481139   \n",
       "2            3  2009          3492524           1694440           1798084   \n",
       "3            4  2010          4377869           2114762           2263107   \n",
       "4            5  2011          4520850           2178591           2342259   \n",
       "5            6  2012          4991762           2392155           2599607   \n",
       "6            7  2013          5652729           2705832           2946897   \n",
       "7            8  2014          6157245           2978843           3178402   \n",
       "8            9  2015          6657243           3247604           3409639   \n",
       "9           10  2016          6938356           3384848           3553508   \n",
       "10          11  2017          7449280           3655041           3794239   \n",
       "11          12  2018          7774137           3808361           3965776   \n",
       "12          13  2019          7954923           3884741           4070182   \n",
       "13          14  2020          9961742           4961110           5000632   \n",
       "14          15  2021         10032808           4997908           5034900   \n",
       "15          19  2022         10339111           5151859           5187252   \n",
       "16          23  2023         10267254           5109709           5157545   \n",
       "\n",
       "    régimen subsidiado (total )  régimen subsidiado (hombres )  \\\n",
       "0                       1081936                         479821   \n",
       "1                       1224643                         545438   \n",
       "2                       1404225                         615631   \n",
       "3                       2013786                         904636   \n",
       "4                       2003427                         899174   \n",
       "5                       2303351                        1031367   \n",
       "6                       2751753                        1243431   \n",
       "7                       3015646                        1400518   \n",
       "8                       3317405                        1572793   \n",
       "9                       3347068                        1575598   \n",
       "10                      3546688                        1677875   \n",
       "11                      3620150                        1712181   \n",
       "12                      3726262                        1758351   \n",
       "13                      5746839                        2853424   \n",
       "14                      5747449                        2856987   \n",
       "15                      5770201                        2873492   \n",
       "16                      5690186                        2824789   \n",
       "\n",
       "    régimen subsidiado (mujeres )  régimen contributivo (total )  \\\n",
       "0                          602115                        1477181   \n",
       "1                          679205                        1692259   \n",
       "2                          788594                        2088299   \n",
       "3                         1109150                        2364083   \n",
       "4                         1104253                        2517423   \n",
       "5                         1271984                        2688411   \n",
       "6                         1508322                        2900976   \n",
       "7                         1615128                        3141599   \n",
       "8                         1744612                        3339838   \n",
       "9                         1771470                        3591288   \n",
       "10                        1868813                        3902592   \n",
       "11                        1907969                        4153987   \n",
       "12                        1967911                        4228661   \n",
       "13                        2893415                        4214903   \n",
       "14                        2890462                        4285359   \n",
       "15                        2896709                        4568910   \n",
       "16                        2865397                        4577068   \n",
       "\n",
       "    régimen contributivo (hombres )  régimen contributivo (mujeres )  \n",
       "0                            792406                           684775  \n",
       "1                            890325                           801934  \n",
       "2                           1078809                          1009490  \n",
       "3                           1210126                          1153957  \n",
       "4                           1279417                          1238006  \n",
       "5                           1360788                          1327623  \n",
       "6                           1462401                          1438575  \n",
       "7                           1578325                          1563274  \n",
       "8                           1674811                          1665027  \n",
       "9                           1809250                          1782038  \n",
       "10                          1977166                          1925426  \n",
       "11                          2096180                          2057807  \n",
       "12                          2126390                          2102271  \n",
       "13                          2107686                          2107217  \n",
       "14                          2140921                          2144438  \n",
       "15                          2278367                          2290543  \n",
       "16                          2284920                          2292148  "
      ]
     },
     "execution_count": 39,
     "metadata": {},
     "output_type": "execute_result"
    }
   ],
   "source": [
    "data = pd.read_excel('../data/processed/one/one 1.xlsx')\n",
    "data"
   ]
  },
  {
   "cell_type": "code",
   "execution_count": 47,
   "metadata": {},
   "outputs": [
    {
     "data": {
      "text/plain": [
       "Index(['Unnamed: 0', 'año', 'total  (total )', 'total  (hombres)',\n",
       "       'total  (mujeres)', 'régimen subsidiado (total )',\n",
       "       'régimen subsidiado (hombres )', 'régimen subsidiado (mujeres )',\n",
       "       'régimen contributivo (total )', 'régimen contributivo (hombres )',\n",
       "       'régimen contributivo (mujeres )'],\n",
       "      dtype='object')"
      ]
     },
     "execution_count": 47,
     "metadata": {},
     "output_type": "execute_result"
    }
   ],
   "source": [
    "data.columns"
   ]
  },
  {
   "cell_type": "code",
   "execution_count": 49,
   "metadata": {},
   "outputs": [
    {
     "data": {
      "application/vnd.plotly.v1+json": {
       "config": {
        "plotlyServerURL": "https://plot.ly"
       },
       "data": [
        {
         "alignmentgroup": "True",
         "hovertemplate": "variable=total  (hombres)<br>año=%{x}<br>value=%{y}<extra></extra>",
         "legendgroup": "total  (hombres)",
         "marker": {
          "color": "#636efa",
          "pattern": {
           "shape": ""
          }
         },
         "name": "total  (hombres)",
         "offsetgroup": "total  (hombres)",
         "orientation": "v",
         "showlegend": true,
         "textposition": "auto",
         "type": "bar",
         "x": {
          "bdata": "1wfYB9kH2gfbB9wH3QfeB98H4AfhB+IH4wfkB+UH5gfnBw==",
          "dtype": "i2"
         },
         "xaxis": "x",
         "y": {
          "bdata": "o2kTAHPoFQDo2hkAykQgAB8+IQBbgCQAqEkpABt0LQD0jTEAEKYzAIHFNwBpHDoAxUY7AFazSwAUQ0wAc5xOAM33TQA=",
          "dtype": "i4"
         },
         "yaxis": "y"
        },
        {
         "alignmentgroup": "True",
         "hovertemplate": "variable=total  (mujeres)<br>año=%{x}<br>value=%{y}<extra></extra>",
         "legendgroup": "total  (mujeres)",
         "marker": {
          "color": "#EF553B",
          "pattern": {
           "shape": ""
          }
         },
         "name": "total  (mujeres)",
         "offsetgroup": "total  (mujeres)",
         "orientation": "v",
         "showlegend": true,
         "textposition": "auto",
         "type": "bar",
         "x": {
          "bdata": "1wfYB9kH2gfbB9wH3QfeB98H4AfhB+IH4wfkB+UH5gfnBw==",
          "dtype": "i2"
         },
         "xaxis": "x",
         "y": {
          "bdata": "6qITALOZFgDEbxsAQ4giAHO9IwC3qicAUfcsAKJ/MADnBjQA5Dg2AD/lOQBQgzwAJhs+ALhNTACU00wAtCZPAKmyTgA=",
          "dtype": "i4"
         },
         "yaxis": "y"
        }
       ],
       "layout": {
        "barmode": "group",
        "legend": {
         "title": {
          "text": "variable"
         },
         "tracegroupgap": 0
        },
        "margin": {
         "t": 60
        },
        "template": {
         "data": {
          "bar": [
           {
            "error_x": {
             "color": "#2a3f5f"
            },
            "error_y": {
             "color": "#2a3f5f"
            },
            "marker": {
             "line": {
              "color": "#E5ECF6",
              "width": 0.5
             },
             "pattern": {
              "fillmode": "overlay",
              "size": 10,
              "solidity": 0.2
             }
            },
            "type": "bar"
           }
          ],
          "barpolar": [
           {
            "marker": {
             "line": {
              "color": "#E5ECF6",
              "width": 0.5
             },
             "pattern": {
              "fillmode": "overlay",
              "size": 10,
              "solidity": 0.2
             }
            },
            "type": "barpolar"
           }
          ],
          "carpet": [
           {
            "aaxis": {
             "endlinecolor": "#2a3f5f",
             "gridcolor": "white",
             "linecolor": "white",
             "minorgridcolor": "white",
             "startlinecolor": "#2a3f5f"
            },
            "baxis": {
             "endlinecolor": "#2a3f5f",
             "gridcolor": "white",
             "linecolor": "white",
             "minorgridcolor": "white",
             "startlinecolor": "#2a3f5f"
            },
            "type": "carpet"
           }
          ],
          "choropleth": [
           {
            "colorbar": {
             "outlinewidth": 0,
             "ticks": ""
            },
            "type": "choropleth"
           }
          ],
          "contour": [
           {
            "colorbar": {
             "outlinewidth": 0,
             "ticks": ""
            },
            "colorscale": [
             [
              0,
              "#0d0887"
             ],
             [
              0.1111111111111111,
              "#46039f"
             ],
             [
              0.2222222222222222,
              "#7201a8"
             ],
             [
              0.3333333333333333,
              "#9c179e"
             ],
             [
              0.4444444444444444,
              "#bd3786"
             ],
             [
              0.5555555555555556,
              "#d8576b"
             ],
             [
              0.6666666666666666,
              "#ed7953"
             ],
             [
              0.7777777777777778,
              "#fb9f3a"
             ],
             [
              0.8888888888888888,
              "#fdca26"
             ],
             [
              1,
              "#f0f921"
             ]
            ],
            "type": "contour"
           }
          ],
          "contourcarpet": [
           {
            "colorbar": {
             "outlinewidth": 0,
             "ticks": ""
            },
            "type": "contourcarpet"
           }
          ],
          "heatmap": [
           {
            "colorbar": {
             "outlinewidth": 0,
             "ticks": ""
            },
            "colorscale": [
             [
              0,
              "#0d0887"
             ],
             [
              0.1111111111111111,
              "#46039f"
             ],
             [
              0.2222222222222222,
              "#7201a8"
             ],
             [
              0.3333333333333333,
              "#9c179e"
             ],
             [
              0.4444444444444444,
              "#bd3786"
             ],
             [
              0.5555555555555556,
              "#d8576b"
             ],
             [
              0.6666666666666666,
              "#ed7953"
             ],
             [
              0.7777777777777778,
              "#fb9f3a"
             ],
             [
              0.8888888888888888,
              "#fdca26"
             ],
             [
              1,
              "#f0f921"
             ]
            ],
            "type": "heatmap"
           }
          ],
          "histogram": [
           {
            "marker": {
             "pattern": {
              "fillmode": "overlay",
              "size": 10,
              "solidity": 0.2
             }
            },
            "type": "histogram"
           }
          ],
          "histogram2d": [
           {
            "colorbar": {
             "outlinewidth": 0,
             "ticks": ""
            },
            "colorscale": [
             [
              0,
              "#0d0887"
             ],
             [
              0.1111111111111111,
              "#46039f"
             ],
             [
              0.2222222222222222,
              "#7201a8"
             ],
             [
              0.3333333333333333,
              "#9c179e"
             ],
             [
              0.4444444444444444,
              "#bd3786"
             ],
             [
              0.5555555555555556,
              "#d8576b"
             ],
             [
              0.6666666666666666,
              "#ed7953"
             ],
             [
              0.7777777777777778,
              "#fb9f3a"
             ],
             [
              0.8888888888888888,
              "#fdca26"
             ],
             [
              1,
              "#f0f921"
             ]
            ],
            "type": "histogram2d"
           }
          ],
          "histogram2dcontour": [
           {
            "colorbar": {
             "outlinewidth": 0,
             "ticks": ""
            },
            "colorscale": [
             [
              0,
              "#0d0887"
             ],
             [
              0.1111111111111111,
              "#46039f"
             ],
             [
              0.2222222222222222,
              "#7201a8"
             ],
             [
              0.3333333333333333,
              "#9c179e"
             ],
             [
              0.4444444444444444,
              "#bd3786"
             ],
             [
              0.5555555555555556,
              "#d8576b"
             ],
             [
              0.6666666666666666,
              "#ed7953"
             ],
             [
              0.7777777777777778,
              "#fb9f3a"
             ],
             [
              0.8888888888888888,
              "#fdca26"
             ],
             [
              1,
              "#f0f921"
             ]
            ],
            "type": "histogram2dcontour"
           }
          ],
          "mesh3d": [
           {
            "colorbar": {
             "outlinewidth": 0,
             "ticks": ""
            },
            "type": "mesh3d"
           }
          ],
          "parcoords": [
           {
            "line": {
             "colorbar": {
              "outlinewidth": 0,
              "ticks": ""
             }
            },
            "type": "parcoords"
           }
          ],
          "pie": [
           {
            "automargin": true,
            "type": "pie"
           }
          ],
          "scatter": [
           {
            "fillpattern": {
             "fillmode": "overlay",
             "size": 10,
             "solidity": 0.2
            },
            "type": "scatter"
           }
          ],
          "scatter3d": [
           {
            "line": {
             "colorbar": {
              "outlinewidth": 0,
              "ticks": ""
             }
            },
            "marker": {
             "colorbar": {
              "outlinewidth": 0,
              "ticks": ""
             }
            },
            "type": "scatter3d"
           }
          ],
          "scattercarpet": [
           {
            "marker": {
             "colorbar": {
              "outlinewidth": 0,
              "ticks": ""
             }
            },
            "type": "scattercarpet"
           }
          ],
          "scattergeo": [
           {
            "marker": {
             "colorbar": {
              "outlinewidth": 0,
              "ticks": ""
             }
            },
            "type": "scattergeo"
           }
          ],
          "scattergl": [
           {
            "marker": {
             "colorbar": {
              "outlinewidth": 0,
              "ticks": ""
             }
            },
            "type": "scattergl"
           }
          ],
          "scattermap": [
           {
            "marker": {
             "colorbar": {
              "outlinewidth": 0,
              "ticks": ""
             }
            },
            "type": "scattermap"
           }
          ],
          "scattermapbox": [
           {
            "marker": {
             "colorbar": {
              "outlinewidth": 0,
              "ticks": ""
             }
            },
            "type": "scattermapbox"
           }
          ],
          "scatterpolar": [
           {
            "marker": {
             "colorbar": {
              "outlinewidth": 0,
              "ticks": ""
             }
            },
            "type": "scatterpolar"
           }
          ],
          "scatterpolargl": [
           {
            "marker": {
             "colorbar": {
              "outlinewidth": 0,
              "ticks": ""
             }
            },
            "type": "scatterpolargl"
           }
          ],
          "scatterternary": [
           {
            "marker": {
             "colorbar": {
              "outlinewidth": 0,
              "ticks": ""
             }
            },
            "type": "scatterternary"
           }
          ],
          "surface": [
           {
            "colorbar": {
             "outlinewidth": 0,
             "ticks": ""
            },
            "colorscale": [
             [
              0,
              "#0d0887"
             ],
             [
              0.1111111111111111,
              "#46039f"
             ],
             [
              0.2222222222222222,
              "#7201a8"
             ],
             [
              0.3333333333333333,
              "#9c179e"
             ],
             [
              0.4444444444444444,
              "#bd3786"
             ],
             [
              0.5555555555555556,
              "#d8576b"
             ],
             [
              0.6666666666666666,
              "#ed7953"
             ],
             [
              0.7777777777777778,
              "#fb9f3a"
             ],
             [
              0.8888888888888888,
              "#fdca26"
             ],
             [
              1,
              "#f0f921"
             ]
            ],
            "type": "surface"
           }
          ],
          "table": [
           {
            "cells": {
             "fill": {
              "color": "#EBF0F8"
             },
             "line": {
              "color": "white"
             }
            },
            "header": {
             "fill": {
              "color": "#C8D4E3"
             },
             "line": {
              "color": "white"
             }
            },
            "type": "table"
           }
          ]
         },
         "layout": {
          "annotationdefaults": {
           "arrowcolor": "#2a3f5f",
           "arrowhead": 0,
           "arrowwidth": 1
          },
          "autotypenumbers": "strict",
          "coloraxis": {
           "colorbar": {
            "outlinewidth": 0,
            "ticks": ""
           }
          },
          "colorscale": {
           "diverging": [
            [
             0,
             "#8e0152"
            ],
            [
             0.1,
             "#c51b7d"
            ],
            [
             0.2,
             "#de77ae"
            ],
            [
             0.3,
             "#f1b6da"
            ],
            [
             0.4,
             "#fde0ef"
            ],
            [
             0.5,
             "#f7f7f7"
            ],
            [
             0.6,
             "#e6f5d0"
            ],
            [
             0.7,
             "#b8e186"
            ],
            [
             0.8,
             "#7fbc41"
            ],
            [
             0.9,
             "#4d9221"
            ],
            [
             1,
             "#276419"
            ]
           ],
           "sequential": [
            [
             0,
             "#0d0887"
            ],
            [
             0.1111111111111111,
             "#46039f"
            ],
            [
             0.2222222222222222,
             "#7201a8"
            ],
            [
             0.3333333333333333,
             "#9c179e"
            ],
            [
             0.4444444444444444,
             "#bd3786"
            ],
            [
             0.5555555555555556,
             "#d8576b"
            ],
            [
             0.6666666666666666,
             "#ed7953"
            ],
            [
             0.7777777777777778,
             "#fb9f3a"
            ],
            [
             0.8888888888888888,
             "#fdca26"
            ],
            [
             1,
             "#f0f921"
            ]
           ],
           "sequentialminus": [
            [
             0,
             "#0d0887"
            ],
            [
             0.1111111111111111,
             "#46039f"
            ],
            [
             0.2222222222222222,
             "#7201a8"
            ],
            [
             0.3333333333333333,
             "#9c179e"
            ],
            [
             0.4444444444444444,
             "#bd3786"
            ],
            [
             0.5555555555555556,
             "#d8576b"
            ],
            [
             0.6666666666666666,
             "#ed7953"
            ],
            [
             0.7777777777777778,
             "#fb9f3a"
            ],
            [
             0.8888888888888888,
             "#fdca26"
            ],
            [
             1,
             "#f0f921"
            ]
           ]
          },
          "colorway": [
           "#636efa",
           "#EF553B",
           "#00cc96",
           "#ab63fa",
           "#FFA15A",
           "#19d3f3",
           "#FF6692",
           "#B6E880",
           "#FF97FF",
           "#FECB52"
          ],
          "font": {
           "color": "#2a3f5f"
          },
          "geo": {
           "bgcolor": "white",
           "lakecolor": "white",
           "landcolor": "#E5ECF6",
           "showlakes": true,
           "showland": true,
           "subunitcolor": "white"
          },
          "hoverlabel": {
           "align": "left"
          },
          "hovermode": "closest",
          "mapbox": {
           "style": "light"
          },
          "paper_bgcolor": "white",
          "plot_bgcolor": "#E5ECF6",
          "polar": {
           "angularaxis": {
            "gridcolor": "white",
            "linecolor": "white",
            "ticks": ""
           },
           "bgcolor": "#E5ECF6",
           "radialaxis": {
            "gridcolor": "white",
            "linecolor": "white",
            "ticks": ""
           }
          },
          "scene": {
           "xaxis": {
            "backgroundcolor": "#E5ECF6",
            "gridcolor": "white",
            "gridwidth": 2,
            "linecolor": "white",
            "showbackground": true,
            "ticks": "",
            "zerolinecolor": "white"
           },
           "yaxis": {
            "backgroundcolor": "#E5ECF6",
            "gridcolor": "white",
            "gridwidth": 2,
            "linecolor": "white",
            "showbackground": true,
            "ticks": "",
            "zerolinecolor": "white"
           },
           "zaxis": {
            "backgroundcolor": "#E5ECF6",
            "gridcolor": "white",
            "gridwidth": 2,
            "linecolor": "white",
            "showbackground": true,
            "ticks": "",
            "zerolinecolor": "white"
           }
          },
          "shapedefaults": {
           "line": {
            "color": "#2a3f5f"
           }
          },
          "ternary": {
           "aaxis": {
            "gridcolor": "white",
            "linecolor": "white",
            "ticks": ""
           },
           "baxis": {
            "gridcolor": "white",
            "linecolor": "white",
            "ticks": ""
           },
           "bgcolor": "#E5ECF6",
           "caxis": {
            "gridcolor": "white",
            "linecolor": "white",
            "ticks": ""
           }
          },
          "title": {
           "x": 0.05
          },
          "xaxis": {
           "automargin": true,
           "gridcolor": "white",
           "linecolor": "white",
           "ticks": "",
           "title": {
            "standoff": 15
           },
           "zerolinecolor": "white",
           "zerolinewidth": 2
          },
          "yaxis": {
           "automargin": true,
           "gridcolor": "white",
           "linecolor": "white",
           "ticks": "",
           "title": {
            "standoff": 15
           },
           "zerolinecolor": "white",
           "zerolinewidth": 2
          }
         }
        },
        "xaxis": {
         "anchor": "y",
         "domain": [
          0,
          1
         ],
         "title": {
          "text": "año"
         }
        },
        "yaxis": {
         "anchor": "x",
         "domain": [
          0,
          1
         ],
         "title": {
          "text": "value"
         }
        }
       }
      }
     },
     "metadata": {},
     "output_type": "display_data"
    }
   ],
   "source": [
    "filter_ = 'all'\n",
    "\n",
    "# Data filters.\n",
    "default_filter = ['total  (hombres)', 'total  (mujeres)']\n",
    "filters = {\n",
    "    'subsidiado' : ['régimen subsidiado (hombres )', 'régimen subsidiado (mujeres )'],\n",
    "    'contributivo' : ['régimen contributivo (hombres )', 'régimen contributivo (mujeres )'],\n",
    "}\n",
    "\n",
    "# Selecting the data that will be used as y axis.\n",
    "y_axis_data = filters.get('', default_filter)\n",
    "\n",
    "# Plotting the data.\n",
    "px.bar(\n",
    "    data,\n",
    "    x='año',\n",
    "    y=y_axis_data,\n",
    "    barmode='group'\n",
    ")"
   ]
  },
  {
   "cell_type": "markdown",
   "metadata": {},
   "source": [
    "# ONE 2"
   ]
  },
  {
   "cell_type": "code",
   "execution_count": 4,
   "metadata": {},
   "outputs": [
    {
     "data": {
      "text/html": [
       "<div>\n",
       "<style scoped>\n",
       "    .dataframe tbody tr th:only-of-type {\n",
       "        vertical-align: middle;\n",
       "    }\n",
       "\n",
       "    .dataframe tbody tr th {\n",
       "        vertical-align: top;\n",
       "    }\n",
       "\n",
       "    .dataframe thead th {\n",
       "        text-align: right;\n",
       "    }\n",
       "</style>\n",
       "<table border=\"1\" class=\"dataframe\">\n",
       "  <thead>\n",
       "    <tr style=\"text-align: right;\">\n",
       "      <th></th>\n",
       "      <th>año</th>\n",
       "      <th>meses</th>\n",
       "      <th>número de cápitas dispersadas(total)</th>\n",
       "      <th>número de cápitas dispersadas (titulares)</th>\n",
       "      <th>número de cápitas dispersadas (dependientes directos)</th>\n",
       "      <th>número de cápitas dispersadas (dependientes adicionales)</th>\n",
       "      <th>total de monto dispersado RD$ (Total)</th>\n",
       "      <th>total de monto dispersado RD$ (titulares)</th>\n",
       "      <th>total de monto dispersado RD$ (dependientes directos)</th>\n",
       "      <th>total de monto dispersado RD$ (dependientes adicionales)</th>\n",
       "    </tr>\n",
       "  </thead>\n",
       "  <tbody>\n",
       "    <tr>\n",
       "      <th>0</th>\n",
       "      <td>2012</td>\n",
       "      <td>Enero</td>\n",
       "      <td>2521387</td>\n",
       "      <td>1187667</td>\n",
       "      <td>1236485</td>\n",
       "      <td>97235</td>\n",
       "      <td>2052280962.00</td>\n",
       "      <td>968746846.00</td>\n",
       "      <td>1005792759.00</td>\n",
       "      <td>77741357.00</td>\n",
       "    </tr>\n",
       "    <tr>\n",
       "      <th>1</th>\n",
       "      <td>2012</td>\n",
       "      <td>Febrero</td>\n",
       "      <td>2536789</td>\n",
       "      <td>1190787</td>\n",
       "      <td>1247260</td>\n",
       "      <td>98742</td>\n",
       "      <td>2059815854.00</td>\n",
       "      <td>969885560.00</td>\n",
       "      <td>1010843618.00</td>\n",
       "      <td>79086676.00</td>\n",
       "    </tr>\n",
       "    <tr>\n",
       "      <th>2</th>\n",
       "      <td>2012</td>\n",
       "      <td>Marzo</td>\n",
       "      <td>2574224</td>\n",
       "      <td>1205800</td>\n",
       "      <td>1266851</td>\n",
       "      <td>101573</td>\n",
       "      <td>2074432971.00</td>\n",
       "      <td>973021746.00</td>\n",
       "      <td>1020569171.00</td>\n",
       "      <td>80842054.00</td>\n",
       "    </tr>\n",
       "    <tr>\n",
       "      <th>3</th>\n",
       "      <td>2012</td>\n",
       "      <td>Abril</td>\n",
       "      <td>2588831</td>\n",
       "      <td>1211245</td>\n",
       "      <td>1274320</td>\n",
       "      <td>103266</td>\n",
       "      <td>2093551309.00</td>\n",
       "      <td>980941453.00</td>\n",
       "      <td>1030159885.00</td>\n",
       "      <td>82449971.00</td>\n",
       "    </tr>\n",
       "    <tr>\n",
       "      <th>4</th>\n",
       "      <td>2012</td>\n",
       "      <td>Mayo</td>\n",
       "      <td>2604319</td>\n",
       "      <td>1214917</td>\n",
       "      <td>1284028</td>\n",
       "      <td>105374</td>\n",
       "      <td>2103684562.00</td>\n",
       "      <td>982999648.00</td>\n",
       "      <td>1036667249.00</td>\n",
       "      <td>84017665.00</td>\n",
       "    </tr>\n",
       "    <tr>\n",
       "      <th>...</th>\n",
       "      <td>...</td>\n",
       "      <td>...</td>\n",
       "      <td>...</td>\n",
       "      <td>...</td>\n",
       "      <td>...</td>\n",
       "      <td>...</td>\n",
       "      <td>...</td>\n",
       "      <td>...</td>\n",
       "      <td>...</td>\n",
       "      <td>...</td>\n",
       "    </tr>\n",
       "    <tr>\n",
       "      <th>139</th>\n",
       "      <td>2023</td>\n",
       "      <td>Agosto</td>\n",
       "      <td>4643328</td>\n",
       "      <td>2124770</td>\n",
       "      <td>2267364</td>\n",
       "      <td>251194</td>\n",
       "      <td>7220554528.08</td>\n",
       "      <td>3304142608.60</td>\n",
       "      <td>3525775072.27</td>\n",
       "      <td>390636847.21</td>\n",
       "    </tr>\n",
       "    <tr>\n",
       "      <th>140</th>\n",
       "      <td>2023</td>\n",
       "      <td>Septiembre</td>\n",
       "      <td>4652645</td>\n",
       "      <td>2126042</td>\n",
       "      <td>2274513</td>\n",
       "      <td>252090</td>\n",
       "      <td>7235013492.11</td>\n",
       "      <td>3306087782.24</td>\n",
       "      <td>3536895939.55</td>\n",
       "      <td>392029770.32</td>\n",
       "    </tr>\n",
       "    <tr>\n",
       "      <th>141</th>\n",
       "      <td>2023</td>\n",
       "      <td>Octubre</td>\n",
       "      <td>4672810</td>\n",
       "      <td>2134779</td>\n",
       "      <td>2286062</td>\n",
       "      <td>251969</td>\n",
       "      <td>7266052939.81</td>\n",
       "      <td>3319644953.01</td>\n",
       "      <td>3554564794.44</td>\n",
       "      <td>391843192.36</td>\n",
       "    </tr>\n",
       "    <tr>\n",
       "      <th>142</th>\n",
       "      <td>2023</td>\n",
       "      <td>Noviembre</td>\n",
       "      <td>4664027</td>\n",
       "      <td>2133179</td>\n",
       "      <td>2277973</td>\n",
       "      <td>252875</td>\n",
       "      <td>7252740157.80</td>\n",
       "      <td>3317231977.84</td>\n",
       "      <td>3542254384.11</td>\n",
       "      <td>393253795.85</td>\n",
       "    </tr>\n",
       "    <tr>\n",
       "      <th>143</th>\n",
       "      <td>2023</td>\n",
       "      <td>Diciembre</td>\n",
       "      <td>4662640</td>\n",
       "      <td>2136260</td>\n",
       "      <td>2272336</td>\n",
       "      <td>254044</td>\n",
       "      <td>7268341274.15</td>\n",
       "      <td>3330571446.41</td>\n",
       "      <td>3542697038.57</td>\n",
       "      <td>395072789.17</td>\n",
       "    </tr>\n",
       "  </tbody>\n",
       "</table>\n",
       "<p>144 rows × 10 columns</p>\n",
       "</div>"
      ],
      "text/plain": [
       "      año       meses   número de cápitas dispersadas(total)  \\\n",
       "0    2012      Enero                                 2521387   \n",
       "1    2012     Febrero                                2536789   \n",
       "2    2012      Marzo                                 2574224   \n",
       "3    2012      Abril                                 2588831   \n",
       "4    2012       Mayo                                 2604319   \n",
       "..    ...         ...                                    ...   \n",
       "139  2023      Agosto                                4643328   \n",
       "140  2023  Septiembre                                4652645   \n",
       "141  2023     Octubre                                4672810   \n",
       "142  2023   Noviembre                                4664027   \n",
       "143  2023   Diciembre                                4662640   \n",
       "\n",
       "      número de cápitas dispersadas (titulares)  \\\n",
       "0                                       1187667   \n",
       "1                                       1190787   \n",
       "2                                       1205800   \n",
       "3                                       1211245   \n",
       "4                                       1214917   \n",
       "..                                          ...   \n",
       "139                                     2124770   \n",
       "140                                     2126042   \n",
       "141                                     2134779   \n",
       "142                                     2133179   \n",
       "143                                     2136260   \n",
       "\n",
       "      número de cápitas dispersadas (dependientes directos)  \\\n",
       "0                                              1236485        \n",
       "1                                              1247260        \n",
       "2                                              1266851        \n",
       "3                                              1274320        \n",
       "4                                              1284028        \n",
       "..                                                 ...        \n",
       "139                                            2267364        \n",
       "140                                            2274513        \n",
       "141                                            2286062        \n",
       "142                                            2277973        \n",
       "143                                            2272336        \n",
       "\n",
       "      número de cápitas dispersadas (dependientes adicionales)  \\\n",
       "0                                                97235           \n",
       "1                                                98742           \n",
       "2                                               101573           \n",
       "3                                               103266           \n",
       "4                                               105374           \n",
       "..                                                 ...           \n",
       "139                                             251194           \n",
       "140                                             252090           \n",
       "141                                             251969           \n",
       "142                                             252875           \n",
       "143                                             254044           \n",
       "\n",
       "     total de monto dispersado RD$ (Total)  \\\n",
       "0                            2052280962.00   \n",
       "1                            2059815854.00   \n",
       "2                            2074432971.00   \n",
       "3                            2093551309.00   \n",
       "4                            2103684562.00   \n",
       "..                                     ...   \n",
       "139                          7220554528.08   \n",
       "140                          7235013492.11   \n",
       "141                          7266052939.81   \n",
       "142                          7252740157.80   \n",
       "143                          7268341274.15   \n",
       "\n",
       "     total de monto dispersado RD$ (titulares)  \\\n",
       "0                                 968746846.00   \n",
       "1                                 969885560.00   \n",
       "2                                 973021746.00   \n",
       "3                                 980941453.00   \n",
       "4                                 982999648.00   \n",
       "..                                         ...   \n",
       "139                              3304142608.60   \n",
       "140                              3306087782.24   \n",
       "141                              3319644953.01   \n",
       "142                              3317231977.84   \n",
       "143                              3330571446.41   \n",
       "\n",
       "     total de monto dispersado RD$ (dependientes directos)  \\\n",
       "0                                        1005792759.00       \n",
       "1                                        1010843618.00       \n",
       "2                                        1020569171.00       \n",
       "3                                        1030159885.00       \n",
       "4                                        1036667249.00       \n",
       "..                                                 ...       \n",
       "139                                      3525775072.27       \n",
       "140                                      3536895939.55       \n",
       "141                                      3554564794.44       \n",
       "142                                      3542254384.11       \n",
       "143                                      3542697038.57       \n",
       "\n",
       "     total de monto dispersado RD$ (dependientes adicionales)  \n",
       "0                                          77741357.00         \n",
       "1                                          79086676.00         \n",
       "2                                          80842054.00         \n",
       "3                                          82449971.00         \n",
       "4                                          84017665.00         \n",
       "..                                                 ...         \n",
       "139                                       390636847.21         \n",
       "140                                       392029770.32         \n",
       "141                                       391843192.36         \n",
       "142                                       393253795.85         \n",
       "143                                       395072789.17         \n",
       "\n",
       "[144 rows x 10 columns]"
      ]
     },
     "execution_count": 4,
     "metadata": {},
     "output_type": "execute_result"
    }
   ],
   "source": [
    "data = pd.read_excel('../data/processed/one/one 2.xlsx')\n",
    "pd.options.display.float_format = '{:.2f}'.format\n",
    "data"
   ]
  },
  {
   "cell_type": "code",
   "execution_count": 49,
   "metadata": {},
   "outputs": [],
   "source": [
    "def capitation_amt_per_cust_type(data: pd.DataFrame, years=[]) -> go.Figure:\n",
    "    months = {\n",
    "        'enero': 1,\n",
    "        'febrero': 2,\n",
    "        'marzo': 3,\n",
    "        'abril': 4,\n",
    "        'mayo': 5,\n",
    "        'junio': 6,\n",
    "        'julio': 7,\n",
    "        'agosto': 8,\n",
    "        'septiembre': 9,\n",
    "        'octubre': 10,\n",
    "        'noviembre': 11,\n",
    "        'diciembre': 12,\n",
    "    }\n",
    "    x_axis = 'año'\n",
    "\n",
    "    # Raising an error if years is not a list\n",
    "    if type(years) is not list:\n",
    "        raise ValueError('years must be a list.')\n",
    "    \n",
    "    # Raising an error if the years selected are not found.\n",
    "    if not any(data['año'].isin(years)) and len(years) > 0:\n",
    "        raise ValueError('years entered not found in the data.')\n",
    "\n",
    "    # Filtering the data by selected years if year is in the data.\n",
    "    if set(set(years)).issubset(data['año']) and len(years) > 0:\n",
    "        data = data.loc[data['año'].isin(years)]\n",
    "        data = data.loc[data['meses'] == 'diciembre', :]\n",
    "    \n",
    "    # Filtering by last period recorded in case that no year was selected.  \n",
    "    elif len(years) == 0:\n",
    "        data = data.loc[data['meses'] == 'diciembre', :]\n",
    "\n",
    "    # If only one year was selected, filtering the data by month.\n",
    "    if len(years) == 1:\n",
    "        x_axis = 'meses'\n",
    "        # Standardizing months names. \n",
    "        data['meses'] = data['meses'].str.strip().str.lower()\n",
    "        # Mapping the months to numbers.\n",
    "        data['meses_n'] = data['meses'].map(months)\n",
    "\n",
    "        # Sorting the months in ascending order.\n",
    "        data.sort_values(by='meses_n')\n",
    "    \n",
    "    # Data filters.\n",
    "    default_filter = [' número de cápitas dispersadas(total)', ' número de cápitas dispersadas (titulares)', ' número de cápitas dispersadas (dependientes directos)',\n",
    "        ' número de cápitas dispersadas (dependientes adicionales)']\n",
    "    filters = {\n",
    "    }\n",
    "\n",
    "    # Selecting the data that will be used as y axis.\n",
    "    y_axis_data = filters.get('', default_filter)\n",
    "\n",
    "    # Plotting the data.\n",
    "    fig = px.line(\n",
    "        data_frame = data,\n",
    "        x = x_axis,\n",
    "        y = y_axis_data,\n",
    "        markers=True\n",
    "    )\n",
    "\n",
    "    return fig\n",
    "    "
   ]
  },
  {
   "cell_type": "code",
   "execution_count": 50,
   "metadata": {},
   "outputs": [
    {
     "data": {
      "application/vnd.plotly.v1+json": {
       "config": {
        "plotlyServerURL": "https://plot.ly"
       },
       "data": [
        {
         "hovertemplate": "variable= número de cápitas dispersadas(total)<br>año=%{x}<br>value=%{y}<extra></extra>",
         "legendgroup": " número de cápitas dispersadas(total)",
         "line": {
          "color": "#636efa",
          "dash": "solid"
         },
         "marker": {
          "symbol": "circle"
         },
         "mode": "lines+markers",
         "name": " número de cápitas dispersadas(total)",
         "orientation": "v",
         "showlegend": true,
         "type": "scatter",
         "x": {
          "bdata": "3AfdB94H3wfgB+EH4gfjB+QH5QfmB+cH",
          "dtype": "i2"
         },
         "xaxis": "x",
         "y": {
          "bdata": "mwUpAEI/LQBzNTEA1fwzAGh0OABLWD0AVbRAAEnFQQBzT0IAfINCABLxRgBwJUcA",
          "dtype": "i4"
         },
         "yaxis": "y"
        },
        {
         "hovertemplate": "variable= número de cápitas dispersadas (titulares)<br>año=%{x}<br>value=%{y}<extra></extra>",
         "legendgroup": " número de cápitas dispersadas (titulares)",
         "line": {
          "color": "#EF553B",
          "dash": "solid"
         },
         "marker": {
          "symbol": "circle"
         },
         "mode": "lines+markers",
         "name": " número de cápitas dispersadas (titulares)",
         "orientation": "v",
         "showlegend": true,
         "type": "scatter",
         "x": {
          "bdata": "3AfdB94H3wfgB+EH4gfjB+QH5QfmB+cH",
          "dtype": "i2"
         },
         "xaxis": "x",
         "y": {
          "bdata": "zvYSAJWlFAD9JhYA35IXAEN0GQDuwRsA2u4cABlrHQAiGB0A+9sdAKJNIADEmCAA",
          "dtype": "i4"
         },
         "yaxis": "y"
        },
        {
         "hovertemplate": "variable= número de cápitas dispersadas (dependientes directos)<br>año=%{x}<br>value=%{y}<extra></extra>",
         "legendgroup": " número de cápitas dispersadas (dependientes directos)",
         "line": {
          "color": "#00cc96",
          "dash": "solid"
         },
         "marker": {
          "symbol": "circle"
         },
         "mode": "lines+markers",
         "name": " número de cápitas dispersadas (dependientes directos)",
         "orientation": "v",
         "showlegend": true,
         "type": "scatter",
         "x": {
          "bdata": "3AfdB94H3wfgB+EH4gfjB+QH5QfmB+cH",
          "dtype": "i2"
         },
         "xaxis": "x",
         "y": {
          "bdata": "/lQUADSOFgBDvxgA97AZAG0RHADncR4ATmUgAGHlIAAMtSEAtAUhAAbbIgBQrCIA",
          "dtype": "i4"
         },
         "yaxis": "y"
        },
        {
         "hovertemplate": "variable= número de cápitas dispersadas (dependientes adicionales)<br>año=%{x}<br>value=%{y}<extra></extra>",
         "legendgroup": " número de cápitas dispersadas (dependientes adicionales)",
         "line": {
          "color": "#ab63fa",
          "dash": "solid"
         },
         "marker": {
          "symbol": "circle"
         },
         "mode": "lines+markers",
         "name": " número de cápitas dispersadas (dependientes adicionales)",
         "orientation": "v",
         "showlegend": true,
         "type": "scatter",
         "x": {
          "bdata": "3AfdB94H3wfgB+EH4gfjB+QH5QfmB+cH",
          "dtype": "i2"
         },
         "xaxis": "x",
         "y": {
          "bdata": "z7kBAHkLAgAzTwIA/7gCALjuAgB2JAMALWADAM90AwBFggMAzaEDAGrIAwBc4AMA",
          "dtype": "i4"
         },
         "yaxis": "y"
        }
       ],
       "layout": {
        "legend": {
         "title": {
          "text": "variable"
         },
         "tracegroupgap": 0
        },
        "margin": {
         "t": 60
        },
        "template": {
         "data": {
          "bar": [
           {
            "error_x": {
             "color": "#2a3f5f"
            },
            "error_y": {
             "color": "#2a3f5f"
            },
            "marker": {
             "line": {
              "color": "#E5ECF6",
              "width": 0.5
             },
             "pattern": {
              "fillmode": "overlay",
              "size": 10,
              "solidity": 0.2
             }
            },
            "type": "bar"
           }
          ],
          "barpolar": [
           {
            "marker": {
             "line": {
              "color": "#E5ECF6",
              "width": 0.5
             },
             "pattern": {
              "fillmode": "overlay",
              "size": 10,
              "solidity": 0.2
             }
            },
            "type": "barpolar"
           }
          ],
          "carpet": [
           {
            "aaxis": {
             "endlinecolor": "#2a3f5f",
             "gridcolor": "white",
             "linecolor": "white",
             "minorgridcolor": "white",
             "startlinecolor": "#2a3f5f"
            },
            "baxis": {
             "endlinecolor": "#2a3f5f",
             "gridcolor": "white",
             "linecolor": "white",
             "minorgridcolor": "white",
             "startlinecolor": "#2a3f5f"
            },
            "type": "carpet"
           }
          ],
          "choropleth": [
           {
            "colorbar": {
             "outlinewidth": 0,
             "ticks": ""
            },
            "type": "choropleth"
           }
          ],
          "contour": [
           {
            "colorbar": {
             "outlinewidth": 0,
             "ticks": ""
            },
            "colorscale": [
             [
              0,
              "#0d0887"
             ],
             [
              0.1111111111111111,
              "#46039f"
             ],
             [
              0.2222222222222222,
              "#7201a8"
             ],
             [
              0.3333333333333333,
              "#9c179e"
             ],
             [
              0.4444444444444444,
              "#bd3786"
             ],
             [
              0.5555555555555556,
              "#d8576b"
             ],
             [
              0.6666666666666666,
              "#ed7953"
             ],
             [
              0.7777777777777778,
              "#fb9f3a"
             ],
             [
              0.8888888888888888,
              "#fdca26"
             ],
             [
              1,
              "#f0f921"
             ]
            ],
            "type": "contour"
           }
          ],
          "contourcarpet": [
           {
            "colorbar": {
             "outlinewidth": 0,
             "ticks": ""
            },
            "type": "contourcarpet"
           }
          ],
          "heatmap": [
           {
            "colorbar": {
             "outlinewidth": 0,
             "ticks": ""
            },
            "colorscale": [
             [
              0,
              "#0d0887"
             ],
             [
              0.1111111111111111,
              "#46039f"
             ],
             [
              0.2222222222222222,
              "#7201a8"
             ],
             [
              0.3333333333333333,
              "#9c179e"
             ],
             [
              0.4444444444444444,
              "#bd3786"
             ],
             [
              0.5555555555555556,
              "#d8576b"
             ],
             [
              0.6666666666666666,
              "#ed7953"
             ],
             [
              0.7777777777777778,
              "#fb9f3a"
             ],
             [
              0.8888888888888888,
              "#fdca26"
             ],
             [
              1,
              "#f0f921"
             ]
            ],
            "type": "heatmap"
           }
          ],
          "histogram": [
           {
            "marker": {
             "pattern": {
              "fillmode": "overlay",
              "size": 10,
              "solidity": 0.2
             }
            },
            "type": "histogram"
           }
          ],
          "histogram2d": [
           {
            "colorbar": {
             "outlinewidth": 0,
             "ticks": ""
            },
            "colorscale": [
             [
              0,
              "#0d0887"
             ],
             [
              0.1111111111111111,
              "#46039f"
             ],
             [
              0.2222222222222222,
              "#7201a8"
             ],
             [
              0.3333333333333333,
              "#9c179e"
             ],
             [
              0.4444444444444444,
              "#bd3786"
             ],
             [
              0.5555555555555556,
              "#d8576b"
             ],
             [
              0.6666666666666666,
              "#ed7953"
             ],
             [
              0.7777777777777778,
              "#fb9f3a"
             ],
             [
              0.8888888888888888,
              "#fdca26"
             ],
             [
              1,
              "#f0f921"
             ]
            ],
            "type": "histogram2d"
           }
          ],
          "histogram2dcontour": [
           {
            "colorbar": {
             "outlinewidth": 0,
             "ticks": ""
            },
            "colorscale": [
             [
              0,
              "#0d0887"
             ],
             [
              0.1111111111111111,
              "#46039f"
             ],
             [
              0.2222222222222222,
              "#7201a8"
             ],
             [
              0.3333333333333333,
              "#9c179e"
             ],
             [
              0.4444444444444444,
              "#bd3786"
             ],
             [
              0.5555555555555556,
              "#d8576b"
             ],
             [
              0.6666666666666666,
              "#ed7953"
             ],
             [
              0.7777777777777778,
              "#fb9f3a"
             ],
             [
              0.8888888888888888,
              "#fdca26"
             ],
             [
              1,
              "#f0f921"
             ]
            ],
            "type": "histogram2dcontour"
           }
          ],
          "mesh3d": [
           {
            "colorbar": {
             "outlinewidth": 0,
             "ticks": ""
            },
            "type": "mesh3d"
           }
          ],
          "parcoords": [
           {
            "line": {
             "colorbar": {
              "outlinewidth": 0,
              "ticks": ""
             }
            },
            "type": "parcoords"
           }
          ],
          "pie": [
           {
            "automargin": true,
            "type": "pie"
           }
          ],
          "scatter": [
           {
            "fillpattern": {
             "fillmode": "overlay",
             "size": 10,
             "solidity": 0.2
            },
            "type": "scatter"
           }
          ],
          "scatter3d": [
           {
            "line": {
             "colorbar": {
              "outlinewidth": 0,
              "ticks": ""
             }
            },
            "marker": {
             "colorbar": {
              "outlinewidth": 0,
              "ticks": ""
             }
            },
            "type": "scatter3d"
           }
          ],
          "scattercarpet": [
           {
            "marker": {
             "colorbar": {
              "outlinewidth": 0,
              "ticks": ""
             }
            },
            "type": "scattercarpet"
           }
          ],
          "scattergeo": [
           {
            "marker": {
             "colorbar": {
              "outlinewidth": 0,
              "ticks": ""
             }
            },
            "type": "scattergeo"
           }
          ],
          "scattergl": [
           {
            "marker": {
             "colorbar": {
              "outlinewidth": 0,
              "ticks": ""
             }
            },
            "type": "scattergl"
           }
          ],
          "scattermap": [
           {
            "marker": {
             "colorbar": {
              "outlinewidth": 0,
              "ticks": ""
             }
            },
            "type": "scattermap"
           }
          ],
          "scattermapbox": [
           {
            "marker": {
             "colorbar": {
              "outlinewidth": 0,
              "ticks": ""
             }
            },
            "type": "scattermapbox"
           }
          ],
          "scatterpolar": [
           {
            "marker": {
             "colorbar": {
              "outlinewidth": 0,
              "ticks": ""
             }
            },
            "type": "scatterpolar"
           }
          ],
          "scatterpolargl": [
           {
            "marker": {
             "colorbar": {
              "outlinewidth": 0,
              "ticks": ""
             }
            },
            "type": "scatterpolargl"
           }
          ],
          "scatterternary": [
           {
            "marker": {
             "colorbar": {
              "outlinewidth": 0,
              "ticks": ""
             }
            },
            "type": "scatterternary"
           }
          ],
          "surface": [
           {
            "colorbar": {
             "outlinewidth": 0,
             "ticks": ""
            },
            "colorscale": [
             [
              0,
              "#0d0887"
             ],
             [
              0.1111111111111111,
              "#46039f"
             ],
             [
              0.2222222222222222,
              "#7201a8"
             ],
             [
              0.3333333333333333,
              "#9c179e"
             ],
             [
              0.4444444444444444,
              "#bd3786"
             ],
             [
              0.5555555555555556,
              "#d8576b"
             ],
             [
              0.6666666666666666,
              "#ed7953"
             ],
             [
              0.7777777777777778,
              "#fb9f3a"
             ],
             [
              0.8888888888888888,
              "#fdca26"
             ],
             [
              1,
              "#f0f921"
             ]
            ],
            "type": "surface"
           }
          ],
          "table": [
           {
            "cells": {
             "fill": {
              "color": "#EBF0F8"
             },
             "line": {
              "color": "white"
             }
            },
            "header": {
             "fill": {
              "color": "#C8D4E3"
             },
             "line": {
              "color": "white"
             }
            },
            "type": "table"
           }
          ]
         },
         "layout": {
          "annotationdefaults": {
           "arrowcolor": "#2a3f5f",
           "arrowhead": 0,
           "arrowwidth": 1
          },
          "autotypenumbers": "strict",
          "coloraxis": {
           "colorbar": {
            "outlinewidth": 0,
            "ticks": ""
           }
          },
          "colorscale": {
           "diverging": [
            [
             0,
             "#8e0152"
            ],
            [
             0.1,
             "#c51b7d"
            ],
            [
             0.2,
             "#de77ae"
            ],
            [
             0.3,
             "#f1b6da"
            ],
            [
             0.4,
             "#fde0ef"
            ],
            [
             0.5,
             "#f7f7f7"
            ],
            [
             0.6,
             "#e6f5d0"
            ],
            [
             0.7,
             "#b8e186"
            ],
            [
             0.8,
             "#7fbc41"
            ],
            [
             0.9,
             "#4d9221"
            ],
            [
             1,
             "#276419"
            ]
           ],
           "sequential": [
            [
             0,
             "#0d0887"
            ],
            [
             0.1111111111111111,
             "#46039f"
            ],
            [
             0.2222222222222222,
             "#7201a8"
            ],
            [
             0.3333333333333333,
             "#9c179e"
            ],
            [
             0.4444444444444444,
             "#bd3786"
            ],
            [
             0.5555555555555556,
             "#d8576b"
            ],
            [
             0.6666666666666666,
             "#ed7953"
            ],
            [
             0.7777777777777778,
             "#fb9f3a"
            ],
            [
             0.8888888888888888,
             "#fdca26"
            ],
            [
             1,
             "#f0f921"
            ]
           ],
           "sequentialminus": [
            [
             0,
             "#0d0887"
            ],
            [
             0.1111111111111111,
             "#46039f"
            ],
            [
             0.2222222222222222,
             "#7201a8"
            ],
            [
             0.3333333333333333,
             "#9c179e"
            ],
            [
             0.4444444444444444,
             "#bd3786"
            ],
            [
             0.5555555555555556,
             "#d8576b"
            ],
            [
             0.6666666666666666,
             "#ed7953"
            ],
            [
             0.7777777777777778,
             "#fb9f3a"
            ],
            [
             0.8888888888888888,
             "#fdca26"
            ],
            [
             1,
             "#f0f921"
            ]
           ]
          },
          "colorway": [
           "#636efa",
           "#EF553B",
           "#00cc96",
           "#ab63fa",
           "#FFA15A",
           "#19d3f3",
           "#FF6692",
           "#B6E880",
           "#FF97FF",
           "#FECB52"
          ],
          "font": {
           "color": "#2a3f5f"
          },
          "geo": {
           "bgcolor": "white",
           "lakecolor": "white",
           "landcolor": "#E5ECF6",
           "showlakes": true,
           "showland": true,
           "subunitcolor": "white"
          },
          "hoverlabel": {
           "align": "left"
          },
          "hovermode": "closest",
          "mapbox": {
           "style": "light"
          },
          "paper_bgcolor": "white",
          "plot_bgcolor": "#E5ECF6",
          "polar": {
           "angularaxis": {
            "gridcolor": "white",
            "linecolor": "white",
            "ticks": ""
           },
           "bgcolor": "#E5ECF6",
           "radialaxis": {
            "gridcolor": "white",
            "linecolor": "white",
            "ticks": ""
           }
          },
          "scene": {
           "xaxis": {
            "backgroundcolor": "#E5ECF6",
            "gridcolor": "white",
            "gridwidth": 2,
            "linecolor": "white",
            "showbackground": true,
            "ticks": "",
            "zerolinecolor": "white"
           },
           "yaxis": {
            "backgroundcolor": "#E5ECF6",
            "gridcolor": "white",
            "gridwidth": 2,
            "linecolor": "white",
            "showbackground": true,
            "ticks": "",
            "zerolinecolor": "white"
           },
           "zaxis": {
            "backgroundcolor": "#E5ECF6",
            "gridcolor": "white",
            "gridwidth": 2,
            "linecolor": "white",
            "showbackground": true,
            "ticks": "",
            "zerolinecolor": "white"
           }
          },
          "shapedefaults": {
           "line": {
            "color": "#2a3f5f"
           }
          },
          "ternary": {
           "aaxis": {
            "gridcolor": "white",
            "linecolor": "white",
            "ticks": ""
           },
           "baxis": {
            "gridcolor": "white",
            "linecolor": "white",
            "ticks": ""
           },
           "bgcolor": "#E5ECF6",
           "caxis": {
            "gridcolor": "white",
            "linecolor": "white",
            "ticks": ""
           }
          },
          "title": {
           "x": 0.05
          },
          "xaxis": {
           "automargin": true,
           "gridcolor": "white",
           "linecolor": "white",
           "ticks": "",
           "title": {
            "standoff": 15
           },
           "zerolinecolor": "white",
           "zerolinewidth": 2
          },
          "yaxis": {
           "automargin": true,
           "gridcolor": "white",
           "linecolor": "white",
           "ticks": "",
           "title": {
            "standoff": 15
           },
           "zerolinecolor": "white",
           "zerolinewidth": 2
          }
         }
        },
        "xaxis": {
         "anchor": "y",
         "domain": [
          0,
          1
         ],
         "title": {
          "text": "año"
         }
        },
        "yaxis": {
         "anchor": "x",
         "domain": [
          0,
          1
         ],
         "title": {
          "text": "value"
         }
        }
       }
      }
     },
     "metadata": {},
     "output_type": "display_data"
    }
   ],
   "source": [
    "capitation_amt_per_cust_type(data, [])"
   ]
  },
  {
   "cell_type": "code",
   "execution_count": 52,
   "metadata": {},
   "outputs": [],
   "source": [
    "data['total de monto dispersado RD$ (dependientes directos) %'] = round((\n",
    "    data['total de monto dispersado RD$ (dependientes directos)']/\n",
    "    data['total de monto dispersado RD$ (Total)']) * 100, 2)"
   ]
  },
  {
   "cell_type": "code",
   "execution_count": 53,
   "metadata": {},
   "outputs": [],
   "source": [
    "data['total de monto dispersado RD$ (titulares) %'] = round((\n",
    "    data['total de monto dispersado RD$ (titulares)']/\n",
    "    data['total de monto dispersado RD$ (Total)']) * 100, 2)"
   ]
  },
  {
   "cell_type": "code",
   "execution_count": 54,
   "metadata": {},
   "outputs": [],
   "source": [
    "data['total de monto dispersado RD$ (dependientes adicionales) %'] = round((\n",
    "    data['total de monto dispersado RD$ (dependientes adicionales)']/\n",
    "    data['total de monto dispersado RD$ (Total)']) * 100, 2)"
   ]
  },
  {
   "cell_type": "code",
   "execution_count": 56,
   "metadata": {},
   "outputs": [
    {
     "data": {
      "application/vnd.plotly.v1+json": {
       "config": {
        "plotlyServerURL": "https://plot.ly"
       },
       "data": [
        {
         "hovertemplate": "variable=total de monto dispersado RD$ (dependientes directos) %<br>año=%{x}<br>value=%{y}<extra></extra>",
         "legendgroup": "total de monto dispersado RD$ (dependientes directos) %",
         "marker": {
          "color": "#636efa",
          "opacity": 0.5,
          "pattern": {
           "shape": ""
          }
         },
         "name": "total de monto dispersado RD$ (dependientes directos) %",
         "orientation": "v",
         "showlegend": true,
         "textposition": "auto",
         "type": "bar",
         "x": {
          "bdata": "3AfcB9wH3AfcB9wH3AfcB9wH3AfcB9wH3QfdB90H3QfdB90H3QfdB90H3QfdB90H3gfeB94H3gfeB94H3gfeB94H3gfeB94H3wffB98H3wffB98H3wffB98H3wffB98H4AfgB+AH4AfgB+AH4AfgB+AH4AfgB+AH4QfhB+EH4QfhB+EH4QfhB+EH4QfhB+EH4gfiB+IH4gfiB+IH4gfiB+IH4gfiB+IH4wfjB+MH4wfjB+MH4wfjB+MH4wfjB+MH5AfkB+QH5AfkB+QH5AfkB+QH5AfkB+QH5QflB+UH5QflB+UH5QflB+UH5QflB+UH5gfmB+YH5gfmB+YH5gfmB+YH5gfmB+YH5wfnB+cH5wfnB+cH5wfnB+cH5wfnB+cH",
          "dtype": "i2"
         },
         "xaxis": "x",
         "y": {
          "bdata": "4XoUrkeBSEApXI/C9YhIQJqZmZmZmUhAexSuR+GaSECkcD0K16NIQK5H4XoUrkhAUrgehevRSEB7FK5H4bpIQEjhehSux0hAcT0K16PQSEDNzMzMzMxIQGZmZmZmxkhAexSuR+HaSEA9CtejcL1IQMP1KFyPwkhAUrgehevRSEDsUbgehetIQHE9Ctej0EhAPQrXo3D9SEDXo3A9CvdIQClcj8L16EhAexSuR+H6SECkcD0K1wNJQI/C9Shc70hA16NwPQoXSUDD9Shcj0JJQDMzMzMz80hAhetRuB4FSUB7FK5H4fpIQPYoXI/C9UhAj8L1KFwPSUBSuB6F6xFJQFK4HoXrEUlAuB6F61EYSUCF61G4HgVJQIXrUbgeJUlAMzMzMzPzSECF61G4HuVIQHE9CtejEElACtejcD3KSEAfhetRuN5IQAAAAAAA4EhAcT0K16PQSEC4HoXrUdhIQAAAAAAA4EhA7FG4HoXLSEAfhetRuP5IQPYoXI/CtUhArkfhehTuSECuR+F6FM5IQBSuR+F61EhASOF6FK7HSEBI4XoUrudIQBSuR+F61EhA7FG4HoXLSEBSuB6F69FIQD0K16Nw/UhAuB6F61HYSECF61G4HuVIQFyPwvUo3EhA4XoUrkfBSEDD9Shcj+JIQD0K16Nw3UhA16NwPQq3SECkcD0K16NIQBSuR+F61EhAZmZmZmbGSEBcj8L1KNxIQEjhehSu50hAAAAAAADgSECkcD0K1wNJQI/C9Shcz0hA4XoUrkfhSEAAAAAAAABJQIXrUbge5UhA16NwPQr3SECuR+F6FA5JQB+F61G4/khA4XoUrkcBSUCF61G4HgVJQFyPwvUo/EhAzczMzMwMSUDsUbgehQtJQEjhehSuB0lAPQrXo3D9SECF61G4HgVJQDMzMzMz80hArkfhehTuSEDsUbgehetIQB+F61G43khApHA9CtfjSEBSuB6F6/FIQFyPwvUo/EhAj8L1KFzvSECPwvUoXC9JQOF6FK5HAUlAmpmZmZn5SEDD9ShcjwJJQKRwPQrXA0lA16NwPQoXSUBmZmZmZgZJQD0K16Nw/UhAAAAAAAAgSUA9CtejcF1JQD0K16NwPUlAcT0K16NQSUDhehSuR2FJQArXo3A9aklACtejcD1qSUBmZmZmZiZJQM3MzMzMDElAhetRuB4lSUC4HoXrURhJQPYoXI/CFUlASOF6FK6nSUDNzMzMzOxIQArXo3A96khApHA9CtdjSUDXo3A9ChdJQI/C9Shcz0hAuB6F61G4SEAK16NwPapIQDMzMzMzs0hApHA9CtejSEDNzMzMzMxIQEjhehSup0hAZmZmZmamSEBmZmZmZqZIQKRwPQrXo0hAhetRuB7FSEBcj8L1KJxIQHE9CtejkEhA7FG4HoWLSED2KFyPwpVIQLgehetRmEhAFK5H4Xp0SEC4HoXrUXhIQBSuR+F6dEhAFK5H4Xp0SEAK16NwPWpIQFK4HoXrcUhA9ihcj8J1SEDsUbgehWtIQB+F61G4XkhA",
          "dtype": "f8"
         },
         "yaxis": "y"
        },
        {
         "hovertemplate": "variable=total de monto dispersado RD$ (titulares) %<br>año=%{x}<br>value=%{y}<extra></extra>",
         "legendgroup": "total de monto dispersado RD$ (titulares) %",
         "marker": {
          "color": "#EF553B",
          "opacity": 0.5,
          "pattern": {
           "shape": ""
          }
         },
         "name": "total de monto dispersado RD$ (titulares) %",
         "orientation": "v",
         "showlegend": true,
         "textposition": "auto",
         "type": "bar",
         "x": {
          "bdata": "3AfcB9wH3AfcB9wH3AfcB9wH3AfcB9wH3QfdB90H3QfdB90H3QfdB90H3QfdB90H3gfeB94H3gfeB94H3gfeB94H3gfeB94H3wffB98H3wffB98H3wffB98H3wffB98H4AfgB+AH4AfgB+AH4AfgB+AH4AfgB+AH4QfhB+EH4QfhB+EH4QfhB+EH4QfhB+EH4gfiB+IH4gfiB+IH4gfiB+IH4gfiB+IH4wfjB+MH4wfjB+MH4wfjB+MH4wfjB+MH5AfkB+QH5AfkB+QH5AfkB+QH5AfkB+QH5QflB+UH5QflB+UH5QflB+UH5QflB+UH5gfmB+YH5gfmB+YH5gfmB+YH5gfmB+YH5wfnB+cH5wfnB+cH5wfnB+cH5wfnB+cH",
          "dtype": "i2"
         },
         "xaxis": "x",
         "y": {
          "bdata": "mpmZmZmZR0DsUbgehYtHQBSuR+F6dEdArkfhehRuR0A9CtejcF1HQArXo3A9SkdAXI/C9SgcR0C4HoXrUThHQGZmZmZmJkdAPQrXo3AdR0AAAAAAACBHQMP1KFyPIkdA7FG4HoULR0CkcD0K1yNHQNejcD0KF0dAKVyPwvUIR0AK16NwPepGQB+F61G4/kZAj8L1KFzPRkBxPQrXo/BGQHsUrkfh2kZAZmZmZmbGRkAfhetRuL5GQK5H4XoUzkZAj8L1KFyvRkApXI/C9YhGQOF6FK5HwUZAj8L1KFyvRkB7FK5H4bpGQLgehetRuEZA4XoUrkehRkDhehSuR6FGQLgehetRmEZAcT0K16OQRkAAAAAAAKBGQMP1KFyPgkZAKVyPwvWIRkBcj8L1KHxGQD0K16NwXUZApHA9CtejRkBxPQrXo5BGQI/C9Shcj0ZAXI/C9SicRkD2KFyPwpVGQClcj8L1iEZAAAAAAACgRkDD9Shcj6JGQM3MzMzMrEZAPQrXo3B9RkBcj8L1KJxGQAAAAAAAoEZASOF6FK6nRkApXI/C9YhGQPYoXI/ClUZAPQrXo3CdRkAzMzMzM5NGQArXo3A9akZArkfhehSORkDsUbgehWtGQOxRuB6Fi0ZApHA9CtejRkCF61G4HoVGQOxRuB6Fi0ZAUrgeheuxRkApXI/C9chGQLgehetRmEZASOF6FK6nRkD2KFyPwpVGQClcj8L1iEZACtejcD2KRkCkcD0K16NGQOF6FK5HoUZAKVyPwvWIRkDNzMzMzGxGQAAAAAAAgEZA16NwPQp3RkCamZmZmVlGQArXo3A9akZApHA9CtdjRkBcj8L1KFxGQOxRuB6Fa0ZAXI/C9ShcRkDXo3A9CldGQFyPwvUoXEZAhetRuB5lRkDhehSuR2FGQFK4HoXrcUZA9ihcj8J1RkD2KFyPwnVGQIXrUbgehUZApHA9CteDRkCamZmZmXlGQOxRuB6Fa0ZAuB6F61F4RkAK16NwPYpGQD0K16NwXUZASOF6FK5nRkB7FK5H4VpGQHsUrkfhWkZAPQrXo3A9RkC4HoXrUThGQIXrUbgeJUZAAAAAAAAgRkDsUbgehetFQK5H4XoUDkZAAAAAAADgRUC4HoXrUfhFQHE9Ctej8EVA4XoUrkcBRkC4HoXrUThGQFK4HoXrUUZAcT0K16MwRkDhehSuR0FGQD0K16NwPUZAH4XrUbi+RUDNzMzMzGxGQMP1KFyPYkZAXI/C9Sg8RkDD9Shcj4JGQPYoXI/CdUZAMzMzMzOTRkAK16NwPapGQJqZmZmZmUZAZmZmZmamRkCkcD0K14NGQIXrUbgepUZASOF6FK6nRkDNzMzMzKxGQM3MzMzMrEZA9ihcj8LVRkC4HoXrUbhGQIXrUbgexUZACtejcD3KRkDhehSuR+FGQD0K16Nw3UZAmpmZmZnZRkDhehSuR+FGQAAAAAAA4EZAexSuR+HaRkDhehSuR+FGQJqZmZmZ2UZAuB6F61HYRkAfhetRuN5GQClcj8L16EZA",
          "dtype": "f8"
         },
         "yaxis": "y"
        },
        {
         "hovertemplate": "variable=total de monto dispersado RD$ (dependientes adicionales) %<br>año=%{x}<br>value=%{y}<extra></extra>",
         "legendgroup": "total de monto dispersado RD$ (dependientes adicionales) %",
         "marker": {
          "color": "#00cc96",
          "opacity": 0.5,
          "pattern": {
           "shape": ""
          }
         },
         "name": "total de monto dispersado RD$ (dependientes adicionales) %",
         "orientation": "v",
         "showlegend": true,
         "textposition": "auto",
         "type": "bar",
         "x": {
          "bdata": "3AfcB9wH3AfcB9wH3AfcB9wH3AfcB9wH3QfdB90H3QfdB90H3QfdB90H3QfdB90H3gfeB94H3gfeB94H3gfeB94H3gfeB94H3wffB98H3wffB98H3wffB98H3wffB98H4AfgB+AH4AfgB+AH4AfgB+AH4AfgB+AH4QfhB+EH4QfhB+EH4QfhB+EH4QfhB+EH4gfiB+IH4gfiB+IH4gfiB+IH4gfiB+IH4wfjB+MH4wfjB+MH4wfjB+MH4wfjB+MH5AfkB+QH5AfkB+QH5AfkB+QH5AfkB+QH5QflB+UH5QflB+UH5QflB+UH5QflB+UH5gfmB+YH5gfmB+YH5gfmB+YH5gfmB+YH5wfnB+cH5wfnB+cH5wfnB+cH5wfnB+cH",
          "dtype": "i2"
         },
         "xaxis": "x",
         "y": {
          "bdata": "UrgehetRDkC4HoXrUbgOQDMzMzMzMw9AhetRuB6FD0DsUbgehesPQDMzMzMzMxBAmpmZmZmZEEBmZmZmZmYQQI/C9ShcjxBAhetRuB6FEECamZmZmZkQQMP1KFyPwhBAzczMzMzMEED2KFyPwvUQQDMzMzMzMxFAKVyPwvUoEUBI4XoUrkcRQIXrUbgehRFAmpmZmZmZEUDD9Shcj8IQQNejcD0K1xFA9ihcj8L1EUDsUbgehesRQBSuR+F6FBJAzczMzMzMEUCkcD0K16MRQFK4HoXrURJAXI/C9ShcEkBSuB6F61ESQI/C9ShcjxJAexSuR+F6EkBmZmZmZmYSQK5H4XoUrhJAuB6F61G4EkDNzMzMzMwSQMP1KFyPwhJAH4XrUbgeFED2KFyPwvUUQI/C9ShcjxRAhetRuB6FFEB7FK5H4XoUQIXrUbgehRRAmpmZmZmZFECF61G4HoUUQLgehetRuBRApHA9CtejFED2KFyPwvUSQOxRuB6F6xRApHA9CtejFECuR+F6FK4UQGZmZmZmZhRAhetRuB6FFECF61G4HoUUQK5H4XoUrhRAuB6F61G4FEDXo3A9CtcUQM3MzMzMzBRAzczMzMzMFEBxPQrXo3AVQMP1KFyPwhRA16NwPQrXFEDD9Shcj8IUQK5H4XoUrhRAw/UoXI/CFECamZmZmZkUQJqZmZmZmRRAhetRuB6FFEBxPQrXo3AUQHsUrkfhehRArkfhehSuFEDD9Shcj8ISQHsUrkfhehRArkfhehSuFECamZmZmZkUQNejcD0K1xRAj8L1KFyPFEDD9Shcj8IUQLgehetRuBRA16NwPQrXFED2KFyPwvUUQM3MzMzMzBRAuB6F61G4FEDsUbgehesUQOF6FK5H4RRA7FG4HoXrFEDNzMzMzMwUQNejcD0K1xRA7FG4HoXrFED2KFyPwvUUQOF6FK5H4RRAzczMzMzMFECuR+F6FK4UQMP1KFyPwhRAw/UoXI/CFEAzMzMzMzMSQAAAAAAAABVA9ihcj8L1FEAUrkfhehQVQArXo3A9ChVAXI/C9ShcFUAK16NwPQoWQOxRuB6F6xZAAAAAAAAAFkC4HoXrUbgVQK5H4XoUrhVAexSuR+F6FkAzMzMzMzMVQClcj8L1KBVApHA9CtejFEAAAAAAAAAVQArXo3A9ChVAUrgehetRFUAzMzMzMzMVQGZmZmZmZhVAzczMzMzMFEAzMzMzMzMVQJqZmZmZmRVAAAAAAAAAE0AzMzMzMzMTQNejcD0K1xVApHA9CtejFUBcj8L1KFwVQJqZmZmZmRVArkfhehSuFUBxPQrXo3AVQI/C9ShcjxVAj8L1KFyPFUBmZmZmZmYVQHsUrkfhehVAKVyPwvUoE0Bcj8L1KFwVQFK4HoXrURVAUrgehetRFUBI4XoUrkcUQFK4HoXrURRAj8L1KFyPFUAzMzMzMzMVQFyPwvUoXBVAhetRuB6FFUCkcD0K16MVQK5H4XoUrhVAj8L1KFyPFUCuR+F6FK4VQMP1KFyPwhVA",
          "dtype": "f8"
         },
         "yaxis": "y"
        }
       ],
       "layout": {
        "barmode": "overlay",
        "legend": {
         "title": {
          "text": "variable"
         },
         "tracegroupgap": 0
        },
        "margin": {
         "t": 60
        },
        "template": {
         "data": {
          "bar": [
           {
            "error_x": {
             "color": "#2a3f5f"
            },
            "error_y": {
             "color": "#2a3f5f"
            },
            "marker": {
             "line": {
              "color": "#E5ECF6",
              "width": 0.5
             },
             "pattern": {
              "fillmode": "overlay",
              "size": 10,
              "solidity": 0.2
             }
            },
            "type": "bar"
           }
          ],
          "barpolar": [
           {
            "marker": {
             "line": {
              "color": "#E5ECF6",
              "width": 0.5
             },
             "pattern": {
              "fillmode": "overlay",
              "size": 10,
              "solidity": 0.2
             }
            },
            "type": "barpolar"
           }
          ],
          "carpet": [
           {
            "aaxis": {
             "endlinecolor": "#2a3f5f",
             "gridcolor": "white",
             "linecolor": "white",
             "minorgridcolor": "white",
             "startlinecolor": "#2a3f5f"
            },
            "baxis": {
             "endlinecolor": "#2a3f5f",
             "gridcolor": "white",
             "linecolor": "white",
             "minorgridcolor": "white",
             "startlinecolor": "#2a3f5f"
            },
            "type": "carpet"
           }
          ],
          "choropleth": [
           {
            "colorbar": {
             "outlinewidth": 0,
             "ticks": ""
            },
            "type": "choropleth"
           }
          ],
          "contour": [
           {
            "colorbar": {
             "outlinewidth": 0,
             "ticks": ""
            },
            "colorscale": [
             [
              0,
              "#0d0887"
             ],
             [
              0.1111111111111111,
              "#46039f"
             ],
             [
              0.2222222222222222,
              "#7201a8"
             ],
             [
              0.3333333333333333,
              "#9c179e"
             ],
             [
              0.4444444444444444,
              "#bd3786"
             ],
             [
              0.5555555555555556,
              "#d8576b"
             ],
             [
              0.6666666666666666,
              "#ed7953"
             ],
             [
              0.7777777777777778,
              "#fb9f3a"
             ],
             [
              0.8888888888888888,
              "#fdca26"
             ],
             [
              1,
              "#f0f921"
             ]
            ],
            "type": "contour"
           }
          ],
          "contourcarpet": [
           {
            "colorbar": {
             "outlinewidth": 0,
             "ticks": ""
            },
            "type": "contourcarpet"
           }
          ],
          "heatmap": [
           {
            "colorbar": {
             "outlinewidth": 0,
             "ticks": ""
            },
            "colorscale": [
             [
              0,
              "#0d0887"
             ],
             [
              0.1111111111111111,
              "#46039f"
             ],
             [
              0.2222222222222222,
              "#7201a8"
             ],
             [
              0.3333333333333333,
              "#9c179e"
             ],
             [
              0.4444444444444444,
              "#bd3786"
             ],
             [
              0.5555555555555556,
              "#d8576b"
             ],
             [
              0.6666666666666666,
              "#ed7953"
             ],
             [
              0.7777777777777778,
              "#fb9f3a"
             ],
             [
              0.8888888888888888,
              "#fdca26"
             ],
             [
              1,
              "#f0f921"
             ]
            ],
            "type": "heatmap"
           }
          ],
          "histogram": [
           {
            "marker": {
             "pattern": {
              "fillmode": "overlay",
              "size": 10,
              "solidity": 0.2
             }
            },
            "type": "histogram"
           }
          ],
          "histogram2d": [
           {
            "colorbar": {
             "outlinewidth": 0,
             "ticks": ""
            },
            "colorscale": [
             [
              0,
              "#0d0887"
             ],
             [
              0.1111111111111111,
              "#46039f"
             ],
             [
              0.2222222222222222,
              "#7201a8"
             ],
             [
              0.3333333333333333,
              "#9c179e"
             ],
             [
              0.4444444444444444,
              "#bd3786"
             ],
             [
              0.5555555555555556,
              "#d8576b"
             ],
             [
              0.6666666666666666,
              "#ed7953"
             ],
             [
              0.7777777777777778,
              "#fb9f3a"
             ],
             [
              0.8888888888888888,
              "#fdca26"
             ],
             [
              1,
              "#f0f921"
             ]
            ],
            "type": "histogram2d"
           }
          ],
          "histogram2dcontour": [
           {
            "colorbar": {
             "outlinewidth": 0,
             "ticks": ""
            },
            "colorscale": [
             [
              0,
              "#0d0887"
             ],
             [
              0.1111111111111111,
              "#46039f"
             ],
             [
              0.2222222222222222,
              "#7201a8"
             ],
             [
              0.3333333333333333,
              "#9c179e"
             ],
             [
              0.4444444444444444,
              "#bd3786"
             ],
             [
              0.5555555555555556,
              "#d8576b"
             ],
             [
              0.6666666666666666,
              "#ed7953"
             ],
             [
              0.7777777777777778,
              "#fb9f3a"
             ],
             [
              0.8888888888888888,
              "#fdca26"
             ],
             [
              1,
              "#f0f921"
             ]
            ],
            "type": "histogram2dcontour"
           }
          ],
          "mesh3d": [
           {
            "colorbar": {
             "outlinewidth": 0,
             "ticks": ""
            },
            "type": "mesh3d"
           }
          ],
          "parcoords": [
           {
            "line": {
             "colorbar": {
              "outlinewidth": 0,
              "ticks": ""
             }
            },
            "type": "parcoords"
           }
          ],
          "pie": [
           {
            "automargin": true,
            "type": "pie"
           }
          ],
          "scatter": [
           {
            "fillpattern": {
             "fillmode": "overlay",
             "size": 10,
             "solidity": 0.2
            },
            "type": "scatter"
           }
          ],
          "scatter3d": [
           {
            "line": {
             "colorbar": {
              "outlinewidth": 0,
              "ticks": ""
             }
            },
            "marker": {
             "colorbar": {
              "outlinewidth": 0,
              "ticks": ""
             }
            },
            "type": "scatter3d"
           }
          ],
          "scattercarpet": [
           {
            "marker": {
             "colorbar": {
              "outlinewidth": 0,
              "ticks": ""
             }
            },
            "type": "scattercarpet"
           }
          ],
          "scattergeo": [
           {
            "marker": {
             "colorbar": {
              "outlinewidth": 0,
              "ticks": ""
             }
            },
            "type": "scattergeo"
           }
          ],
          "scattergl": [
           {
            "marker": {
             "colorbar": {
              "outlinewidth": 0,
              "ticks": ""
             }
            },
            "type": "scattergl"
           }
          ],
          "scattermap": [
           {
            "marker": {
             "colorbar": {
              "outlinewidth": 0,
              "ticks": ""
             }
            },
            "type": "scattermap"
           }
          ],
          "scattermapbox": [
           {
            "marker": {
             "colorbar": {
              "outlinewidth": 0,
              "ticks": ""
             }
            },
            "type": "scattermapbox"
           }
          ],
          "scatterpolar": [
           {
            "marker": {
             "colorbar": {
              "outlinewidth": 0,
              "ticks": ""
             }
            },
            "type": "scatterpolar"
           }
          ],
          "scatterpolargl": [
           {
            "marker": {
             "colorbar": {
              "outlinewidth": 0,
              "ticks": ""
             }
            },
            "type": "scatterpolargl"
           }
          ],
          "scatterternary": [
           {
            "marker": {
             "colorbar": {
              "outlinewidth": 0,
              "ticks": ""
             }
            },
            "type": "scatterternary"
           }
          ],
          "surface": [
           {
            "colorbar": {
             "outlinewidth": 0,
             "ticks": ""
            },
            "colorscale": [
             [
              0,
              "#0d0887"
             ],
             [
              0.1111111111111111,
              "#46039f"
             ],
             [
              0.2222222222222222,
              "#7201a8"
             ],
             [
              0.3333333333333333,
              "#9c179e"
             ],
             [
              0.4444444444444444,
              "#bd3786"
             ],
             [
              0.5555555555555556,
              "#d8576b"
             ],
             [
              0.6666666666666666,
              "#ed7953"
             ],
             [
              0.7777777777777778,
              "#fb9f3a"
             ],
             [
              0.8888888888888888,
              "#fdca26"
             ],
             [
              1,
              "#f0f921"
             ]
            ],
            "type": "surface"
           }
          ],
          "table": [
           {
            "cells": {
             "fill": {
              "color": "#EBF0F8"
             },
             "line": {
              "color": "white"
             }
            },
            "header": {
             "fill": {
              "color": "#C8D4E3"
             },
             "line": {
              "color": "white"
             }
            },
            "type": "table"
           }
          ]
         },
         "layout": {
          "annotationdefaults": {
           "arrowcolor": "#2a3f5f",
           "arrowhead": 0,
           "arrowwidth": 1
          },
          "autotypenumbers": "strict",
          "coloraxis": {
           "colorbar": {
            "outlinewidth": 0,
            "ticks": ""
           }
          },
          "colorscale": {
           "diverging": [
            [
             0,
             "#8e0152"
            ],
            [
             0.1,
             "#c51b7d"
            ],
            [
             0.2,
             "#de77ae"
            ],
            [
             0.3,
             "#f1b6da"
            ],
            [
             0.4,
             "#fde0ef"
            ],
            [
             0.5,
             "#f7f7f7"
            ],
            [
             0.6,
             "#e6f5d0"
            ],
            [
             0.7,
             "#b8e186"
            ],
            [
             0.8,
             "#7fbc41"
            ],
            [
             0.9,
             "#4d9221"
            ],
            [
             1,
             "#276419"
            ]
           ],
           "sequential": [
            [
             0,
             "#0d0887"
            ],
            [
             0.1111111111111111,
             "#46039f"
            ],
            [
             0.2222222222222222,
             "#7201a8"
            ],
            [
             0.3333333333333333,
             "#9c179e"
            ],
            [
             0.4444444444444444,
             "#bd3786"
            ],
            [
             0.5555555555555556,
             "#d8576b"
            ],
            [
             0.6666666666666666,
             "#ed7953"
            ],
            [
             0.7777777777777778,
             "#fb9f3a"
            ],
            [
             0.8888888888888888,
             "#fdca26"
            ],
            [
             1,
             "#f0f921"
            ]
           ],
           "sequentialminus": [
            [
             0,
             "#0d0887"
            ],
            [
             0.1111111111111111,
             "#46039f"
            ],
            [
             0.2222222222222222,
             "#7201a8"
            ],
            [
             0.3333333333333333,
             "#9c179e"
            ],
            [
             0.4444444444444444,
             "#bd3786"
            ],
            [
             0.5555555555555556,
             "#d8576b"
            ],
            [
             0.6666666666666666,
             "#ed7953"
            ],
            [
             0.7777777777777778,
             "#fb9f3a"
            ],
            [
             0.8888888888888888,
             "#fdca26"
            ],
            [
             1,
             "#f0f921"
            ]
           ]
          },
          "colorway": [
           "#636efa",
           "#EF553B",
           "#00cc96",
           "#ab63fa",
           "#FFA15A",
           "#19d3f3",
           "#FF6692",
           "#B6E880",
           "#FF97FF",
           "#FECB52"
          ],
          "font": {
           "color": "#2a3f5f"
          },
          "geo": {
           "bgcolor": "white",
           "lakecolor": "white",
           "landcolor": "#E5ECF6",
           "showlakes": true,
           "showland": true,
           "subunitcolor": "white"
          },
          "hoverlabel": {
           "align": "left"
          },
          "hovermode": "closest",
          "mapbox": {
           "style": "light"
          },
          "paper_bgcolor": "white",
          "plot_bgcolor": "#E5ECF6",
          "polar": {
           "angularaxis": {
            "gridcolor": "white",
            "linecolor": "white",
            "ticks": ""
           },
           "bgcolor": "#E5ECF6",
           "radialaxis": {
            "gridcolor": "white",
            "linecolor": "white",
            "ticks": ""
           }
          },
          "scene": {
           "xaxis": {
            "backgroundcolor": "#E5ECF6",
            "gridcolor": "white",
            "gridwidth": 2,
            "linecolor": "white",
            "showbackground": true,
            "ticks": "",
            "zerolinecolor": "white"
           },
           "yaxis": {
            "backgroundcolor": "#E5ECF6",
            "gridcolor": "white",
            "gridwidth": 2,
            "linecolor": "white",
            "showbackground": true,
            "ticks": "",
            "zerolinecolor": "white"
           },
           "zaxis": {
            "backgroundcolor": "#E5ECF6",
            "gridcolor": "white",
            "gridwidth": 2,
            "linecolor": "white",
            "showbackground": true,
            "ticks": "",
            "zerolinecolor": "white"
           }
          },
          "shapedefaults": {
           "line": {
            "color": "#2a3f5f"
           }
          },
          "ternary": {
           "aaxis": {
            "gridcolor": "white",
            "linecolor": "white",
            "ticks": ""
           },
           "baxis": {
            "gridcolor": "white",
            "linecolor": "white",
            "ticks": ""
           },
           "bgcolor": "#E5ECF6",
           "caxis": {
            "gridcolor": "white",
            "linecolor": "white",
            "ticks": ""
           }
          },
          "title": {
           "x": 0.05
          },
          "xaxis": {
           "automargin": true,
           "gridcolor": "white",
           "linecolor": "white",
           "ticks": "",
           "title": {
            "standoff": 15
           },
           "zerolinecolor": "white",
           "zerolinewidth": 2
          },
          "yaxis": {
           "automargin": true,
           "gridcolor": "white",
           "linecolor": "white",
           "ticks": "",
           "title": {
            "standoff": 15
           },
           "zerolinecolor": "white",
           "zerolinewidth": 2
          }
         }
        },
        "xaxis": {
         "anchor": "y",
         "domain": [
          0,
          1
         ],
         "title": {
          "text": "año"
         }
        },
        "yaxis": {
         "anchor": "x",
         "domain": [
          0,
          1
         ],
         "title": {
          "text": "value"
         }
        }
       }
      }
     },
     "metadata": {},
     "output_type": "display_data"
    }
   ],
   "source": [
    "px.bar(\n",
    "    data,\n",
    "    x='año',\n",
    "    y=['total de monto dispersado RD$ (dependientes directos) %',\n",
    "       'total de monto dispersado RD$ (titulares) %',\n",
    "       'total de monto dispersado RD$ (dependientes adicionales) %',],\n",
    "       barmode='overlay',\n",
    "    #    orientation='h'\n",
    ")"
   ]
  }
 ],
 "metadata": {
  "kernelspec": {
   "display_name": ".venv",
   "language": "python",
   "name": "python3"
  },
  "language_info": {
   "codemirror_mode": {
    "name": "ipython",
    "version": 3
   },
   "file_extension": ".py",
   "mimetype": "text/x-python",
   "name": "python",
   "nbconvert_exporter": "python",
   "pygments_lexer": "ipython3",
   "version": "3.10.0"
  }
 },
 "nbformat": 4,
 "nbformat_minor": 2
}
