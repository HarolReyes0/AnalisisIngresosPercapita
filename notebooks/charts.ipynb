{
 "cells": [
  {
   "cell_type": "code",
   "execution_count": 1,
   "metadata": {},
   "outputs": [],
   "source": [
    "import pandas as pd\n",
    "import plotly.express as px"
   ]
  },
  {
   "cell_type": "markdown",
   "metadata": {},
   "source": [
    "# ONE 0"
   ]
  },
  {
   "cell_type": "code",
   "execution_count": 4,
   "metadata": {},
   "outputs": [
    {
     "data": {
      "text/html": [
       "<div>\n",
       "<style scoped>\n",
       "    .dataframe tbody tr th:only-of-type {\n",
       "        vertical-align: middle;\n",
       "    }\n",
       "\n",
       "    .dataframe tbody tr th {\n",
       "        vertical-align: top;\n",
       "    }\n",
       "\n",
       "    .dataframe thead th {\n",
       "        text-align: right;\n",
       "    }\n",
       "</style>\n",
       "<table border=\"1\" class=\"dataframe\">\n",
       "  <thead>\n",
       "    <tr style=\"text-align: right;\">\n",
       "      <th></th>\n",
       "      <th>Unnamed: 0</th>\n",
       "      <th>año</th>\n",
       "      <th>afiliados (total)</th>\n",
       "      <th>afiliados (subsidiado)</th>\n",
       "      <th>afiliados (contributivo)</th>\n",
       "      <th>numero de cápitas pagadas (total)</th>\n",
       "      <th>numero de cápitas pagadas (subsidiado)</th>\n",
       "      <th>numero de cápitas pagadas (contributivo)</th>\n",
       "      <th>número de cápitas /afiliado (total)</th>\n",
       "      <th>número de cápitas /afiliado (subsidiado)</th>\n",
       "      <th>número de cápitas /afiliado (contributivo)</th>\n",
       "    </tr>\n",
       "  </thead>\n",
       "  <tbody>\n",
       "    <tr>\n",
       "      <th>0</th>\n",
       "      <td>1</td>\n",
       "      <td>2005</td>\n",
       "      <td>253374</td>\n",
       "      <td>253374</td>\n",
       "      <td>0</td>\n",
       "      <td>266531</td>\n",
       "      <td>266531</td>\n",
       "      <td>0</td>\n",
       "      <td>1.051927</td>\n",
       "      <td>1.051927</td>\n",
       "      <td>0.000000</td>\n",
       "    </tr>\n",
       "    <tr>\n",
       "      <th>1</th>\n",
       "      <td>2</td>\n",
       "      <td>2006</td>\n",
       "      <td>514040</td>\n",
       "      <td>514040</td>\n",
       "      <td>0</td>\n",
       "      <td>513416</td>\n",
       "      <td>513416</td>\n",
       "      <td>0</td>\n",
       "      <td>0.998786</td>\n",
       "      <td>0.998786</td>\n",
       "      <td>0.000000</td>\n",
       "    </tr>\n",
       "    <tr>\n",
       "      <th>2</th>\n",
       "      <td>3</td>\n",
       "      <td>2007</td>\n",
       "      <td>2559117</td>\n",
       "      <td>1081936</td>\n",
       "      <td>1477181</td>\n",
       "      <td>2681403</td>\n",
       "      <td>1081936</td>\n",
       "      <td>1599467</td>\n",
       "      <td>1.047784</td>\n",
       "      <td>1.000000</td>\n",
       "      <td>1.082783</td>\n",
       "    </tr>\n",
       "    <tr>\n",
       "      <th>3</th>\n",
       "      <td>4</td>\n",
       "      <td>2008</td>\n",
       "      <td>2917157</td>\n",
       "      <td>1224898</td>\n",
       "      <td>1692259</td>\n",
       "      <td>2954314</td>\n",
       "      <td>1224643</td>\n",
       "      <td>1729671</td>\n",
       "      <td>1.012737</td>\n",
       "      <td>0.999792</td>\n",
       "      <td>1.022108</td>\n",
       "    </tr>\n",
       "    <tr>\n",
       "      <th>4</th>\n",
       "      <td>5</td>\n",
       "      <td>2009</td>\n",
       "      <td>3492524</td>\n",
       "      <td>1404225</td>\n",
       "      <td>2088299</td>\n",
       "      <td>3442398</td>\n",
       "      <td>1346166</td>\n",
       "      <td>2096232</td>\n",
       "      <td>0.985648</td>\n",
       "      <td>0.958654</td>\n",
       "      <td>1.003799</td>\n",
       "    </tr>\n",
       "    <tr>\n",
       "      <th>5</th>\n",
       "      <td>6</td>\n",
       "      <td>2010</td>\n",
       "      <td>4377869</td>\n",
       "      <td>2013786</td>\n",
       "      <td>2364083</td>\n",
       "      <td>4265825</td>\n",
       "      <td>1847833</td>\n",
       "      <td>2417992</td>\n",
       "      <td>0.974407</td>\n",
       "      <td>0.917592</td>\n",
       "      <td>1.022803</td>\n",
       "    </tr>\n",
       "    <tr>\n",
       "      <th>6</th>\n",
       "      <td>7</td>\n",
       "      <td>2011</td>\n",
       "      <td>4520850</td>\n",
       "      <td>2003427</td>\n",
       "      <td>2517423</td>\n",
       "      <td>4583278</td>\n",
       "      <td>1996335</td>\n",
       "      <td>2586943</td>\n",
       "      <td>1.013809</td>\n",
       "      <td>0.996460</td>\n",
       "      <td>1.027616</td>\n",
       "    </tr>\n",
       "    <tr>\n",
       "      <th>7</th>\n",
       "      <td>8</td>\n",
       "      <td>2012</td>\n",
       "      <td>4991762</td>\n",
       "      <td>2303351</td>\n",
       "      <td>2688411</td>\n",
       "      <td>5042091</td>\n",
       "      <td>2294356</td>\n",
       "      <td>2747735</td>\n",
       "      <td>1.010082</td>\n",
       "      <td>0.996095</td>\n",
       "      <td>1.022067</td>\n",
       "    </tr>\n",
       "    <tr>\n",
       "      <th>8</th>\n",
       "      <td>9</td>\n",
       "      <td>2013</td>\n",
       "      <td>5611059</td>\n",
       "      <td>2751753</td>\n",
       "      <td>2859306</td>\n",
       "      <td>5612213</td>\n",
       "      <td>2646899</td>\n",
       "      <td>2965314</td>\n",
       "      <td>1.000206</td>\n",
       "      <td>0.961896</td>\n",
       "      <td>1.037075</td>\n",
       "    </tr>\n",
       "    <tr>\n",
       "      <th>9</th>\n",
       "      <td>10</td>\n",
       "      <td>2014</td>\n",
       "      <td>6157245</td>\n",
       "      <td>3015646</td>\n",
       "      <td>3141599</td>\n",
       "      <td>6240593</td>\n",
       "      <td>3015646</td>\n",
       "      <td>3224947</td>\n",
       "      <td>1.013537</td>\n",
       "      <td>1.000000</td>\n",
       "      <td>1.026530</td>\n",
       "    </tr>\n",
       "    <tr>\n",
       "      <th>10</th>\n",
       "      <td>11</td>\n",
       "      <td>2015</td>\n",
       "      <td>6657243</td>\n",
       "      <td>3317405</td>\n",
       "      <td>3339838</td>\n",
       "      <td>6517618</td>\n",
       "      <td>3110557</td>\n",
       "      <td>3407061</td>\n",
       "      <td>0.979027</td>\n",
       "      <td>0.937648</td>\n",
       "      <td>1.020128</td>\n",
       "    </tr>\n",
       "    <tr>\n",
       "      <th>11</th>\n",
       "      <td>12</td>\n",
       "      <td>2016</td>\n",
       "      <td>6938356</td>\n",
       "      <td>3347068</td>\n",
       "      <td>3591288</td>\n",
       "      <td>7053382</td>\n",
       "      <td>3353566</td>\n",
       "      <td>3699816</td>\n",
       "      <td>1.016578</td>\n",
       "      <td>1.001941</td>\n",
       "      <td>1.030220</td>\n",
       "    </tr>\n",
       "    <tr>\n",
       "      <th>12</th>\n",
       "      <td>13</td>\n",
       "      <td>2017</td>\n",
       "      <td>7449280</td>\n",
       "      <td>3546688</td>\n",
       "      <td>3902592</td>\n",
       "      <td>7565682</td>\n",
       "      <td>3545383</td>\n",
       "      <td>4020299</td>\n",
       "      <td>1.015626</td>\n",
       "      <td>0.999632</td>\n",
       "      <td>1.030161</td>\n",
       "    </tr>\n",
       "    <tr>\n",
       "      <th>13</th>\n",
       "      <td>14</td>\n",
       "      <td>2018</td>\n",
       "      <td>7774137</td>\n",
       "      <td>3620150</td>\n",
       "      <td>4153987</td>\n",
       "      <td>7831518</td>\n",
       "      <td>3591049</td>\n",
       "      <td>4240469</td>\n",
       "      <td>1.007381</td>\n",
       "      <td>0.991961</td>\n",
       "      <td>1.020819</td>\n",
       "    </tr>\n",
       "    <tr>\n",
       "      <th>14</th>\n",
       "      <td>15</td>\n",
       "      <td>2019</td>\n",
       "      <td>7954923</td>\n",
       "      <td>3726262</td>\n",
       "      <td>4228661</td>\n",
       "      <td>8021503</td>\n",
       "      <td>3711158</td>\n",
       "      <td>4310345</td>\n",
       "      <td>1.008370</td>\n",
       "      <td>0.995947</td>\n",
       "      <td>1.019317</td>\n",
       "    </tr>\n",
       "    <tr>\n",
       "      <th>15</th>\n",
       "      <td>16</td>\n",
       "      <td>2020</td>\n",
       "      <td>9961742</td>\n",
       "      <td>5746839</td>\n",
       "      <td>4214903</td>\n",
       "      <td>10087942</td>\n",
       "      <td>5742227</td>\n",
       "      <td>4345715</td>\n",
       "      <td>1.012668</td>\n",
       "      <td>0.999197</td>\n",
       "      <td>1.031036</td>\n",
       "    </tr>\n",
       "    <tr>\n",
       "      <th>16</th>\n",
       "      <td>17</td>\n",
       "      <td>2021</td>\n",
       "      <td>10032808</td>\n",
       "      <td>5747449</td>\n",
       "      <td>4285359</td>\n",
       "      <td>4359036</td>\n",
       "      <td>0</td>\n",
       "      <td>4359036</td>\n",
       "      <td>0.434478</td>\n",
       "      <td>0.000000</td>\n",
       "      <td>1.017193</td>\n",
       "    </tr>\n",
       "    <tr>\n",
       "      <th>17</th>\n",
       "      <td>21</td>\n",
       "      <td>2022</td>\n",
       "      <td>10339111</td>\n",
       "      <td>5770201</td>\n",
       "      <td>4568910</td>\n",
       "      <td>4649234</td>\n",
       "      <td>0</td>\n",
       "      <td>4649234</td>\n",
       "      <td>0.449674</td>\n",
       "      <td>0.000000</td>\n",
       "      <td>1.017581</td>\n",
       "    </tr>\n",
       "    <tr>\n",
       "      <th>18</th>\n",
       "      <td>25</td>\n",
       "      <td>2023</td>\n",
       "      <td>10267254</td>\n",
       "      <td>5690186</td>\n",
       "      <td>4577068</td>\n",
       "      <td>4662640</td>\n",
       "      <td>0</td>\n",
       "      <td>4662640</td>\n",
       "      <td>0.509348</td>\n",
       "      <td>0.000000</td>\n",
       "      <td>1.018696</td>\n",
       "    </tr>\n",
       "  </tbody>\n",
       "</table>\n",
       "</div>"
      ],
      "text/plain": [
       "    Unnamed: 0   año  afiliados (total)  afiliados (subsidiado)  \\\n",
       "0            1  2005             253374                  253374   \n",
       "1            2  2006             514040                  514040   \n",
       "2            3  2007            2559117                 1081936   \n",
       "3            4  2008            2917157                 1224898   \n",
       "4            5  2009            3492524                 1404225   \n",
       "5            6  2010            4377869                 2013786   \n",
       "6            7  2011            4520850                 2003427   \n",
       "7            8  2012            4991762                 2303351   \n",
       "8            9  2013            5611059                 2751753   \n",
       "9           10  2014            6157245                 3015646   \n",
       "10          11  2015            6657243                 3317405   \n",
       "11          12  2016            6938356                 3347068   \n",
       "12          13  2017            7449280                 3546688   \n",
       "13          14  2018            7774137                 3620150   \n",
       "14          15  2019            7954923                 3726262   \n",
       "15          16  2020            9961742                 5746839   \n",
       "16          17  2021           10032808                 5747449   \n",
       "17          21  2022           10339111                 5770201   \n",
       "18          25  2023           10267254                 5690186   \n",
       "\n",
       "    afiliados (contributivo)  numero de cápitas pagadas (total)  \\\n",
       "0                          0                             266531   \n",
       "1                          0                             513416   \n",
       "2                    1477181                            2681403   \n",
       "3                    1692259                            2954314   \n",
       "4                    2088299                            3442398   \n",
       "5                    2364083                            4265825   \n",
       "6                    2517423                            4583278   \n",
       "7                    2688411                            5042091   \n",
       "8                    2859306                            5612213   \n",
       "9                    3141599                            6240593   \n",
       "10                   3339838                            6517618   \n",
       "11                   3591288                            7053382   \n",
       "12                   3902592                            7565682   \n",
       "13                   4153987                            7831518   \n",
       "14                   4228661                            8021503   \n",
       "15                   4214903                           10087942   \n",
       "16                   4285359                            4359036   \n",
       "17                   4568910                            4649234   \n",
       "18                   4577068                            4662640   \n",
       "\n",
       "    numero de cápitas pagadas (subsidiado)  \\\n",
       "0                                   266531   \n",
       "1                                   513416   \n",
       "2                                  1081936   \n",
       "3                                  1224643   \n",
       "4                                  1346166   \n",
       "5                                  1847833   \n",
       "6                                  1996335   \n",
       "7                                  2294356   \n",
       "8                                  2646899   \n",
       "9                                  3015646   \n",
       "10                                 3110557   \n",
       "11                                 3353566   \n",
       "12                                 3545383   \n",
       "13                                 3591049   \n",
       "14                                 3711158   \n",
       "15                                 5742227   \n",
       "16                                       0   \n",
       "17                                       0   \n",
       "18                                       0   \n",
       "\n",
       "    numero de cápitas pagadas (contributivo)  \\\n",
       "0                                          0   \n",
       "1                                          0   \n",
       "2                                    1599467   \n",
       "3                                    1729671   \n",
       "4                                    2096232   \n",
       "5                                    2417992   \n",
       "6                                    2586943   \n",
       "7                                    2747735   \n",
       "8                                    2965314   \n",
       "9                                    3224947   \n",
       "10                                   3407061   \n",
       "11                                   3699816   \n",
       "12                                   4020299   \n",
       "13                                   4240469   \n",
       "14                                   4310345   \n",
       "15                                   4345715   \n",
       "16                                   4359036   \n",
       "17                                   4649234   \n",
       "18                                   4662640   \n",
       "\n",
       "    número de cápitas /afiliado (total)  \\\n",
       "0                              1.051927   \n",
       "1                              0.998786   \n",
       "2                              1.047784   \n",
       "3                              1.012737   \n",
       "4                              0.985648   \n",
       "5                              0.974407   \n",
       "6                              1.013809   \n",
       "7                              1.010082   \n",
       "8                              1.000206   \n",
       "9                              1.013537   \n",
       "10                             0.979027   \n",
       "11                             1.016578   \n",
       "12                             1.015626   \n",
       "13                             1.007381   \n",
       "14                             1.008370   \n",
       "15                             1.012668   \n",
       "16                             0.434478   \n",
       "17                             0.449674   \n",
       "18                             0.509348   \n",
       "\n",
       "    número de cápitas /afiliado (subsidiado)  \\\n",
       "0                                   1.051927   \n",
       "1                                   0.998786   \n",
       "2                                   1.000000   \n",
       "3                                   0.999792   \n",
       "4                                   0.958654   \n",
       "5                                   0.917592   \n",
       "6                                   0.996460   \n",
       "7                                   0.996095   \n",
       "8                                   0.961896   \n",
       "9                                   1.000000   \n",
       "10                                  0.937648   \n",
       "11                                  1.001941   \n",
       "12                                  0.999632   \n",
       "13                                  0.991961   \n",
       "14                                  0.995947   \n",
       "15                                  0.999197   \n",
       "16                                  0.000000   \n",
       "17                                  0.000000   \n",
       "18                                  0.000000   \n",
       "\n",
       "    número de cápitas /afiliado (contributivo)  \n",
       "0                                     0.000000  \n",
       "1                                     0.000000  \n",
       "2                                     1.082783  \n",
       "3                                     1.022108  \n",
       "4                                     1.003799  \n",
       "5                                     1.022803  \n",
       "6                                     1.027616  \n",
       "7                                     1.022067  \n",
       "8                                     1.037075  \n",
       "9                                     1.026530  \n",
       "10                                    1.020128  \n",
       "11                                    1.030220  \n",
       "12                                    1.030161  \n",
       "13                                    1.020819  \n",
       "14                                    1.019317  \n",
       "15                                    1.031036  \n",
       "16                                    1.017193  \n",
       "17                                    1.017581  \n",
       "18                                    1.018696  "
      ]
     },
     "execution_count": 4,
     "metadata": {},
     "output_type": "execute_result"
    }
   ],
   "source": [
    "data = pd.read_excel('../data/processed/one/one 0.xlsx')\n",
    "data"
   ]
  },
  {
   "cell_type": "code",
   "execution_count": null,
   "metadata": {},
   "outputs": [
    {
     "data": {
      "application/vnd.plotly.v1+json": {
       "config": {
        "plotlyServerURL": "https://plot.ly"
       },
       "data": [
        {
         "hovertemplate": "variable=afiliados (total)<br>año=%{x}<br>value=%{y}<extra></extra>",
         "legendgroup": "afiliados (total)",
         "line": {
          "color": "#636efa",
          "dash": "solid"
         },
         "marker": {
          "symbol": "circle"
         },
         "mode": "lines+markers",
         "name": "afiliados (total)",
         "orientation": "v",
         "showlegend": true,
         "type": "scatter",
         "x": {
          "bdata": "1QfWB9cH2AfZB9oH2wfcB90H3gffB+AH4QfiB+MH5AflB+YH5wc=",
          "dtype": "i2"
         },
         "xaxis": "x",
         "y": {
          "bdata": "vt0DAPjXBwCNDCcAJYMsAKxKNQANzUIAkvtEABIrTAAznlUAvfNdANuUZQD03mkAwKpxALmfdgDrYXkADgGYAKgWmQAnw50AdqqcAA==",
          "dtype": "i4"
         },
         "yaxis": "y"
        },
        {
         "hovertemplate": "variable=afiliados (subsidiado)<br>año=%{x}<br>value=%{y}<extra></extra>",
         "legendgroup": "afiliados (subsidiado)",
         "line": {
          "color": "#EF553B",
          "dash": "solid"
         },
         "marker": {
          "symbol": "circle"
         },
         "mode": "lines+markers",
         "name": "afiliados (subsidiado)",
         "orientation": "v",
         "showlegend": true,
         "type": "scatter",
         "x": {
          "bdata": "1QfWB9cH2AfZB9oH2wfcB90H3gffB+AH4QfiB+MH5AflB+YH5wc=",
          "dtype": "i2"
         },
         "xaxis": "x",
         "y": {
          "bdata": "vt0DAPjXBwBQghAAwrASAEFtFQBauh4A45EeAHclIwAJ/SkA3gMuAJ2eMgB8EjMAQB42ADY9NwC22zgAl7BXAPmyVwDZC1gAStNWAA==",
          "dtype": "i4"
         },
         "yaxis": "y"
        },
        {
         "hovertemplate": "variable=afiliados (contributivo)<br>año=%{x}<br>value=%{y}<extra></extra>",
         "legendgroup": "afiliados (contributivo)",
         "line": {
          "color": "#00cc96",
          "dash": "solid"
         },
         "marker": {
          "symbol": "circle"
         },
         "mode": "lines+markers",
         "name": "afiliados (contributivo)",
         "orientation": "v",
         "showlegend": true,
         "type": "scatter",
         "x": {
          "bdata": "1QfWB9cH2AfZB9oH2wfcB90H3gffB+AH4QfiB+MH5AflB+YH5wc=",
          "dtype": "i2"
         },
         "xaxis": "x",
         "y": {
          "bdata": "AAAAAAAAAAA9ihYAY9IZAGvdHwCzEiQAr2kmAJsFKQAqoSsA3+8vAD72MgB4zDYAgIw7AINiPwA1hkAAd1BAAK9jQQBOt0UALNdFAA==",
          "dtype": "i4"
         },
         "yaxis": "y"
        }
       ],
       "layout": {
        "legend": {
         "title": {
          "text": "variable"
         },
         "tracegroupgap": 0
        },
        "margin": {
         "t": 60
        },
        "template": {
         "data": {
          "bar": [
           {
            "error_x": {
             "color": "#2a3f5f"
            },
            "error_y": {
             "color": "#2a3f5f"
            },
            "marker": {
             "line": {
              "color": "#E5ECF6",
              "width": 0.5
             },
             "pattern": {
              "fillmode": "overlay",
              "size": 10,
              "solidity": 0.2
             }
            },
            "type": "bar"
           }
          ],
          "barpolar": [
           {
            "marker": {
             "line": {
              "color": "#E5ECF6",
              "width": 0.5
             },
             "pattern": {
              "fillmode": "overlay",
              "size": 10,
              "solidity": 0.2
             }
            },
            "type": "barpolar"
           }
          ],
          "carpet": [
           {
            "aaxis": {
             "endlinecolor": "#2a3f5f",
             "gridcolor": "white",
             "linecolor": "white",
             "minorgridcolor": "white",
             "startlinecolor": "#2a3f5f"
            },
            "baxis": {
             "endlinecolor": "#2a3f5f",
             "gridcolor": "white",
             "linecolor": "white",
             "minorgridcolor": "white",
             "startlinecolor": "#2a3f5f"
            },
            "type": "carpet"
           }
          ],
          "choropleth": [
           {
            "colorbar": {
             "outlinewidth": 0,
             "ticks": ""
            },
            "type": "choropleth"
           }
          ],
          "contour": [
           {
            "colorbar": {
             "outlinewidth": 0,
             "ticks": ""
            },
            "colorscale": [
             [
              0,
              "#0d0887"
             ],
             [
              0.1111111111111111,
              "#46039f"
             ],
             [
              0.2222222222222222,
              "#7201a8"
             ],
             [
              0.3333333333333333,
              "#9c179e"
             ],
             [
              0.4444444444444444,
              "#bd3786"
             ],
             [
              0.5555555555555556,
              "#d8576b"
             ],
             [
              0.6666666666666666,
              "#ed7953"
             ],
             [
              0.7777777777777778,
              "#fb9f3a"
             ],
             [
              0.8888888888888888,
              "#fdca26"
             ],
             [
              1,
              "#f0f921"
             ]
            ],
            "type": "contour"
           }
          ],
          "contourcarpet": [
           {
            "colorbar": {
             "outlinewidth": 0,
             "ticks": ""
            },
            "type": "contourcarpet"
           }
          ],
          "heatmap": [
           {
            "colorbar": {
             "outlinewidth": 0,
             "ticks": ""
            },
            "colorscale": [
             [
              0,
              "#0d0887"
             ],
             [
              0.1111111111111111,
              "#46039f"
             ],
             [
              0.2222222222222222,
              "#7201a8"
             ],
             [
              0.3333333333333333,
              "#9c179e"
             ],
             [
              0.4444444444444444,
              "#bd3786"
             ],
             [
              0.5555555555555556,
              "#d8576b"
             ],
             [
              0.6666666666666666,
              "#ed7953"
             ],
             [
              0.7777777777777778,
              "#fb9f3a"
             ],
             [
              0.8888888888888888,
              "#fdca26"
             ],
             [
              1,
              "#f0f921"
             ]
            ],
            "type": "heatmap"
           }
          ],
          "histogram": [
           {
            "marker": {
             "pattern": {
              "fillmode": "overlay",
              "size": 10,
              "solidity": 0.2
             }
            },
            "type": "histogram"
           }
          ],
          "histogram2d": [
           {
            "colorbar": {
             "outlinewidth": 0,
             "ticks": ""
            },
            "colorscale": [
             [
              0,
              "#0d0887"
             ],
             [
              0.1111111111111111,
              "#46039f"
             ],
             [
              0.2222222222222222,
              "#7201a8"
             ],
             [
              0.3333333333333333,
              "#9c179e"
             ],
             [
              0.4444444444444444,
              "#bd3786"
             ],
             [
              0.5555555555555556,
              "#d8576b"
             ],
             [
              0.6666666666666666,
              "#ed7953"
             ],
             [
              0.7777777777777778,
              "#fb9f3a"
             ],
             [
              0.8888888888888888,
              "#fdca26"
             ],
             [
              1,
              "#f0f921"
             ]
            ],
            "type": "histogram2d"
           }
          ],
          "histogram2dcontour": [
           {
            "colorbar": {
             "outlinewidth": 0,
             "ticks": ""
            },
            "colorscale": [
             [
              0,
              "#0d0887"
             ],
             [
              0.1111111111111111,
              "#46039f"
             ],
             [
              0.2222222222222222,
              "#7201a8"
             ],
             [
              0.3333333333333333,
              "#9c179e"
             ],
             [
              0.4444444444444444,
              "#bd3786"
             ],
             [
              0.5555555555555556,
              "#d8576b"
             ],
             [
              0.6666666666666666,
              "#ed7953"
             ],
             [
              0.7777777777777778,
              "#fb9f3a"
             ],
             [
              0.8888888888888888,
              "#fdca26"
             ],
             [
              1,
              "#f0f921"
             ]
            ],
            "type": "histogram2dcontour"
           }
          ],
          "mesh3d": [
           {
            "colorbar": {
             "outlinewidth": 0,
             "ticks": ""
            },
            "type": "mesh3d"
           }
          ],
          "parcoords": [
           {
            "line": {
             "colorbar": {
              "outlinewidth": 0,
              "ticks": ""
             }
            },
            "type": "parcoords"
           }
          ],
          "pie": [
           {
            "automargin": true,
            "type": "pie"
           }
          ],
          "scatter": [
           {
            "fillpattern": {
             "fillmode": "overlay",
             "size": 10,
             "solidity": 0.2
            },
            "type": "scatter"
           }
          ],
          "scatter3d": [
           {
            "line": {
             "colorbar": {
              "outlinewidth": 0,
              "ticks": ""
             }
            },
            "marker": {
             "colorbar": {
              "outlinewidth": 0,
              "ticks": ""
             }
            },
            "type": "scatter3d"
           }
          ],
          "scattercarpet": [
           {
            "marker": {
             "colorbar": {
              "outlinewidth": 0,
              "ticks": ""
             }
            },
            "type": "scattercarpet"
           }
          ],
          "scattergeo": [
           {
            "marker": {
             "colorbar": {
              "outlinewidth": 0,
              "ticks": ""
             }
            },
            "type": "scattergeo"
           }
          ],
          "scattergl": [
           {
            "marker": {
             "colorbar": {
              "outlinewidth": 0,
              "ticks": ""
             }
            },
            "type": "scattergl"
           }
          ],
          "scattermap": [
           {
            "marker": {
             "colorbar": {
              "outlinewidth": 0,
              "ticks": ""
             }
            },
            "type": "scattermap"
           }
          ],
          "scattermapbox": [
           {
            "marker": {
             "colorbar": {
              "outlinewidth": 0,
              "ticks": ""
             }
            },
            "type": "scattermapbox"
           }
          ],
          "scatterpolar": [
           {
            "marker": {
             "colorbar": {
              "outlinewidth": 0,
              "ticks": ""
             }
            },
            "type": "scatterpolar"
           }
          ],
          "scatterpolargl": [
           {
            "marker": {
             "colorbar": {
              "outlinewidth": 0,
              "ticks": ""
             }
            },
            "type": "scatterpolargl"
           }
          ],
          "scatterternary": [
           {
            "marker": {
             "colorbar": {
              "outlinewidth": 0,
              "ticks": ""
             }
            },
            "type": "scatterternary"
           }
          ],
          "surface": [
           {
            "colorbar": {
             "outlinewidth": 0,
             "ticks": ""
            },
            "colorscale": [
             [
              0,
              "#0d0887"
             ],
             [
              0.1111111111111111,
              "#46039f"
             ],
             [
              0.2222222222222222,
              "#7201a8"
             ],
             [
              0.3333333333333333,
              "#9c179e"
             ],
             [
              0.4444444444444444,
              "#bd3786"
             ],
             [
              0.5555555555555556,
              "#d8576b"
             ],
             [
              0.6666666666666666,
              "#ed7953"
             ],
             [
              0.7777777777777778,
              "#fb9f3a"
             ],
             [
              0.8888888888888888,
              "#fdca26"
             ],
             [
              1,
              "#f0f921"
             ]
            ],
            "type": "surface"
           }
          ],
          "table": [
           {
            "cells": {
             "fill": {
              "color": "#EBF0F8"
             },
             "line": {
              "color": "white"
             }
            },
            "header": {
             "fill": {
              "color": "#C8D4E3"
             },
             "line": {
              "color": "white"
             }
            },
            "type": "table"
           }
          ]
         },
         "layout": {
          "annotationdefaults": {
           "arrowcolor": "#2a3f5f",
           "arrowhead": 0,
           "arrowwidth": 1
          },
          "autotypenumbers": "strict",
          "coloraxis": {
           "colorbar": {
            "outlinewidth": 0,
            "ticks": ""
           }
          },
          "colorscale": {
           "diverging": [
            [
             0,
             "#8e0152"
            ],
            [
             0.1,
             "#c51b7d"
            ],
            [
             0.2,
             "#de77ae"
            ],
            [
             0.3,
             "#f1b6da"
            ],
            [
             0.4,
             "#fde0ef"
            ],
            [
             0.5,
             "#f7f7f7"
            ],
            [
             0.6,
             "#e6f5d0"
            ],
            [
             0.7,
             "#b8e186"
            ],
            [
             0.8,
             "#7fbc41"
            ],
            [
             0.9,
             "#4d9221"
            ],
            [
             1,
             "#276419"
            ]
           ],
           "sequential": [
            [
             0,
             "#0d0887"
            ],
            [
             0.1111111111111111,
             "#46039f"
            ],
            [
             0.2222222222222222,
             "#7201a8"
            ],
            [
             0.3333333333333333,
             "#9c179e"
            ],
            [
             0.4444444444444444,
             "#bd3786"
            ],
            [
             0.5555555555555556,
             "#d8576b"
            ],
            [
             0.6666666666666666,
             "#ed7953"
            ],
            [
             0.7777777777777778,
             "#fb9f3a"
            ],
            [
             0.8888888888888888,
             "#fdca26"
            ],
            [
             1,
             "#f0f921"
            ]
           ],
           "sequentialminus": [
            [
             0,
             "#0d0887"
            ],
            [
             0.1111111111111111,
             "#46039f"
            ],
            [
             0.2222222222222222,
             "#7201a8"
            ],
            [
             0.3333333333333333,
             "#9c179e"
            ],
            [
             0.4444444444444444,
             "#bd3786"
            ],
            [
             0.5555555555555556,
             "#d8576b"
            ],
            [
             0.6666666666666666,
             "#ed7953"
            ],
            [
             0.7777777777777778,
             "#fb9f3a"
            ],
            [
             0.8888888888888888,
             "#fdca26"
            ],
            [
             1,
             "#f0f921"
            ]
           ]
          },
          "colorway": [
           "#636efa",
           "#EF553B",
           "#00cc96",
           "#ab63fa",
           "#FFA15A",
           "#19d3f3",
           "#FF6692",
           "#B6E880",
           "#FF97FF",
           "#FECB52"
          ],
          "font": {
           "color": "#2a3f5f"
          },
          "geo": {
           "bgcolor": "white",
           "lakecolor": "white",
           "landcolor": "#E5ECF6",
           "showlakes": true,
           "showland": true,
           "subunitcolor": "white"
          },
          "hoverlabel": {
           "align": "left"
          },
          "hovermode": "closest",
          "mapbox": {
           "style": "light"
          },
          "paper_bgcolor": "white",
          "plot_bgcolor": "#E5ECF6",
          "polar": {
           "angularaxis": {
            "gridcolor": "white",
            "linecolor": "white",
            "ticks": ""
           },
           "bgcolor": "#E5ECF6",
           "radialaxis": {
            "gridcolor": "white",
            "linecolor": "white",
            "ticks": ""
           }
          },
          "scene": {
           "xaxis": {
            "backgroundcolor": "#E5ECF6",
            "gridcolor": "white",
            "gridwidth": 2,
            "linecolor": "white",
            "showbackground": true,
            "ticks": "",
            "zerolinecolor": "white"
           },
           "yaxis": {
            "backgroundcolor": "#E5ECF6",
            "gridcolor": "white",
            "gridwidth": 2,
            "linecolor": "white",
            "showbackground": true,
            "ticks": "",
            "zerolinecolor": "white"
           },
           "zaxis": {
            "backgroundcolor": "#E5ECF6",
            "gridcolor": "white",
            "gridwidth": 2,
            "linecolor": "white",
            "showbackground": true,
            "ticks": "",
            "zerolinecolor": "white"
           }
          },
          "shapedefaults": {
           "line": {
            "color": "#2a3f5f"
           }
          },
          "ternary": {
           "aaxis": {
            "gridcolor": "white",
            "linecolor": "white",
            "ticks": ""
           },
           "baxis": {
            "gridcolor": "white",
            "linecolor": "white",
            "ticks": ""
           },
           "bgcolor": "#E5ECF6",
           "caxis": {
            "gridcolor": "white",
            "linecolor": "white",
            "ticks": ""
           }
          },
          "title": {
           "x": 0.05
          },
          "xaxis": {
           "automargin": true,
           "gridcolor": "white",
           "linecolor": "white",
           "ticks": "",
           "title": {
            "standoff": 15
           },
           "zerolinecolor": "white",
           "zerolinewidth": 2
          },
          "yaxis": {
           "automargin": true,
           "gridcolor": "white",
           "linecolor": "white",
           "ticks": "",
           "title": {
            "standoff": 15
           },
           "zerolinecolor": "white",
           "zerolinewidth": 2
          }
         }
        },
        "xaxis": {
         "anchor": "y",
         "domain": [
          0,
          1
         ],
         "title": {
          "text": "año"
         }
        },
        "yaxis": {
         "anchor": "x",
         "domain": [
          0,
          1
         ],
         "title": {
          "text": "value"
         }
        }
       }
      }
     },
     "metadata": {},
     "output_type": "display_data"
    }
   ],
   "source": [
    "filter_ = 'all'\n",
    "\n",
    "# Data filters.\n",
    "default_filter = ['afiliados (total)', 'afiliados (subsidiado)', 'afiliados (contributivo)']\n",
    "filters = {\n",
    "    'subsidiado' : ['afiliados (subsidiado)'],\n",
    "    'contributivo' : ['afiliados (contributivo)'],\n",
    "}\n",
    "\n",
    "# Selecting the data that will be used as y axis.\n",
    "y_axis_data = filters.get('', default_filter)\n",
    "\n",
    "# Plotting the data.\n",
    "fig = px.line(\n",
    "    data_frame = data,\n",
    "    x = 'año',\n",
    "    y = y_axis_data,\n",
    "    markers=True\n",
    ")\n",
    "\n",
    "fig.show()"
   ]
  },
  {
   "cell_type": "code",
   "execution_count": 15,
   "metadata": {},
   "outputs": [
    {
     "data": {
      "application/vnd.plotly.v1+json": {
       "config": {
        "plotlyServerURL": "https://plot.ly"
       },
       "data": [
        {
         "hovertemplate": "variable=numero de cápitas pagadas (subsidiado)<br>año=%{x}<br>value=%{y}<extra></extra>",
         "legendgroup": "numero de cápitas pagadas (subsidiado)",
         "marker": {
          "color": "#636efa",
          "pattern": {
           "shape": ""
          }
         },
         "name": "numero de cápitas pagadas (subsidiado)",
         "orientation": "v",
         "showlegend": true,
         "textposition": "auto",
         "type": "bar",
         "x": {
          "bdata": "1QfWB9cH2AfZB9oH2wfcB90H3gffB+AH4QfiB+MH5AflB+YH5wc=",
          "dtype": "i2"
         },
         "xaxis": "x",
         "y": {
          "bdata": "IxEEAIjVBwBQghAAw68SAHaKFAAZMhwAL3YeAFQCIwBzYygA3gMuAJ12LwDeKzMAJxk2AInLNgC2oDgAk55XAAAAAAAAAAAAAAAAAA==",
          "dtype": "i4"
         },
         "yaxis": "y"
        },
        {
         "hovertemplate": "variable=numero de cápitas pagadas (contributivo)<br>año=%{x}<br>value=%{y}<extra></extra>",
         "legendgroup": "numero de cápitas pagadas (contributivo)",
         "marker": {
          "color": "#EF553B",
          "pattern": {
           "shape": ""
          }
         },
         "name": "numero de cápitas pagadas (contributivo)",
         "orientation": "v",
         "showlegend": true,
         "textposition": "auto",
         "type": "bar",
         "x": {
          "bdata": "1QfWB9cH2AfZB9oH2wfcB90H3gffB+AH4QfiB+MH5AflB+YH5wc=",
          "dtype": "i2"
         },
         "xaxis": "x",
         "y": {
          "bdata": "AAAAAAAAAADrZxgAh2QaAGj8HwBI5SQAP3knAFftKQBCPy0AczUxANX8MwBodDgAS1g9AFW0QABJxUEAc09CAHyDQgAS8UYAcCVHAA==",
          "dtype": "i4"
         },
         "yaxis": "y"
        }
       ],
       "layout": {
        "barmode": "relative",
        "legend": {
         "title": {
          "text": "variable"
         },
         "tracegroupgap": 0
        },
        "margin": {
         "t": 60
        },
        "template": {
         "data": {
          "bar": [
           {
            "error_x": {
             "color": "#2a3f5f"
            },
            "error_y": {
             "color": "#2a3f5f"
            },
            "marker": {
             "line": {
              "color": "#E5ECF6",
              "width": 0.5
             },
             "pattern": {
              "fillmode": "overlay",
              "size": 10,
              "solidity": 0.2
             }
            },
            "type": "bar"
           }
          ],
          "barpolar": [
           {
            "marker": {
             "line": {
              "color": "#E5ECF6",
              "width": 0.5
             },
             "pattern": {
              "fillmode": "overlay",
              "size": 10,
              "solidity": 0.2
             }
            },
            "type": "barpolar"
           }
          ],
          "carpet": [
           {
            "aaxis": {
             "endlinecolor": "#2a3f5f",
             "gridcolor": "white",
             "linecolor": "white",
             "minorgridcolor": "white",
             "startlinecolor": "#2a3f5f"
            },
            "baxis": {
             "endlinecolor": "#2a3f5f",
             "gridcolor": "white",
             "linecolor": "white",
             "minorgridcolor": "white",
             "startlinecolor": "#2a3f5f"
            },
            "type": "carpet"
           }
          ],
          "choropleth": [
           {
            "colorbar": {
             "outlinewidth": 0,
             "ticks": ""
            },
            "type": "choropleth"
           }
          ],
          "contour": [
           {
            "colorbar": {
             "outlinewidth": 0,
             "ticks": ""
            },
            "colorscale": [
             [
              0,
              "#0d0887"
             ],
             [
              0.1111111111111111,
              "#46039f"
             ],
             [
              0.2222222222222222,
              "#7201a8"
             ],
             [
              0.3333333333333333,
              "#9c179e"
             ],
             [
              0.4444444444444444,
              "#bd3786"
             ],
             [
              0.5555555555555556,
              "#d8576b"
             ],
             [
              0.6666666666666666,
              "#ed7953"
             ],
             [
              0.7777777777777778,
              "#fb9f3a"
             ],
             [
              0.8888888888888888,
              "#fdca26"
             ],
             [
              1,
              "#f0f921"
             ]
            ],
            "type": "contour"
           }
          ],
          "contourcarpet": [
           {
            "colorbar": {
             "outlinewidth": 0,
             "ticks": ""
            },
            "type": "contourcarpet"
           }
          ],
          "heatmap": [
           {
            "colorbar": {
             "outlinewidth": 0,
             "ticks": ""
            },
            "colorscale": [
             [
              0,
              "#0d0887"
             ],
             [
              0.1111111111111111,
              "#46039f"
             ],
             [
              0.2222222222222222,
              "#7201a8"
             ],
             [
              0.3333333333333333,
              "#9c179e"
             ],
             [
              0.4444444444444444,
              "#bd3786"
             ],
             [
              0.5555555555555556,
              "#d8576b"
             ],
             [
              0.6666666666666666,
              "#ed7953"
             ],
             [
              0.7777777777777778,
              "#fb9f3a"
             ],
             [
              0.8888888888888888,
              "#fdca26"
             ],
             [
              1,
              "#f0f921"
             ]
            ],
            "type": "heatmap"
           }
          ],
          "histogram": [
           {
            "marker": {
             "pattern": {
              "fillmode": "overlay",
              "size": 10,
              "solidity": 0.2
             }
            },
            "type": "histogram"
           }
          ],
          "histogram2d": [
           {
            "colorbar": {
             "outlinewidth": 0,
             "ticks": ""
            },
            "colorscale": [
             [
              0,
              "#0d0887"
             ],
             [
              0.1111111111111111,
              "#46039f"
             ],
             [
              0.2222222222222222,
              "#7201a8"
             ],
             [
              0.3333333333333333,
              "#9c179e"
             ],
             [
              0.4444444444444444,
              "#bd3786"
             ],
             [
              0.5555555555555556,
              "#d8576b"
             ],
             [
              0.6666666666666666,
              "#ed7953"
             ],
             [
              0.7777777777777778,
              "#fb9f3a"
             ],
             [
              0.8888888888888888,
              "#fdca26"
             ],
             [
              1,
              "#f0f921"
             ]
            ],
            "type": "histogram2d"
           }
          ],
          "histogram2dcontour": [
           {
            "colorbar": {
             "outlinewidth": 0,
             "ticks": ""
            },
            "colorscale": [
             [
              0,
              "#0d0887"
             ],
             [
              0.1111111111111111,
              "#46039f"
             ],
             [
              0.2222222222222222,
              "#7201a8"
             ],
             [
              0.3333333333333333,
              "#9c179e"
             ],
             [
              0.4444444444444444,
              "#bd3786"
             ],
             [
              0.5555555555555556,
              "#d8576b"
             ],
             [
              0.6666666666666666,
              "#ed7953"
             ],
             [
              0.7777777777777778,
              "#fb9f3a"
             ],
             [
              0.8888888888888888,
              "#fdca26"
             ],
             [
              1,
              "#f0f921"
             ]
            ],
            "type": "histogram2dcontour"
           }
          ],
          "mesh3d": [
           {
            "colorbar": {
             "outlinewidth": 0,
             "ticks": ""
            },
            "type": "mesh3d"
           }
          ],
          "parcoords": [
           {
            "line": {
             "colorbar": {
              "outlinewidth": 0,
              "ticks": ""
             }
            },
            "type": "parcoords"
           }
          ],
          "pie": [
           {
            "automargin": true,
            "type": "pie"
           }
          ],
          "scatter": [
           {
            "fillpattern": {
             "fillmode": "overlay",
             "size": 10,
             "solidity": 0.2
            },
            "type": "scatter"
           }
          ],
          "scatter3d": [
           {
            "line": {
             "colorbar": {
              "outlinewidth": 0,
              "ticks": ""
             }
            },
            "marker": {
             "colorbar": {
              "outlinewidth": 0,
              "ticks": ""
             }
            },
            "type": "scatter3d"
           }
          ],
          "scattercarpet": [
           {
            "marker": {
             "colorbar": {
              "outlinewidth": 0,
              "ticks": ""
             }
            },
            "type": "scattercarpet"
           }
          ],
          "scattergeo": [
           {
            "marker": {
             "colorbar": {
              "outlinewidth": 0,
              "ticks": ""
             }
            },
            "type": "scattergeo"
           }
          ],
          "scattergl": [
           {
            "marker": {
             "colorbar": {
              "outlinewidth": 0,
              "ticks": ""
             }
            },
            "type": "scattergl"
           }
          ],
          "scattermap": [
           {
            "marker": {
             "colorbar": {
              "outlinewidth": 0,
              "ticks": ""
             }
            },
            "type": "scattermap"
           }
          ],
          "scattermapbox": [
           {
            "marker": {
             "colorbar": {
              "outlinewidth": 0,
              "ticks": ""
             }
            },
            "type": "scattermapbox"
           }
          ],
          "scatterpolar": [
           {
            "marker": {
             "colorbar": {
              "outlinewidth": 0,
              "ticks": ""
             }
            },
            "type": "scatterpolar"
           }
          ],
          "scatterpolargl": [
           {
            "marker": {
             "colorbar": {
              "outlinewidth": 0,
              "ticks": ""
             }
            },
            "type": "scatterpolargl"
           }
          ],
          "scatterternary": [
           {
            "marker": {
             "colorbar": {
              "outlinewidth": 0,
              "ticks": ""
             }
            },
            "type": "scatterternary"
           }
          ],
          "surface": [
           {
            "colorbar": {
             "outlinewidth": 0,
             "ticks": ""
            },
            "colorscale": [
             [
              0,
              "#0d0887"
             ],
             [
              0.1111111111111111,
              "#46039f"
             ],
             [
              0.2222222222222222,
              "#7201a8"
             ],
             [
              0.3333333333333333,
              "#9c179e"
             ],
             [
              0.4444444444444444,
              "#bd3786"
             ],
             [
              0.5555555555555556,
              "#d8576b"
             ],
             [
              0.6666666666666666,
              "#ed7953"
             ],
             [
              0.7777777777777778,
              "#fb9f3a"
             ],
             [
              0.8888888888888888,
              "#fdca26"
             ],
             [
              1,
              "#f0f921"
             ]
            ],
            "type": "surface"
           }
          ],
          "table": [
           {
            "cells": {
             "fill": {
              "color": "#EBF0F8"
             },
             "line": {
              "color": "white"
             }
            },
            "header": {
             "fill": {
              "color": "#C8D4E3"
             },
             "line": {
              "color": "white"
             }
            },
            "type": "table"
           }
          ]
         },
         "layout": {
          "annotationdefaults": {
           "arrowcolor": "#2a3f5f",
           "arrowhead": 0,
           "arrowwidth": 1
          },
          "autotypenumbers": "strict",
          "coloraxis": {
           "colorbar": {
            "outlinewidth": 0,
            "ticks": ""
           }
          },
          "colorscale": {
           "diverging": [
            [
             0,
             "#8e0152"
            ],
            [
             0.1,
             "#c51b7d"
            ],
            [
             0.2,
             "#de77ae"
            ],
            [
             0.3,
             "#f1b6da"
            ],
            [
             0.4,
             "#fde0ef"
            ],
            [
             0.5,
             "#f7f7f7"
            ],
            [
             0.6,
             "#e6f5d0"
            ],
            [
             0.7,
             "#b8e186"
            ],
            [
             0.8,
             "#7fbc41"
            ],
            [
             0.9,
             "#4d9221"
            ],
            [
             1,
             "#276419"
            ]
           ],
           "sequential": [
            [
             0,
             "#0d0887"
            ],
            [
             0.1111111111111111,
             "#46039f"
            ],
            [
             0.2222222222222222,
             "#7201a8"
            ],
            [
             0.3333333333333333,
             "#9c179e"
            ],
            [
             0.4444444444444444,
             "#bd3786"
            ],
            [
             0.5555555555555556,
             "#d8576b"
            ],
            [
             0.6666666666666666,
             "#ed7953"
            ],
            [
             0.7777777777777778,
             "#fb9f3a"
            ],
            [
             0.8888888888888888,
             "#fdca26"
            ],
            [
             1,
             "#f0f921"
            ]
           ],
           "sequentialminus": [
            [
             0,
             "#0d0887"
            ],
            [
             0.1111111111111111,
             "#46039f"
            ],
            [
             0.2222222222222222,
             "#7201a8"
            ],
            [
             0.3333333333333333,
             "#9c179e"
            ],
            [
             0.4444444444444444,
             "#bd3786"
            ],
            [
             0.5555555555555556,
             "#d8576b"
            ],
            [
             0.6666666666666666,
             "#ed7953"
            ],
            [
             0.7777777777777778,
             "#fb9f3a"
            ],
            [
             0.8888888888888888,
             "#fdca26"
            ],
            [
             1,
             "#f0f921"
            ]
           ]
          },
          "colorway": [
           "#636efa",
           "#EF553B",
           "#00cc96",
           "#ab63fa",
           "#FFA15A",
           "#19d3f3",
           "#FF6692",
           "#B6E880",
           "#FF97FF",
           "#FECB52"
          ],
          "font": {
           "color": "#2a3f5f"
          },
          "geo": {
           "bgcolor": "white",
           "lakecolor": "white",
           "landcolor": "#E5ECF6",
           "showlakes": true,
           "showland": true,
           "subunitcolor": "white"
          },
          "hoverlabel": {
           "align": "left"
          },
          "hovermode": "closest",
          "mapbox": {
           "style": "light"
          },
          "paper_bgcolor": "white",
          "plot_bgcolor": "#E5ECF6",
          "polar": {
           "angularaxis": {
            "gridcolor": "white",
            "linecolor": "white",
            "ticks": ""
           },
           "bgcolor": "#E5ECF6",
           "radialaxis": {
            "gridcolor": "white",
            "linecolor": "white",
            "ticks": ""
           }
          },
          "scene": {
           "xaxis": {
            "backgroundcolor": "#E5ECF6",
            "gridcolor": "white",
            "gridwidth": 2,
            "linecolor": "white",
            "showbackground": true,
            "ticks": "",
            "zerolinecolor": "white"
           },
           "yaxis": {
            "backgroundcolor": "#E5ECF6",
            "gridcolor": "white",
            "gridwidth": 2,
            "linecolor": "white",
            "showbackground": true,
            "ticks": "",
            "zerolinecolor": "white"
           },
           "zaxis": {
            "backgroundcolor": "#E5ECF6",
            "gridcolor": "white",
            "gridwidth": 2,
            "linecolor": "white",
            "showbackground": true,
            "ticks": "",
            "zerolinecolor": "white"
           }
          },
          "shapedefaults": {
           "line": {
            "color": "#2a3f5f"
           }
          },
          "ternary": {
           "aaxis": {
            "gridcolor": "white",
            "linecolor": "white",
            "ticks": ""
           },
           "baxis": {
            "gridcolor": "white",
            "linecolor": "white",
            "ticks": ""
           },
           "bgcolor": "#E5ECF6",
           "caxis": {
            "gridcolor": "white",
            "linecolor": "white",
            "ticks": ""
           }
          },
          "title": {
           "x": 0.05
          },
          "xaxis": {
           "automargin": true,
           "gridcolor": "white",
           "linecolor": "white",
           "ticks": "",
           "title": {
            "standoff": 15
           },
           "zerolinecolor": "white",
           "zerolinewidth": 2
          },
          "yaxis": {
           "automargin": true,
           "gridcolor": "white",
           "linecolor": "white",
           "ticks": "",
           "title": {
            "standoff": 15
           },
           "zerolinecolor": "white",
           "zerolinewidth": 2
          }
         }
        },
        "xaxis": {
         "anchor": "y",
         "domain": [
          0,
          1
         ],
         "title": {
          "text": "año"
         }
        },
        "yaxis": {
         "anchor": "x",
         "domain": [
          0,
          1
         ],
         "title": {
          "text": "value"
         }
        }
       }
      }
     },
     "metadata": {},
     "output_type": "display_data"
    }
   ],
   "source": [
    "filter_ = 'all'\n",
    "\n",
    "# Data filters.\n",
    "default_filter = ['numero de cápitas pagadas (subsidiado)', 'numero de cápitas pagadas (contributivo)']\n",
    "filters = {\n",
    "    'subsidiado' : ['numero de cápitas pagadas (subsidiado)'],\n",
    "    'contributivo' : ['numero de cápitas pagadas (contributivo)'],\n",
    "}\n",
    "\n",
    "# Selecting the data that will be used as y axis.\n",
    "y_axis_data = filters.get('', default_filter)\n",
    "\n",
    "# Plotting the data.\n",
    "px.bar(\n",
    "    data,\n",
    "    x='año',\n",
    "    y= y_axis_data,\n",
    ")"
   ]
  },
  {
   "cell_type": "markdown",
   "metadata": {},
   "source": [
    "# ONE 1"
   ]
  },
  {
   "cell_type": "code",
   "execution_count": 39,
   "metadata": {},
   "outputs": [
    {
     "data": {
      "text/html": [
       "<div>\n",
       "<style scoped>\n",
       "    .dataframe tbody tr th:only-of-type {\n",
       "        vertical-align: middle;\n",
       "    }\n",
       "\n",
       "    .dataframe tbody tr th {\n",
       "        vertical-align: top;\n",
       "    }\n",
       "\n",
       "    .dataframe thead th {\n",
       "        text-align: right;\n",
       "    }\n",
       "</style>\n",
       "<table border=\"1\" class=\"dataframe\">\n",
       "  <thead>\n",
       "    <tr style=\"text-align: right;\">\n",
       "      <th></th>\n",
       "      <th>Unnamed: 0</th>\n",
       "      <th>año</th>\n",
       "      <th>total  (total )</th>\n",
       "      <th>total  (hombres)</th>\n",
       "      <th>total  (mujeres)</th>\n",
       "      <th>régimen subsidiado (total )</th>\n",
       "      <th>régimen subsidiado (hombres )</th>\n",
       "      <th>régimen subsidiado (mujeres )</th>\n",
       "      <th>régimen contributivo (total )</th>\n",
       "      <th>régimen contributivo (hombres )</th>\n",
       "      <th>régimen contributivo (mujeres )</th>\n",
       "    </tr>\n",
       "  </thead>\n",
       "  <tbody>\n",
       "    <tr>\n",
       "      <th>0</th>\n",
       "      <td>1</td>\n",
       "      <td>2007</td>\n",
       "      <td>2559117</td>\n",
       "      <td>1272227</td>\n",
       "      <td>1286890</td>\n",
       "      <td>1081936</td>\n",
       "      <td>479821</td>\n",
       "      <td>602115</td>\n",
       "      <td>1477181</td>\n",
       "      <td>792406</td>\n",
       "      <td>684775</td>\n",
       "    </tr>\n",
       "    <tr>\n",
       "      <th>1</th>\n",
       "      <td>2</td>\n",
       "      <td>2008</td>\n",
       "      <td>2916902</td>\n",
       "      <td>1435763</td>\n",
       "      <td>1481139</td>\n",
       "      <td>1224643</td>\n",
       "      <td>545438</td>\n",
       "      <td>679205</td>\n",
       "      <td>1692259</td>\n",
       "      <td>890325</td>\n",
       "      <td>801934</td>\n",
       "    </tr>\n",
       "    <tr>\n",
       "      <th>2</th>\n",
       "      <td>3</td>\n",
       "      <td>2009</td>\n",
       "      <td>3492524</td>\n",
       "      <td>1694440</td>\n",
       "      <td>1798084</td>\n",
       "      <td>1404225</td>\n",
       "      <td>615631</td>\n",
       "      <td>788594</td>\n",
       "      <td>2088299</td>\n",
       "      <td>1078809</td>\n",
       "      <td>1009490</td>\n",
       "    </tr>\n",
       "    <tr>\n",
       "      <th>3</th>\n",
       "      <td>4</td>\n",
       "      <td>2010</td>\n",
       "      <td>4377869</td>\n",
       "      <td>2114762</td>\n",
       "      <td>2263107</td>\n",
       "      <td>2013786</td>\n",
       "      <td>904636</td>\n",
       "      <td>1109150</td>\n",
       "      <td>2364083</td>\n",
       "      <td>1210126</td>\n",
       "      <td>1153957</td>\n",
       "    </tr>\n",
       "    <tr>\n",
       "      <th>4</th>\n",
       "      <td>5</td>\n",
       "      <td>2011</td>\n",
       "      <td>4520850</td>\n",
       "      <td>2178591</td>\n",
       "      <td>2342259</td>\n",
       "      <td>2003427</td>\n",
       "      <td>899174</td>\n",
       "      <td>1104253</td>\n",
       "      <td>2517423</td>\n",
       "      <td>1279417</td>\n",
       "      <td>1238006</td>\n",
       "    </tr>\n",
       "    <tr>\n",
       "      <th>5</th>\n",
       "      <td>6</td>\n",
       "      <td>2012</td>\n",
       "      <td>4991762</td>\n",
       "      <td>2392155</td>\n",
       "      <td>2599607</td>\n",
       "      <td>2303351</td>\n",
       "      <td>1031367</td>\n",
       "      <td>1271984</td>\n",
       "      <td>2688411</td>\n",
       "      <td>1360788</td>\n",
       "      <td>1327623</td>\n",
       "    </tr>\n",
       "    <tr>\n",
       "      <th>6</th>\n",
       "      <td>7</td>\n",
       "      <td>2013</td>\n",
       "      <td>5652729</td>\n",
       "      <td>2705832</td>\n",
       "      <td>2946897</td>\n",
       "      <td>2751753</td>\n",
       "      <td>1243431</td>\n",
       "      <td>1508322</td>\n",
       "      <td>2900976</td>\n",
       "      <td>1462401</td>\n",
       "      <td>1438575</td>\n",
       "    </tr>\n",
       "    <tr>\n",
       "      <th>7</th>\n",
       "      <td>8</td>\n",
       "      <td>2014</td>\n",
       "      <td>6157245</td>\n",
       "      <td>2978843</td>\n",
       "      <td>3178402</td>\n",
       "      <td>3015646</td>\n",
       "      <td>1400518</td>\n",
       "      <td>1615128</td>\n",
       "      <td>3141599</td>\n",
       "      <td>1578325</td>\n",
       "      <td>1563274</td>\n",
       "    </tr>\n",
       "    <tr>\n",
       "      <th>8</th>\n",
       "      <td>9</td>\n",
       "      <td>2015</td>\n",
       "      <td>6657243</td>\n",
       "      <td>3247604</td>\n",
       "      <td>3409639</td>\n",
       "      <td>3317405</td>\n",
       "      <td>1572793</td>\n",
       "      <td>1744612</td>\n",
       "      <td>3339838</td>\n",
       "      <td>1674811</td>\n",
       "      <td>1665027</td>\n",
       "    </tr>\n",
       "    <tr>\n",
       "      <th>9</th>\n",
       "      <td>10</td>\n",
       "      <td>2016</td>\n",
       "      <td>6938356</td>\n",
       "      <td>3384848</td>\n",
       "      <td>3553508</td>\n",
       "      <td>3347068</td>\n",
       "      <td>1575598</td>\n",
       "      <td>1771470</td>\n",
       "      <td>3591288</td>\n",
       "      <td>1809250</td>\n",
       "      <td>1782038</td>\n",
       "    </tr>\n",
       "    <tr>\n",
       "      <th>10</th>\n",
       "      <td>11</td>\n",
       "      <td>2017</td>\n",
       "      <td>7449280</td>\n",
       "      <td>3655041</td>\n",
       "      <td>3794239</td>\n",
       "      <td>3546688</td>\n",
       "      <td>1677875</td>\n",
       "      <td>1868813</td>\n",
       "      <td>3902592</td>\n",
       "      <td>1977166</td>\n",
       "      <td>1925426</td>\n",
       "    </tr>\n",
       "    <tr>\n",
       "      <th>11</th>\n",
       "      <td>12</td>\n",
       "      <td>2018</td>\n",
       "      <td>7774137</td>\n",
       "      <td>3808361</td>\n",
       "      <td>3965776</td>\n",
       "      <td>3620150</td>\n",
       "      <td>1712181</td>\n",
       "      <td>1907969</td>\n",
       "      <td>4153987</td>\n",
       "      <td>2096180</td>\n",
       "      <td>2057807</td>\n",
       "    </tr>\n",
       "    <tr>\n",
       "      <th>12</th>\n",
       "      <td>13</td>\n",
       "      <td>2019</td>\n",
       "      <td>7954923</td>\n",
       "      <td>3884741</td>\n",
       "      <td>4070182</td>\n",
       "      <td>3726262</td>\n",
       "      <td>1758351</td>\n",
       "      <td>1967911</td>\n",
       "      <td>4228661</td>\n",
       "      <td>2126390</td>\n",
       "      <td>2102271</td>\n",
       "    </tr>\n",
       "    <tr>\n",
       "      <th>13</th>\n",
       "      <td>14</td>\n",
       "      <td>2020</td>\n",
       "      <td>9961742</td>\n",
       "      <td>4961110</td>\n",
       "      <td>5000632</td>\n",
       "      <td>5746839</td>\n",
       "      <td>2853424</td>\n",
       "      <td>2893415</td>\n",
       "      <td>4214903</td>\n",
       "      <td>2107686</td>\n",
       "      <td>2107217</td>\n",
       "    </tr>\n",
       "    <tr>\n",
       "      <th>14</th>\n",
       "      <td>15</td>\n",
       "      <td>2021</td>\n",
       "      <td>10032808</td>\n",
       "      <td>4997908</td>\n",
       "      <td>5034900</td>\n",
       "      <td>5747449</td>\n",
       "      <td>2856987</td>\n",
       "      <td>2890462</td>\n",
       "      <td>4285359</td>\n",
       "      <td>2140921</td>\n",
       "      <td>2144438</td>\n",
       "    </tr>\n",
       "    <tr>\n",
       "      <th>15</th>\n",
       "      <td>19</td>\n",
       "      <td>2022</td>\n",
       "      <td>10339111</td>\n",
       "      <td>5151859</td>\n",
       "      <td>5187252</td>\n",
       "      <td>5770201</td>\n",
       "      <td>2873492</td>\n",
       "      <td>2896709</td>\n",
       "      <td>4568910</td>\n",
       "      <td>2278367</td>\n",
       "      <td>2290543</td>\n",
       "    </tr>\n",
       "    <tr>\n",
       "      <th>16</th>\n",
       "      <td>23</td>\n",
       "      <td>2023</td>\n",
       "      <td>10267254</td>\n",
       "      <td>5109709</td>\n",
       "      <td>5157545</td>\n",
       "      <td>5690186</td>\n",
       "      <td>2824789</td>\n",
       "      <td>2865397</td>\n",
       "      <td>4577068</td>\n",
       "      <td>2284920</td>\n",
       "      <td>2292148</td>\n",
       "    </tr>\n",
       "  </tbody>\n",
       "</table>\n",
       "</div>"
      ],
      "text/plain": [
       "    Unnamed: 0   año  total  (total )  total  (hombres)  total  (mujeres)  \\\n",
       "0            1  2007          2559117           1272227           1286890   \n",
       "1            2  2008          2916902           1435763           1481139   \n",
       "2            3  2009          3492524           1694440           1798084   \n",
       "3            4  2010          4377869           2114762           2263107   \n",
       "4            5  2011          4520850           2178591           2342259   \n",
       "5            6  2012          4991762           2392155           2599607   \n",
       "6            7  2013          5652729           2705832           2946897   \n",
       "7            8  2014          6157245           2978843           3178402   \n",
       "8            9  2015          6657243           3247604           3409639   \n",
       "9           10  2016          6938356           3384848           3553508   \n",
       "10          11  2017          7449280           3655041           3794239   \n",
       "11          12  2018          7774137           3808361           3965776   \n",
       "12          13  2019          7954923           3884741           4070182   \n",
       "13          14  2020          9961742           4961110           5000632   \n",
       "14          15  2021         10032808           4997908           5034900   \n",
       "15          19  2022         10339111           5151859           5187252   \n",
       "16          23  2023         10267254           5109709           5157545   \n",
       "\n",
       "    régimen subsidiado (total )  régimen subsidiado (hombres )  \\\n",
       "0                       1081936                         479821   \n",
       "1                       1224643                         545438   \n",
       "2                       1404225                         615631   \n",
       "3                       2013786                         904636   \n",
       "4                       2003427                         899174   \n",
       "5                       2303351                        1031367   \n",
       "6                       2751753                        1243431   \n",
       "7                       3015646                        1400518   \n",
       "8                       3317405                        1572793   \n",
       "9                       3347068                        1575598   \n",
       "10                      3546688                        1677875   \n",
       "11                      3620150                        1712181   \n",
       "12                      3726262                        1758351   \n",
       "13                      5746839                        2853424   \n",
       "14                      5747449                        2856987   \n",
       "15                      5770201                        2873492   \n",
       "16                      5690186                        2824789   \n",
       "\n",
       "    régimen subsidiado (mujeres )  régimen contributivo (total )  \\\n",
       "0                          602115                        1477181   \n",
       "1                          679205                        1692259   \n",
       "2                          788594                        2088299   \n",
       "3                         1109150                        2364083   \n",
       "4                         1104253                        2517423   \n",
       "5                         1271984                        2688411   \n",
       "6                         1508322                        2900976   \n",
       "7                         1615128                        3141599   \n",
       "8                         1744612                        3339838   \n",
       "9                         1771470                        3591288   \n",
       "10                        1868813                        3902592   \n",
       "11                        1907969                        4153987   \n",
       "12                        1967911                        4228661   \n",
       "13                        2893415                        4214903   \n",
       "14                        2890462                        4285359   \n",
       "15                        2896709                        4568910   \n",
       "16                        2865397                        4577068   \n",
       "\n",
       "    régimen contributivo (hombres )  régimen contributivo (mujeres )  \n",
       "0                            792406                           684775  \n",
       "1                            890325                           801934  \n",
       "2                           1078809                          1009490  \n",
       "3                           1210126                          1153957  \n",
       "4                           1279417                          1238006  \n",
       "5                           1360788                          1327623  \n",
       "6                           1462401                          1438575  \n",
       "7                           1578325                          1563274  \n",
       "8                           1674811                          1665027  \n",
       "9                           1809250                          1782038  \n",
       "10                          1977166                          1925426  \n",
       "11                          2096180                          2057807  \n",
       "12                          2126390                          2102271  \n",
       "13                          2107686                          2107217  \n",
       "14                          2140921                          2144438  \n",
       "15                          2278367                          2290543  \n",
       "16                          2284920                          2292148  "
      ]
     },
     "execution_count": 39,
     "metadata": {},
     "output_type": "execute_result"
    }
   ],
   "source": [
    "data = pd.read_excel('../data/processed/one/one 1.xlsx')\n",
    "data"
   ]
  },
  {
   "cell_type": "code",
   "execution_count": 47,
   "metadata": {},
   "outputs": [
    {
     "data": {
      "text/plain": [
       "Index(['Unnamed: 0', 'año', 'total  (total )', 'total  (hombres)',\n",
       "       'total  (mujeres)', 'régimen subsidiado (total )',\n",
       "       'régimen subsidiado (hombres )', 'régimen subsidiado (mujeres )',\n",
       "       'régimen contributivo (total )', 'régimen contributivo (hombres )',\n",
       "       'régimen contributivo (mujeres )'],\n",
       "      dtype='object')"
      ]
     },
     "execution_count": 47,
     "metadata": {},
     "output_type": "execute_result"
    }
   ],
   "source": [
    "data.columns"
   ]
  },
  {
   "cell_type": "code",
   "execution_count": null,
   "metadata": {},
   "outputs": [
    {
     "data": {
      "application/vnd.plotly.v1+json": {
       "config": {
        "plotlyServerURL": "https://plot.ly"
       },
       "data": [
        {
         "alignmentgroup": "True",
         "hovertemplate": "variable=total  (hombres)<br>año=%{x}<br>value=%{y}<extra></extra>",
         "legendgroup": "total  (hombres)",
         "marker": {
          "color": "#636efa",
          "pattern": {
           "shape": ""
          }
         },
         "name": "total  (hombres)",
         "offsetgroup": "total  (hombres)",
         "orientation": "v",
         "showlegend": true,
         "textposition": "auto",
         "type": "bar",
         "x": {
          "bdata": "1wfYB9kH2gfbB9wH3QfeB98H4AfhB+IH4wfkB+UH5gfnBw==",
          "dtype": "i2"
         },
         "xaxis": "x",
         "y": {
          "bdata": "o2kTAHPoFQDo2hkAykQgAB8+IQBbgCQAqEkpABt0LQD0jTEAEKYzAIHFNwBpHDoAxUY7AFazSwAUQ0wAc5xOAM33TQA=",
          "dtype": "i4"
         },
         "yaxis": "y"
        },
        {
         "alignmentgroup": "True",
         "hovertemplate": "variable=total  (mujeres)<br>año=%{x}<br>value=%{y}<extra></extra>",
         "legendgroup": "total  (mujeres)",
         "marker": {
          "color": "#EF553B",
          "pattern": {
           "shape": ""
          }
         },
         "name": "total  (mujeres)",
         "offsetgroup": "total  (mujeres)",
         "orientation": "v",
         "showlegend": true,
         "textposition": "auto",
         "type": "bar",
         "x": {
          "bdata": "1wfYB9kH2gfbB9wH3QfeB98H4AfhB+IH4wfkB+UH5gfnBw==",
          "dtype": "i2"
         },
         "xaxis": "x",
         "y": {
          "bdata": "6qITALOZFgDEbxsAQ4giAHO9IwC3qicAUfcsAKJ/MADnBjQA5Dg2AD/lOQBQgzwAJhs+ALhNTACU00wAtCZPAKmyTgA=",
          "dtype": "i4"
         },
         "yaxis": "y"
        }
       ],
       "layout": {
        "barmode": "group",
        "legend": {
         "title": {
          "text": "variable"
         },
         "tracegroupgap": 0
        },
        "margin": {
         "t": 60
        },
        "template": {
         "data": {
          "bar": [
           {
            "error_x": {
             "color": "#2a3f5f"
            },
            "error_y": {
             "color": "#2a3f5f"
            },
            "marker": {
             "line": {
              "color": "#E5ECF6",
              "width": 0.5
             },
             "pattern": {
              "fillmode": "overlay",
              "size": 10,
              "solidity": 0.2
             }
            },
            "type": "bar"
           }
          ],
          "barpolar": [
           {
            "marker": {
             "line": {
              "color": "#E5ECF6",
              "width": 0.5
             },
             "pattern": {
              "fillmode": "overlay",
              "size": 10,
              "solidity": 0.2
             }
            },
            "type": "barpolar"
           }
          ],
          "carpet": [
           {
            "aaxis": {
             "endlinecolor": "#2a3f5f",
             "gridcolor": "white",
             "linecolor": "white",
             "minorgridcolor": "white",
             "startlinecolor": "#2a3f5f"
            },
            "baxis": {
             "endlinecolor": "#2a3f5f",
             "gridcolor": "white",
             "linecolor": "white",
             "minorgridcolor": "white",
             "startlinecolor": "#2a3f5f"
            },
            "type": "carpet"
           }
          ],
          "choropleth": [
           {
            "colorbar": {
             "outlinewidth": 0,
             "ticks": ""
            },
            "type": "choropleth"
           }
          ],
          "contour": [
           {
            "colorbar": {
             "outlinewidth": 0,
             "ticks": ""
            },
            "colorscale": [
             [
              0,
              "#0d0887"
             ],
             [
              0.1111111111111111,
              "#46039f"
             ],
             [
              0.2222222222222222,
              "#7201a8"
             ],
             [
              0.3333333333333333,
              "#9c179e"
             ],
             [
              0.4444444444444444,
              "#bd3786"
             ],
             [
              0.5555555555555556,
              "#d8576b"
             ],
             [
              0.6666666666666666,
              "#ed7953"
             ],
             [
              0.7777777777777778,
              "#fb9f3a"
             ],
             [
              0.8888888888888888,
              "#fdca26"
             ],
             [
              1,
              "#f0f921"
             ]
            ],
            "type": "contour"
           }
          ],
          "contourcarpet": [
           {
            "colorbar": {
             "outlinewidth": 0,
             "ticks": ""
            },
            "type": "contourcarpet"
           }
          ],
          "heatmap": [
           {
            "colorbar": {
             "outlinewidth": 0,
             "ticks": ""
            },
            "colorscale": [
             [
              0,
              "#0d0887"
             ],
             [
              0.1111111111111111,
              "#46039f"
             ],
             [
              0.2222222222222222,
              "#7201a8"
             ],
             [
              0.3333333333333333,
              "#9c179e"
             ],
             [
              0.4444444444444444,
              "#bd3786"
             ],
             [
              0.5555555555555556,
              "#d8576b"
             ],
             [
              0.6666666666666666,
              "#ed7953"
             ],
             [
              0.7777777777777778,
              "#fb9f3a"
             ],
             [
              0.8888888888888888,
              "#fdca26"
             ],
             [
              1,
              "#f0f921"
             ]
            ],
            "type": "heatmap"
           }
          ],
          "histogram": [
           {
            "marker": {
             "pattern": {
              "fillmode": "overlay",
              "size": 10,
              "solidity": 0.2
             }
            },
            "type": "histogram"
           }
          ],
          "histogram2d": [
           {
            "colorbar": {
             "outlinewidth": 0,
             "ticks": ""
            },
            "colorscale": [
             [
              0,
              "#0d0887"
             ],
             [
              0.1111111111111111,
              "#46039f"
             ],
             [
              0.2222222222222222,
              "#7201a8"
             ],
             [
              0.3333333333333333,
              "#9c179e"
             ],
             [
              0.4444444444444444,
              "#bd3786"
             ],
             [
              0.5555555555555556,
              "#d8576b"
             ],
             [
              0.6666666666666666,
              "#ed7953"
             ],
             [
              0.7777777777777778,
              "#fb9f3a"
             ],
             [
              0.8888888888888888,
              "#fdca26"
             ],
             [
              1,
              "#f0f921"
             ]
            ],
            "type": "histogram2d"
           }
          ],
          "histogram2dcontour": [
           {
            "colorbar": {
             "outlinewidth": 0,
             "ticks": ""
            },
            "colorscale": [
             [
              0,
              "#0d0887"
             ],
             [
              0.1111111111111111,
              "#46039f"
             ],
             [
              0.2222222222222222,
              "#7201a8"
             ],
             [
              0.3333333333333333,
              "#9c179e"
             ],
             [
              0.4444444444444444,
              "#bd3786"
             ],
             [
              0.5555555555555556,
              "#d8576b"
             ],
             [
              0.6666666666666666,
              "#ed7953"
             ],
             [
              0.7777777777777778,
              "#fb9f3a"
             ],
             [
              0.8888888888888888,
              "#fdca26"
             ],
             [
              1,
              "#f0f921"
             ]
            ],
            "type": "histogram2dcontour"
           }
          ],
          "mesh3d": [
           {
            "colorbar": {
             "outlinewidth": 0,
             "ticks": ""
            },
            "type": "mesh3d"
           }
          ],
          "parcoords": [
           {
            "line": {
             "colorbar": {
              "outlinewidth": 0,
              "ticks": ""
             }
            },
            "type": "parcoords"
           }
          ],
          "pie": [
           {
            "automargin": true,
            "type": "pie"
           }
          ],
          "scatter": [
           {
            "fillpattern": {
             "fillmode": "overlay",
             "size": 10,
             "solidity": 0.2
            },
            "type": "scatter"
           }
          ],
          "scatter3d": [
           {
            "line": {
             "colorbar": {
              "outlinewidth": 0,
              "ticks": ""
             }
            },
            "marker": {
             "colorbar": {
              "outlinewidth": 0,
              "ticks": ""
             }
            },
            "type": "scatter3d"
           }
          ],
          "scattercarpet": [
           {
            "marker": {
             "colorbar": {
              "outlinewidth": 0,
              "ticks": ""
             }
            },
            "type": "scattercarpet"
           }
          ],
          "scattergeo": [
           {
            "marker": {
             "colorbar": {
              "outlinewidth": 0,
              "ticks": ""
             }
            },
            "type": "scattergeo"
           }
          ],
          "scattergl": [
           {
            "marker": {
             "colorbar": {
              "outlinewidth": 0,
              "ticks": ""
             }
            },
            "type": "scattergl"
           }
          ],
          "scattermap": [
           {
            "marker": {
             "colorbar": {
              "outlinewidth": 0,
              "ticks": ""
             }
            },
            "type": "scattermap"
           }
          ],
          "scattermapbox": [
           {
            "marker": {
             "colorbar": {
              "outlinewidth": 0,
              "ticks": ""
             }
            },
            "type": "scattermapbox"
           }
          ],
          "scatterpolar": [
           {
            "marker": {
             "colorbar": {
              "outlinewidth": 0,
              "ticks": ""
             }
            },
            "type": "scatterpolar"
           }
          ],
          "scatterpolargl": [
           {
            "marker": {
             "colorbar": {
              "outlinewidth": 0,
              "ticks": ""
             }
            },
            "type": "scatterpolargl"
           }
          ],
          "scatterternary": [
           {
            "marker": {
             "colorbar": {
              "outlinewidth": 0,
              "ticks": ""
             }
            },
            "type": "scatterternary"
           }
          ],
          "surface": [
           {
            "colorbar": {
             "outlinewidth": 0,
             "ticks": ""
            },
            "colorscale": [
             [
              0,
              "#0d0887"
             ],
             [
              0.1111111111111111,
              "#46039f"
             ],
             [
              0.2222222222222222,
              "#7201a8"
             ],
             [
              0.3333333333333333,
              "#9c179e"
             ],
             [
              0.4444444444444444,
              "#bd3786"
             ],
             [
              0.5555555555555556,
              "#d8576b"
             ],
             [
              0.6666666666666666,
              "#ed7953"
             ],
             [
              0.7777777777777778,
              "#fb9f3a"
             ],
             [
              0.8888888888888888,
              "#fdca26"
             ],
             [
              1,
              "#f0f921"
             ]
            ],
            "type": "surface"
           }
          ],
          "table": [
           {
            "cells": {
             "fill": {
              "color": "#EBF0F8"
             },
             "line": {
              "color": "white"
             }
            },
            "header": {
             "fill": {
              "color": "#C8D4E3"
             },
             "line": {
              "color": "white"
             }
            },
            "type": "table"
           }
          ]
         },
         "layout": {
          "annotationdefaults": {
           "arrowcolor": "#2a3f5f",
           "arrowhead": 0,
           "arrowwidth": 1
          },
          "autotypenumbers": "strict",
          "coloraxis": {
           "colorbar": {
            "outlinewidth": 0,
            "ticks": ""
           }
          },
          "colorscale": {
           "diverging": [
            [
             0,
             "#8e0152"
            ],
            [
             0.1,
             "#c51b7d"
            ],
            [
             0.2,
             "#de77ae"
            ],
            [
             0.3,
             "#f1b6da"
            ],
            [
             0.4,
             "#fde0ef"
            ],
            [
             0.5,
             "#f7f7f7"
            ],
            [
             0.6,
             "#e6f5d0"
            ],
            [
             0.7,
             "#b8e186"
            ],
            [
             0.8,
             "#7fbc41"
            ],
            [
             0.9,
             "#4d9221"
            ],
            [
             1,
             "#276419"
            ]
           ],
           "sequential": [
            [
             0,
             "#0d0887"
            ],
            [
             0.1111111111111111,
             "#46039f"
            ],
            [
             0.2222222222222222,
             "#7201a8"
            ],
            [
             0.3333333333333333,
             "#9c179e"
            ],
            [
             0.4444444444444444,
             "#bd3786"
            ],
            [
             0.5555555555555556,
             "#d8576b"
            ],
            [
             0.6666666666666666,
             "#ed7953"
            ],
            [
             0.7777777777777778,
             "#fb9f3a"
            ],
            [
             0.8888888888888888,
             "#fdca26"
            ],
            [
             1,
             "#f0f921"
            ]
           ],
           "sequentialminus": [
            [
             0,
             "#0d0887"
            ],
            [
             0.1111111111111111,
             "#46039f"
            ],
            [
             0.2222222222222222,
             "#7201a8"
            ],
            [
             0.3333333333333333,
             "#9c179e"
            ],
            [
             0.4444444444444444,
             "#bd3786"
            ],
            [
             0.5555555555555556,
             "#d8576b"
            ],
            [
             0.6666666666666666,
             "#ed7953"
            ],
            [
             0.7777777777777778,
             "#fb9f3a"
            ],
            [
             0.8888888888888888,
             "#fdca26"
            ],
            [
             1,
             "#f0f921"
            ]
           ]
          },
          "colorway": [
           "#636efa",
           "#EF553B",
           "#00cc96",
           "#ab63fa",
           "#FFA15A",
           "#19d3f3",
           "#FF6692",
           "#B6E880",
           "#FF97FF",
           "#FECB52"
          ],
          "font": {
           "color": "#2a3f5f"
          },
          "geo": {
           "bgcolor": "white",
           "lakecolor": "white",
           "landcolor": "#E5ECF6",
           "showlakes": true,
           "showland": true,
           "subunitcolor": "white"
          },
          "hoverlabel": {
           "align": "left"
          },
          "hovermode": "closest",
          "mapbox": {
           "style": "light"
          },
          "paper_bgcolor": "white",
          "plot_bgcolor": "#E5ECF6",
          "polar": {
           "angularaxis": {
            "gridcolor": "white",
            "linecolor": "white",
            "ticks": ""
           },
           "bgcolor": "#E5ECF6",
           "radialaxis": {
            "gridcolor": "white",
            "linecolor": "white",
            "ticks": ""
           }
          },
          "scene": {
           "xaxis": {
            "backgroundcolor": "#E5ECF6",
            "gridcolor": "white",
            "gridwidth": 2,
            "linecolor": "white",
            "showbackground": true,
            "ticks": "",
            "zerolinecolor": "white"
           },
           "yaxis": {
            "backgroundcolor": "#E5ECF6",
            "gridcolor": "white",
            "gridwidth": 2,
            "linecolor": "white",
            "showbackground": true,
            "ticks": "",
            "zerolinecolor": "white"
           },
           "zaxis": {
            "backgroundcolor": "#E5ECF6",
            "gridcolor": "white",
            "gridwidth": 2,
            "linecolor": "white",
            "showbackground": true,
            "ticks": "",
            "zerolinecolor": "white"
           }
          },
          "shapedefaults": {
           "line": {
            "color": "#2a3f5f"
           }
          },
          "ternary": {
           "aaxis": {
            "gridcolor": "white",
            "linecolor": "white",
            "ticks": ""
           },
           "baxis": {
            "gridcolor": "white",
            "linecolor": "white",
            "ticks": ""
           },
           "bgcolor": "#E5ECF6",
           "caxis": {
            "gridcolor": "white",
            "linecolor": "white",
            "ticks": ""
           }
          },
          "title": {
           "x": 0.05
          },
          "xaxis": {
           "automargin": true,
           "gridcolor": "white",
           "linecolor": "white",
           "ticks": "",
           "title": {
            "standoff": 15
           },
           "zerolinecolor": "white",
           "zerolinewidth": 2
          },
          "yaxis": {
           "automargin": true,
           "gridcolor": "white",
           "linecolor": "white",
           "ticks": "",
           "title": {
            "standoff": 15
           },
           "zerolinecolor": "white",
           "zerolinewidth": 2
          }
         }
        },
        "xaxis": {
         "anchor": "y",
         "domain": [
          0,
          1
         ],
         "title": {
          "text": "año"
         }
        },
        "yaxis": {
         "anchor": "x",
         "domain": [
          0,
          1
         ],
         "title": {
          "text": "value"
         }
        }
       }
      }
     },
     "metadata": {},
     "output_type": "display_data"
    }
   ],
   "source": [
    "filter_ = 'all'\n",
    "\n",
    "# Data filters.\n",
    "default_filter = ['total  (hombres)', 'total  (mujeres)']\n",
    "filters = {\n",
    "    'subsidiado' : ['régimen subsidiado (hombres )', 'régimen subsidiado (mujeres )'],\n",
    "    'contributivo' : ['régimen contributivo (hombres )', 'régimen contributivo (mujeres )'],\n",
    "}\n",
    "\n",
    "# Selecting the data that will be used as y axis.\n",
    "y_axis_data = filters.get('', default_filter)\n",
    "\n",
    "# Plotting the data.\n",
    "px.bar(\n",
    "    data,\n",
    "    x='año',\n",
    "    y=y_axis_data,\n",
    "    barmode='group'\n",
    ")"
   ]
  },
  {
   "cell_type": "markdown",
   "metadata": {},
   "source": []
  },
  {
   "cell_type": "code",
   "execution_count": null,
   "metadata": {},
   "outputs": [],
   "source": []
  },
  {
   "cell_type": "code",
   "execution_count": null,
   "metadata": {},
   "outputs": [],
   "source": []
  },
  {
   "cell_type": "code",
   "execution_count": null,
   "metadata": {},
   "outputs": [],
   "source": []
  }
 ],
 "metadata": {
  "kernelspec": {
   "display_name": ".venv",
   "language": "python",
   "name": "python3"
  },
  "language_info": {
   "codemirror_mode": {
    "name": "ipython",
    "version": 3
   },
   "file_extension": ".py",
   "mimetype": "text/x-python",
   "name": "python",
   "nbconvert_exporter": "python",
   "pygments_lexer": "ipython3",
   "version": "3.10.0"
  }
 },
 "nbformat": 4,
 "nbformat_minor": 2
}
